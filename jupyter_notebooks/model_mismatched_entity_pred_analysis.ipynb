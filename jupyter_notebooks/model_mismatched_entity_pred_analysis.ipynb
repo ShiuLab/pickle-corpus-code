{
 "cells": [
  {
   "cell_type": "markdown",
   "metadata": {},
   "source": [
    "# Model mismatched entity prediction analysis\n",
    "In this notebook, we'll dig deeper into why the SciERC model was able to outperform the GENIA model, even though the GENIA model has more of the PICKLE corpus' vocabulary in its own vocabulary."
   ]
  },
  {
   "cell_type": "markdown",
   "metadata": {},
   "source": [
    "The approach we'll take here is to use the entities from the gold standard (PICKLE), and look at, for each of GENIA and SciERC, which of those entities were correctly predicted and which ones were not. We'll then dig deeper into the trends of which ontology types correspond most to each category, to see if differences in ontological types are responsible for the mismatches."
   ]
  },
  {
   "cell_type": "markdown",
   "metadata": {},
   "source": [
    "The script `evaluate_model_output.py` contains an option, `--save_mismatches`, which is used to generate the output used in this notebook."
   ]
  },
  {
   "cell_type": "code",
   "execution_count": 39,
   "metadata": {},
   "outputs": [],
   "source": [
    "import pandas as pd\n",
    "import numpy as np\n",
    "import matplotlib.pyplot as plt\n",
    "%matplotlib inline\n",
    "plt.rcParams.update({'font.size': 14})\n",
    "import jsonlines\n",
    "from ast import literal_eval\n",
    "from collections import defaultdict, Counter"
   ]
  },
  {
   "cell_type": "markdown",
   "metadata": {},
   "source": [
    "## Reading in the mismatches"
   ]
  },
  {
   "cell_type": "code",
   "execution_count": 2,
   "metadata": {},
   "outputs": [],
   "source": [
    "all_models = pd.read_csv('../data/straying_off_topic_data/model_output/mismatch_analysis/all_dygiepp_models_mismatch_analysis_MISMATCHES.csv')"
   ]
  },
  {
   "cell_type": "code",
   "execution_count": 3,
   "metadata": {
    "scrolled": true
   },
   "outputs": [
    {
     "data": {
      "text/html": [
       "<div>\n",
       "<style scoped>\n",
       "    .dataframe tbody tr th:only-of-type {\n",
       "        vertical-align: middle;\n",
       "    }\n",
       "\n",
       "    .dataframe tbody tr th {\n",
       "        vertical-align: top;\n",
       "    }\n",
       "\n",
       "    .dataframe thead th {\n",
       "        text-align: right;\n",
       "    }\n",
       "</style>\n",
       "<table border=\"1\" class=\"dataframe\">\n",
       "  <thead>\n",
       "    <tr style=\"text-align: right;\">\n",
       "      <th></th>\n",
       "      <th>doc_key</th>\n",
       "      <th>mismatch_type</th>\n",
       "      <th>sent_num</th>\n",
       "      <th>ent_list</th>\n",
       "      <th>ent_type</th>\n",
       "      <th>model</th>\n",
       "    </tr>\n",
       "  </thead>\n",
       "  <tbody>\n",
       "    <tr>\n",
       "      <th>0</th>\n",
       "      <td>PMID1161793_abstract</td>\n",
       "      <td>1</td>\n",
       "      <td>0</td>\n",
       "      <td>[5, 6, 'Plant_hormone']</td>\n",
       "      <td>Plant_hormone</td>\n",
       "      <td>/mnt/ufs18/home-118/lotrecks/Shiu_lab/pickle-c...</td>\n",
       "    </tr>\n",
       "    <tr>\n",
       "      <th>1</th>\n",
       "      <td>PMID1161793_abstract</td>\n",
       "      <td>1</td>\n",
       "      <td>0</td>\n",
       "      <td>[8, 8, 'Plant_hormone']</td>\n",
       "      <td>Plant_hormone</td>\n",
       "      <td>/mnt/ufs18/home-118/lotrecks/Shiu_lab/pickle-c...</td>\n",
       "    </tr>\n",
       "    <tr>\n",
       "      <th>2</th>\n",
       "      <td>PMID1161793_abstract</td>\n",
       "      <td>1</td>\n",
       "      <td>0</td>\n",
       "      <td>[35, 35, 'Organic_compound_other']</td>\n",
       "      <td>Organic_compound_other</td>\n",
       "      <td>/mnt/ufs18/home-118/lotrecks/Shiu_lab/pickle-c...</td>\n",
       "    </tr>\n",
       "    <tr>\n",
       "      <th>3</th>\n",
       "      <td>PMID1161793_abstract</td>\n",
       "      <td>1</td>\n",
       "      <td>0</td>\n",
       "      <td>[59, 59, 'Organic_compound_other']</td>\n",
       "      <td>Organic_compound_other</td>\n",
       "      <td>/mnt/ufs18/home-118/lotrecks/Shiu_lab/pickle-c...</td>\n",
       "    </tr>\n",
       "    <tr>\n",
       "      <th>4</th>\n",
       "      <td>PMID1161793_abstract</td>\n",
       "      <td>1</td>\n",
       "      <td>0</td>\n",
       "      <td>[66, 66, 'Plant_hormone']</td>\n",
       "      <td>Plant_hormone</td>\n",
       "      <td>/mnt/ufs18/home-118/lotrecks/Shiu_lab/pickle-c...</td>\n",
       "    </tr>\n",
       "  </tbody>\n",
       "</table>\n",
       "</div>"
      ],
      "text/plain": [
       "                doc_key  mismatch_type  sent_num  \\\n",
       "0  PMID1161793_abstract              1         0   \n",
       "1  PMID1161793_abstract              1         0   \n",
       "2  PMID1161793_abstract              1         0   \n",
       "3  PMID1161793_abstract              1         0   \n",
       "4  PMID1161793_abstract              1         0   \n",
       "\n",
       "                             ent_list                ent_type  \\\n",
       "0             [5, 6, 'Plant_hormone']           Plant_hormone   \n",
       "1             [8, 8, 'Plant_hormone']           Plant_hormone   \n",
       "2  [35, 35, 'Organic_compound_other']  Organic_compound_other   \n",
       "3  [59, 59, 'Organic_compound_other']  Organic_compound_other   \n",
       "4           [66, 66, 'Plant_hormone']           Plant_hormone   \n",
       "\n",
       "                                               model  \n",
       "0  /mnt/ufs18/home-118/lotrecks/Shiu_lab/pickle-c...  \n",
       "1  /mnt/ufs18/home-118/lotrecks/Shiu_lab/pickle-c...  \n",
       "2  /mnt/ufs18/home-118/lotrecks/Shiu_lab/pickle-c...  \n",
       "3  /mnt/ufs18/home-118/lotrecks/Shiu_lab/pickle-c...  \n",
       "4  /mnt/ufs18/home-118/lotrecks/Shiu_lab/pickle-c...  "
      ]
     },
     "execution_count": 3,
     "metadata": {},
     "output_type": "execute_result"
    }
   ],
   "source": [
    "all_models.head()"
   ]
  },
  {
   "cell_type": "markdown",
   "metadata": {},
   "source": [
    "We only want to look at the full SciERC and GENIA models, so let's separate those out:"
   ]
  },
  {
   "cell_type": "code",
   "execution_count": 4,
   "metadata": {},
   "outputs": [
    {
     "data": {
      "text/plain": [
       "{'GENIA': '/mnt/ufs18/home-118/lotrecks/Shiu_lab/pickle-corpus-code/data/straying_off_topic_data/model_output/dygiepp/16Nov2022_FINAL_PERF/model_predictions/16Nov2022_final_perf_formatted_data_genia_predictions.jsonl',\n",
       " 'SciERC': '/mnt/ufs18/home-118/lotrecks/Shiu_lab/pickle-corpus-code/data/straying_off_topic_data/model_output/dygiepp/16Nov2022_FINAL_PERF/model_predictions/16Nov2022_final_perf_formatted_data_scierc_predictions.jsonl'}"
      ]
     },
     "execution_count": 4,
     "metadata": {},
     "output_type": "execute_result"
    }
   ],
   "source": [
    "keep = {'GENIA':all_models.model.unique()[2],\n",
    "       'SciERC':all_models.model.unique()[-1]}\n",
    "keep"
   ]
  },
  {
   "cell_type": "code",
   "execution_count": 5,
   "metadata": {},
   "outputs": [],
   "source": [
    "genia = all_models[all_models['model']==keep['GENIA']]\n",
    "scierc = all_models[all_models['model']==keep['SciERC']]"
   ]
  },
  {
   "cell_type": "markdown",
   "metadata": {},
   "source": [
    "Now, we want to make the same df as the original, excpet with `mismatch_type_GENIA` and `mismatch_type_SciERC` as columns (instead of one `mismatch_type` column and a `moddel` column). We can do this by merging the dataframes with suffixes on columns that differ, and then drop the model columns."
   ]
  },
  {
   "cell_type": "code",
   "execution_count": 6,
   "metadata": {},
   "outputs": [
    {
     "data": {
      "text/html": [
       "<div>\n",
       "<style scoped>\n",
       "    .dataframe tbody tr th:only-of-type {\n",
       "        vertical-align: middle;\n",
       "    }\n",
       "\n",
       "    .dataframe tbody tr th {\n",
       "        vertical-align: top;\n",
       "    }\n",
       "\n",
       "    .dataframe thead th {\n",
       "        text-align: right;\n",
       "    }\n",
       "</style>\n",
       "<table border=\"1\" class=\"dataframe\">\n",
       "  <thead>\n",
       "    <tr style=\"text-align: right;\">\n",
       "      <th></th>\n",
       "      <th>doc_key</th>\n",
       "      <th>mismatch_type_GENIA</th>\n",
       "      <th>sent_num</th>\n",
       "      <th>ent_list</th>\n",
       "      <th>ent_type</th>\n",
       "      <th>mismatch_type_SciERC</th>\n",
       "    </tr>\n",
       "  </thead>\n",
       "  <tbody>\n",
       "    <tr>\n",
       "      <th>0</th>\n",
       "      <td>PMID1161793_abstract</td>\n",
       "      <td>0</td>\n",
       "      <td>0</td>\n",
       "      <td>[0, 2, 'Multicellular_organism']</td>\n",
       "      <td>Multicellular_organism</td>\n",
       "      <td>0</td>\n",
       "    </tr>\n",
       "    <tr>\n",
       "      <th>1</th>\n",
       "      <td>PMID1161793_abstract</td>\n",
       "      <td>0</td>\n",
       "      <td>0</td>\n",
       "      <td>[5, 6, 'Plant_hormone']</td>\n",
       "      <td>Plant_hormone</td>\n",
       "      <td>1</td>\n",
       "    </tr>\n",
       "    <tr>\n",
       "      <th>2</th>\n",
       "      <td>PMID1161793_abstract</td>\n",
       "      <td>0</td>\n",
       "      <td>0</td>\n",
       "      <td>[8, 8, 'Plant_hormone']</td>\n",
       "      <td>Plant_hormone</td>\n",
       "      <td>1</td>\n",
       "    </tr>\n",
       "    <tr>\n",
       "      <th>3</th>\n",
       "      <td>PMID1161793_abstract</td>\n",
       "      <td>0</td>\n",
       "      <td>0</td>\n",
       "      <td>[11, 13, 'Organic_compound_other']</td>\n",
       "      <td>Organic_compound_other</td>\n",
       "      <td>0</td>\n",
       "    </tr>\n",
       "    <tr>\n",
       "      <th>4</th>\n",
       "      <td>PMID1161793_abstract</td>\n",
       "      <td>0</td>\n",
       "      <td>0</td>\n",
       "      <td>[15, 15, 'Organic_compound_other']</td>\n",
       "      <td>Organic_compound_other</td>\n",
       "      <td>1</td>\n",
       "    </tr>\n",
       "  </tbody>\n",
       "</table>\n",
       "</div>"
      ],
      "text/plain": [
       "                doc_key  mismatch_type_GENIA  sent_num  \\\n",
       "0  PMID1161793_abstract                    0         0   \n",
       "1  PMID1161793_abstract                    0         0   \n",
       "2  PMID1161793_abstract                    0         0   \n",
       "3  PMID1161793_abstract                    0         0   \n",
       "4  PMID1161793_abstract                    0         0   \n",
       "\n",
       "                             ent_list                ent_type  \\\n",
       "0    [0, 2, 'Multicellular_organism']  Multicellular_organism   \n",
       "1             [5, 6, 'Plant_hormone']           Plant_hormone   \n",
       "2             [8, 8, 'Plant_hormone']           Plant_hormone   \n",
       "3  [11, 13, 'Organic_compound_other']  Organic_compound_other   \n",
       "4  [15, 15, 'Organic_compound_other']  Organic_compound_other   \n",
       "\n",
       "   mismatch_type_SciERC  \n",
       "0                     0  \n",
       "1                     1  \n",
       "2                     1  \n",
       "3                     0  \n",
       "4                     1  "
      ]
     },
     "execution_count": 6,
     "metadata": {},
     "output_type": "execute_result"
    }
   ],
   "source": [
    "mismatches = genia.merge(scierc, how='inner', on=['doc_key', 'sent_num', 'ent_list', 'ent_type'], suffixes=('_GENIA', '_SciERC'))\n",
    "mismatches = mismatches.drop(columns=['model_SciERC', 'model_GENIA'])\n",
    "mismatches.head()"
   ]
  },
  {
   "cell_type": "markdown",
   "metadata": {},
   "source": [
    "## Count mismatches of each category\n",
    "Now that we have the mismatches for all entities for both models in one dataframe, we can count the mismatches for all the potential categories:\n",
    "1. Both models correctly identify a gold standard entity\n",
    "2. SciERC correctly identifies, GENIA does not\n",
    "3. GENIA correctly identifies, SciERC does not\n",
    "4. Both models do not identify a gold standard entity"
   ]
  },
  {
   "cell_type": "code",
   "execution_count": 7,
   "metadata": {},
   "outputs": [],
   "source": [
    "both_correct = mismatches[(mismatches['mismatch_type_GENIA'] == 1) & (mismatches['mismatch_type_SciERC'] == 1)]\n",
    "scierc_correct = mismatches[(mismatches['mismatch_type_GENIA'] == 0) & (mismatches['mismatch_type_SciERC'] == 1)]\n",
    "genia_correct = mismatches[(mismatches['mismatch_type_GENIA'] == 1) & (mismatches['mismatch_type_SciERC'] == 0)]\n",
    "neither_correct = mismatches[(mismatches['mismatch_type_GENIA'] == 0) & (mismatches['mismatch_type_SciERC'] == 0)]"
   ]
  },
  {
   "cell_type": "code",
   "execution_count": 8,
   "metadata": {},
   "outputs": [
    {
     "data": {
      "text/plain": [
       "[214, 681, 67, 452]"
      ]
     },
     "execution_count": 8,
     "metadata": {},
     "output_type": "execute_result"
    }
   ],
   "source": [
    "[both_correct.shape[0], scierc_correct.shape[0], genia_correct.shape[0], neither_correct.shape[0]]"
   ]
  },
  {
   "cell_type": "code",
   "execution_count": 9,
   "metadata": {},
   "outputs": [
    {
     "data": {
      "text/plain": [
       "1414"
      ]
     },
     "execution_count": 9,
     "metadata": {},
     "output_type": "execute_result"
    }
   ],
   "source": [
    "# Common-sense check to make sure thhe masks worked\n",
    "sum([both_correct.shape[0], scierc_correct.shape[0], genia_correct.shape[0], neither_correct.shape[0]])"
   ]
  },
  {
   "cell_type": "markdown",
   "metadata": {},
   "source": [
    "Now, we can make a figure! First we have to turn the numbers into a confusion matrix-like shape:"
   ]
  },
  {
   "cell_type": "code",
   "execution_count": 10,
   "metadata": {},
   "outputs": [
    {
     "data": {
      "text/html": [
       "<div>\n",
       "<style scoped>\n",
       "    .dataframe tbody tr th:only-of-type {\n",
       "        vertical-align: middle;\n",
       "    }\n",
       "\n",
       "    .dataframe tbody tr th {\n",
       "        vertical-align: top;\n",
       "    }\n",
       "\n",
       "    .dataframe thead th {\n",
       "        text-align: right;\n",
       "    }\n",
       "</style>\n",
       "<table border=\"1\" class=\"dataframe\">\n",
       "  <thead>\n",
       "    <tr style=\"text-align: right;\">\n",
       "      <th></th>\n",
       "      <th>Correct</th>\n",
       "      <th>Incorrect</th>\n",
       "    </tr>\n",
       "  </thead>\n",
       "  <tbody>\n",
       "    <tr>\n",
       "      <th>Correct</th>\n",
       "      <td>214</td>\n",
       "      <td>681</td>\n",
       "    </tr>\n",
       "    <tr>\n",
       "      <th>Incorrect</th>\n",
       "      <td>67</td>\n",
       "      <td>452</td>\n",
       "    </tr>\n",
       "  </tbody>\n",
       "</table>\n",
       "</div>"
      ],
      "text/plain": [
       "           Correct  Incorrect\n",
       "Correct        214        681\n",
       "Incorrect       67        452"
      ]
     },
     "execution_count": 10,
     "metadata": {},
     "output_type": "execute_result"
    }
   ],
   "source": [
    "conf_mat = np.asarray([[both_correct.shape[0], scierc_correct.shape[0]],\n",
    "           [genia_correct.shape[0], neither_correct.shape[0]]])\n",
    "conf_mat_df = pd.DataFrame(conf_mat, columns=['Correct', 'Incorrect'], index=['Correct', 'Incorrect'])\n",
    "conf_mat_df"
   ]
  },
  {
   "cell_type": "markdown",
   "metadata": {},
   "source": [
    "In the above dataframe, when we plot, we name the rows \"SciERC\" and the columns \"GENIA\". Let's do that:"
   ]
  },
  {
   "cell_type": "code",
   "execution_count": 11,
   "metadata": {},
   "outputs": [
    {
     "data": {
      "image/png": "[encoded data removed]",
      "text/plain": [
       "<Figure size 288x288 with 2 Axes>"
      ]
     },
     "metadata": {
      "needs_background": "light"
     },
     "output_type": "display_data"
    }
   ],
   "source": [
    "plt.matshow(conf_mat_df)\n",
    "plt.colorbar()\n",
    "tick_marks = np.arange(len(conf_mat_df.columns))\n",
    "plt.xticks(tick_marks, conf_mat_df.columns)\n",
    "ax = plt.gca()\n",
    "ax.xaxis.set_ticks_position('bottom')\n",
    "plt.yticks(tick_marks, conf_mat_df.index)\n",
    "plt.ylabel('SciERC', fontsize=16)\n",
    "plt.xlabel('GENIA', fontsize=16)\n",
    "for i in range(2):\n",
    "    for j in range(2):\n",
    "        text = ax.text(j, i, conf_mat_df.iloc[i,j], ha='center', va='center',\n",
    "            bbox=dict(boxstyle='round', facecolor='white', edgecolor='0.3'))\n",
    "        \n",
    "plt.savefig('../data/straying_off_topic_data/model_output/mismatch_analysis/mismatch_heatmap.png', bbox_inches='tight', dpi=600)"
   ]
  },
  {
   "cell_type": "markdown",
   "metadata": {},
   "source": [
    "## Examining type trends in each category\n",
    "Now we want to dig into what the trends are for what the labels are in each category. We'll look at a few things:\n",
    "1. What types appear in each category?\n",
    "2. What types appear in all categories? For those that don't appear in all, which ones appear where?\n",
    "3. For each type, what percentage of each category does it make up?\n",
    "\n",
    "We'll then make a stacked bar plot to visualize these trends."
   ]
  },
  {
   "cell_type": "code",
   "execution_count": 12,
   "metadata": {},
   "outputs": [],
   "source": [
    "both_types = both_correct.ent_type.unique()\n",
    "scierc_types = scierc_correct.ent_type.unique()\n",
    "genia_types = genia_correct.ent_type.unique()\n",
    "neither_types = neither_correct.ent_type.unique()"
   ]
  },
  {
   "cell_type": "code",
   "execution_count": 13,
   "metadata": {},
   "outputs": [],
   "source": [
    "type_dict = {'both':both_types, 'scierc':scierc_types, 'genia':genia_types, 'neither':neither_types}"
   ]
  },
  {
   "cell_type": "markdown",
   "metadata": {},
   "source": [
    "### 1. What types appear in each category?"
   ]
  },
  {
   "cell_type": "code",
   "execution_count": 14,
   "metadata": {},
   "outputs": [
    {
     "name": "stdout",
     "output_type": "stream",
     "text": [
      "Types in each category:\n",
      "------------------------\n",
      "Correctly indentified by both models:\n",
      "['Protein' 'DNA' 'RNA' 'Plant_hormone' 'Multicellular_organism' 'Cell'\n",
      " 'Organic_compound_other' 'Peptide' 'Polynucleotide' 'Tissue'\n",
      " 'Amino_acid_monomer' 'Plant_region']\n",
      "\n",
      "Correctly identified by SciERC only:\n",
      "['Plant_hormone' 'Organic_compound_other' 'Multicellular_organism'\n",
      " 'Biochemical_pathway' 'Inorganic_compound_other' 'Plant_region' 'Protein'\n",
      " 'RNA' 'Inorganic_compound' 'Biochemical_process' 'Virus' 'Cell' 'DNA'\n",
      " 'Tissue' 'Polynucleotide' 'Unicellular_organism' 'Amino_acid_monomer'\n",
      " 'Element' 'Peptide']\n",
      "\n",
      "Corrrectly identified by GENIA only:\n",
      "['Protein' 'RNA' 'Multicellular_organism' 'DNA' 'Cell' 'Plant_hormone'\n",
      " 'Organic_compound_other']\n",
      "\n",
      "Not correctly identified by either model:\n",
      "['Multicellular_organism' 'Organic_compound_other' 'Plant_hormone' 'Cell'\n",
      " 'Tissue' 'Inorganic_compound_other' 'Element' 'Protein'\n",
      " 'Biochemical_process' 'DNA' 'Virus' 'Biochemical_pathway' 'Plant_region'\n",
      " 'RNA' 'Peptide' 'Unicellular_organism' 'Amino_acid_monomer'\n",
      " 'Inorganic_compound']\n"
     ]
    }
   ],
   "source": [
    "print('Types in each category:')\n",
    "print('------------------------')\n",
    "print(f'Correctly indentified by both models:\\n{both_types}')\n",
    "print(f'\\nCorrectly identified by SciERC only:\\n{scierc_types}')\n",
    "print(f'\\nCorrrectly identified by GENIA only:\\n{genia_types}')\n",
    "print(f'\\nNot correctly identified by either model:\\n{neither_types}')"
   ]
  },
  {
   "cell_type": "markdown",
   "metadata": {},
   "source": [
    "### 2. What types appear in all categories? For those that don't appear in all, which ones appear where?"
   ]
  },
  {
   "cell_type": "markdown",
   "metadata": {},
   "source": [
    "Types that appear in all categories:"
   ]
  },
  {
   "cell_type": "code",
   "execution_count": 15,
   "metadata": {},
   "outputs": [
    {
     "name": "stdout",
     "output_type": "stream",
     "text": [
      "The types that appear in all categories are:\n",
      "--------------------------------------------\n",
      "{'Protein', 'Plant_hormone', 'DNA', 'RNA', 'Cell', 'Multicellular_organism', 'Organic_compound_other'}\n"
     ]
    }
   ],
   "source": [
    "all_cats = set(both_types).intersection(set(scierc_types), set(genia_types), set(neither_types))\n",
    "print(f'The types that appear in all categories are:\\n--------------------------------------------\\n{all_cats}')"
   ]
  },
  {
   "cell_type": "markdown",
   "metadata": {},
   "source": [
    "Types that do not appear in all categories, but may occur in more than one:"
   ]
  },
  {
   "cell_type": "code",
   "execution_count": 16,
   "metadata": {},
   "outputs": [
    {
     "name": "stdout",
     "output_type": "stream",
     "text": [
      "Types that do not appear in all categories, but may occur in more than one:\n",
      "----------------------------------------------------------------------------\n",
      "The types that appear in both_types but not in all categories are:\n",
      "{'Amino_acid_monomer', 'Polynucleotide', 'Peptide', 'Tissue', 'Plant_region'}\n",
      "\n",
      "The types that appear in scierc_types but not in all categories are:\n",
      "{'Amino_acid_monomer', 'Plant_region', 'Polynucleotide', 'Biochemical_pathway', 'Unicellular_organism', 'Inorganic_compound_other', 'Biochemical_process', 'Peptide', 'Virus', 'Element', 'Tissue', 'Inorganic_compound'}\n",
      "\n",
      "The types that appear in genia_types but not in all categories are:\n",
      "set()\n",
      "\n",
      "The types that appear in neither_types but not in all categories are:\n",
      "{'Amino_acid_monomer', 'Unicellular_organism', 'Biochemical_pathway', 'Inorganic_compound_other', 'Biochemical_process', 'Peptide', 'Virus', 'Tissue', 'Element', 'Inorganic_compound', 'Plant_region'}\n",
      "\n"
     ]
    }
   ],
   "source": [
    "not_common_dict = {}\n",
    "print('Types that do not appear in all categories, but may occur in more than one:')\n",
    "print('----------------------------------------------------------------------------')\n",
    "for key, value in type_dict.items():\n",
    "    not_common = set(value) - all_cats\n",
    "    print(f'The types that appear in {key}_types but not in all categories are:\\n{not_common}\\n')\n",
    "    not_common_dict[key] = not_common"
   ]
  },
  {
   "cell_type": "markdown",
   "metadata": {},
   "source": [
    "Types that appear only in one category:"
   ]
  },
  {
   "cell_type": "code",
   "execution_count": 17,
   "metadata": {},
   "outputs": [
    {
     "name": "stdout",
     "output_type": "stream",
     "text": [
      "Types that only appear in one category:\n",
      "----------------------------------------\n",
      "Types that only appear in both_types:\n",
      "set()\n",
      "Types that only appear in scierc_types:\n",
      "set()\n",
      "Types that only appear in genia_types:\n",
      "set()\n",
      "Types that only appear in neither_types:\n",
      "set()\n"
     ]
    }
   ],
   "source": [
    "only_one_dict = {}\n",
    "print('Types that only appear in one category:')\n",
    "print('----------------------------------------')\n",
    "for key, value in type_dict.items():\n",
    "    other_keys = list(type_dict.keys())\n",
    "    other_keys.remove(key)\n",
    "    all_other_sets = set().union(*[set(type_dict[k]) for k in other_keys])\n",
    "    only_one = set(value) - all_other_sets\n",
    "    print(f'Types that only appear in {key}_types:\\n{only_one}')\n",
    "    only_one_dict[key] = only_one"
   ]
  },
  {
   "cell_type": "markdown",
   "metadata": {},
   "source": [
    "Types that appear in SciERC correct but not in GENIA correct:"
   ]
  },
  {
   "cell_type": "code",
   "execution_count": 18,
   "metadata": {},
   "outputs": [
    {
     "name": "stdout",
     "output_type": "stream",
     "text": [
      "Types that appear in SciERC correct but not GENIA correct:\n",
      "-----------------------------------------------------------\n"
     ]
    },
    {
     "data": {
      "text/plain": [
       "{'Amino_acid_monomer',\n",
       " 'Biochemical_pathway',\n",
       " 'Biochemical_process',\n",
       " 'Element',\n",
       " 'Inorganic_compound',\n",
       " 'Inorganic_compound_other',\n",
       " 'Peptide',\n",
       " 'Plant_region',\n",
       " 'Polynucleotide',\n",
       " 'Tissue',\n",
       " 'Unicellular_organism',\n",
       " 'Virus'}"
      ]
     },
     "execution_count": 18,
     "metadata": {},
     "output_type": "execute_result"
    }
   ],
   "source": [
    "print('Types that appear in SciERC correct but not GENIA correct:')\n",
    "print('-----------------------------------------------------------')\n",
    "set(scierc_types) - set(genia_types)"
   ]
  },
  {
   "cell_type": "markdown",
   "metadata": {},
   "source": [
    "### 3. For each type, what percentage of each category does it make up?\n",
    "Here, we'll start making figures to get a better understanding of what's going on, as just looking at lists of types in the above sections isn't actually helpful."
   ]
  },
  {
   "cell_type": "markdown",
   "metadata": {},
   "source": [
    "#### Identified type proportions\n",
    "First, let's get the proportion of each type correctly identified by each model."
   ]
  },
  {
   "cell_type": "code",
   "execution_count": 19,
   "metadata": {},
   "outputs": [
    {
     "data": {
      "text/plain": [
       "array(['Multicellular_organism', 'Plant_hormone',\n",
       "       'Organic_compound_other', 'Protein', 'DNA', 'Cell', 'RNA',\n",
       "       'Tissue', 'Biochemical_pathway', 'Inorganic_compound_other',\n",
       "       'Element', 'Plant_region', 'Inorganic_compound',\n",
       "       'Biochemical_process', 'Virus', 'Peptide', 'Unicellular_organism',\n",
       "       'Polynucleotide', 'Amino_acid_monomer'], dtype=object)"
      ]
     },
     "execution_count": 19,
     "metadata": {},
     "output_type": "execute_result"
    }
   ],
   "source": [
    "all_ent_types = mismatches.ent_type.unique()\n",
    "all_ent_types"
   ]
  },
  {
   "cell_type": "code",
   "execution_count": 20,
   "metadata": {},
   "outputs": [
    {
     "data": {
      "text/plain": [
       "{'both': array(['Protein', 'DNA', 'RNA', 'Plant_hormone', 'Multicellular_organism',\n",
       "        'Cell', 'Organic_compound_other', 'Peptide', 'Polynucleotide',\n",
       "        'Tissue', 'Amino_acid_monomer', 'Plant_region'], dtype=object),\n",
       " 'scierc': array(['Plant_hormone', 'Organic_compound_other',\n",
       "        'Multicellular_organism', 'Biochemical_pathway',\n",
       "        'Inorganic_compound_other', 'Plant_region', 'Protein', 'RNA',\n",
       "        'Inorganic_compound', 'Biochemical_process', 'Virus', 'Cell',\n",
       "        'DNA', 'Tissue', 'Polynucleotide', 'Unicellular_organism',\n",
       "        'Amino_acid_monomer', 'Element', 'Peptide'], dtype=object),\n",
       " 'genia': array(['Protein', 'RNA', 'Multicellular_organism', 'DNA', 'Cell',\n",
       "        'Plant_hormone', 'Organic_compound_other'], dtype=object),\n",
       " 'neither': array(['Multicellular_organism', 'Organic_compound_other',\n",
       "        'Plant_hormone', 'Cell', 'Tissue', 'Inorganic_compound_other',\n",
       "        'Element', 'Protein', 'Biochemical_process', 'DNA', 'Virus',\n",
       "        'Biochemical_pathway', 'Plant_region', 'RNA', 'Peptide',\n",
       "        'Unicellular_organism', 'Amino_acid_monomer', 'Inorganic_compound'],\n",
       "       dtype=object)}"
      ]
     },
     "execution_count": 20,
     "metadata": {},
     "output_type": "execute_result"
    }
   ],
   "source": [
    "type_dict"
   ]
  },
  {
   "cell_type": "code",
   "execution_count": 21,
   "metadata": {
    "scrolled": true
   },
   "outputs": [],
   "source": [
    "dfs = {'both':both_correct, 'scierc':scierc_correct, 'genia':genia_correct, 'neither':neither_correct}\n",
    "type_percentages = {'both':{k:0 for k in all_ent_types}, 'scierc':{k:0 for k in all_ent_types},\n",
    "                    'genia':{k:0 for k in all_ent_types}, 'neither':{k:0 for k in all_ent_types}}\n",
    "\n",
    "for model_group, df in dfs.items():\n",
    "    for type_str in all_ent_types:\n",
    "        identified_total = len(df.ent_type)\n",
    "        identified_this_type = len(df[df['ent_type'] == type_str].ent_type)\n",
    "        identified_fraction = identified_this_type/identified_total\n",
    "        type_percentages[model_group][type_str] = identified_fraction"
   ]
  },
  {
   "cell_type": "code",
   "execution_count": 22,
   "metadata": {
    "scrolled": true
   },
   "outputs": [
    {
     "data": {
      "text/plain": [
       "{'both': {'Multicellular_organism': 0.07476635514018691,\n",
       "  'Plant_hormone': 0.004672897196261682,\n",
       "  'Organic_compound_other': 0.056074766355140186,\n",
       "  'Protein': 0.5700934579439252,\n",
       "  'DNA': 0.2570093457943925,\n",
       "  'Cell': 0.009345794392523364,\n",
       "  'RNA': 0.004672897196261682,\n",
       "  'Tissue': 0.004672897196261682,\n",
       "  'Biochemical_pathway': 0.0,\n",
       "  'Inorganic_compound_other': 0.0,\n",
       "  'Element': 0.0,\n",
       "  'Plant_region': 0.004672897196261682,\n",
       "  'Inorganic_compound': 0.0,\n",
       "  'Biochemical_process': 0.0,\n",
       "  'Virus': 0.0,\n",
       "  'Peptide': 0.004672897196261682,\n",
       "  'Unicellular_organism': 0.0,\n",
       "  'Polynucleotide': 0.004672897196261682,\n",
       "  'Amino_acid_monomer': 0.004672897196261682},\n",
       " 'scierc': {'Multicellular_organism': 0.14684287812041116,\n",
       "  'Plant_hormone': 0.2701908957415565,\n",
       "  'Organic_compound_other': 0.1527165932452276,\n",
       "  'Protein': 0.030837004405286344,\n",
       "  'DNA': 0.030837004405286344,\n",
       "  'Cell': 0.0014684287812041115,\n",
       "  'RNA': 0.0014684287812041115,\n",
       "  'Tissue': 0.0014684287812041115,\n",
       "  'Biochemical_pathway': 0.11160058737151249,\n",
       "  'Inorganic_compound_other': 0.03524229074889868,\n",
       "  'Element': 0.0014684287812041115,\n",
       "  'Plant_region': 0.023494860499265784,\n",
       "  'Inorganic_compound': 0.013215859030837005,\n",
       "  'Biochemical_process': 0.16593245227606462,\n",
       "  'Virus': 0.002936857562408223,\n",
       "  'Peptide': 0.004405286343612335,\n",
       "  'Unicellular_organism': 0.0014684287812041115,\n",
       "  'Polynucleotide': 0.0014684287812041115,\n",
       "  'Amino_acid_monomer': 0.002936857562408223},\n",
       " 'genia': {'Multicellular_organism': 0.13432835820895522,\n",
       "  'Plant_hormone': 0.029850746268656716,\n",
       "  'Organic_compound_other': 0.014925373134328358,\n",
       "  'Protein': 0.5970149253731343,\n",
       "  'DNA': 0.14925373134328357,\n",
       "  'Cell': 0.014925373134328358,\n",
       "  'RNA': 0.05970149253731343,\n",
       "  'Tissue': 0.0,\n",
       "  'Biochemical_pathway': 0.0,\n",
       "  'Inorganic_compound_other': 0.0,\n",
       "  'Element': 0.0,\n",
       "  'Plant_region': 0.0,\n",
       "  'Inorganic_compound': 0.0,\n",
       "  'Biochemical_process': 0.0,\n",
       "  'Virus': 0.0,\n",
       "  'Peptide': 0.0,\n",
       "  'Unicellular_organism': 0.0,\n",
       "  'Polynucleotide': 0.0,\n",
       "  'Amino_acid_monomer': 0.0},\n",
       " 'neither': {'Multicellular_organism': 0.2676991150442478,\n",
       "  'Plant_hormone': 0.13495575221238937,\n",
       "  'Organic_compound_other': 0.11283185840707964,\n",
       "  'Protein': 0.12168141592920353,\n",
       "  'DNA': 0.05309734513274336,\n",
       "  'Cell': 0.00663716814159292,\n",
       "  'RNA': 0.00663716814159292,\n",
       "  'Tissue': 0.004424778761061947,\n",
       "  'Biochemical_pathway': 0.05752212389380531,\n",
       "  'Inorganic_compound_other': 0.08185840707964602,\n",
       "  'Element': 0.008849557522123894,\n",
       "  'Plant_region': 0.01991150442477876,\n",
       "  'Inorganic_compound': 0.011061946902654867,\n",
       "  'Biochemical_process': 0.0752212389380531,\n",
       "  'Virus': 0.0022123893805309734,\n",
       "  'Peptide': 0.00663716814159292,\n",
       "  'Unicellular_organism': 0.01991150442477876,\n",
       "  'Polynucleotide': 0.0,\n",
       "  'Amino_acid_monomer': 0.008849557522123894}}"
      ]
     },
     "execution_count": 22,
     "metadata": {},
     "output_type": "execute_result"
    }
   ],
   "source": [
    "type_percentages"
   ]
  },
  {
   "cell_type": "markdown",
   "metadata": {},
   "source": [
    "#### Baseline type proportions\n",
    "I now want to create a bar for the type proportions for all gold standard entities. The goal here is to see whether or not the proportions of the types correctly predicted by SciERC better align with the overall proportions than GENIA's does. To do this, we'll read in the gold standard, and then iterate over the entities to get the types for each."
   ]
  },
  {
   "cell_type": "code",
   "execution_count": 23,
   "metadata": {},
   "outputs": [],
   "source": [
    "gold_docs = []\n",
    "with jsonlines.open('../data/straying_off_topic_data/unified_annotations_processed/jsonl_files/FINAL_FOR_EVALUATION_ent_and_rel_all_gold_std_abstracts_08Nov2022.jsonl') as reader:\n",
    "    for obj in reader: \n",
    "        gold_docs.append(obj)"
   ]
  },
  {
   "cell_type": "code",
   "execution_count": 24,
   "metadata": {},
   "outputs": [],
   "source": [
    "ent_types = defaultdict(int)\n",
    "for doc in gold_docs:\n",
    "    for ent_sent in doc[\"ner\"]:\n",
    "        for ent in ent_sent:\n",
    "            ent_t = ent[2]\n",
    "            ent_types[ent_t] += 1"
   ]
  },
  {
   "cell_type": "code",
   "execution_count": 25,
   "metadata": {},
   "outputs": [
    {
     "data": {
      "text/plain": [
       "defaultdict(int,\n",
       "            {'Organic_compound_other': 168,\n",
       "             'Plant_hormone': 248,\n",
       "             'Multicellular_organism': 246,\n",
       "             'Plant_region': 26,\n",
       "             'Biochemical_process': 147,\n",
       "             'Biochemical_pathway': 102,\n",
       "             'Inorganic_compound_other': 61,\n",
       "             'Protein': 238,\n",
       "             'DNA': 110,\n",
       "             'Tissue': 4,\n",
       "             'Element': 5,\n",
       "             'RNA': 9,\n",
       "             'Inorganic_compound': 14,\n",
       "             'Cell': 7,\n",
       "             'Peptide': 7,\n",
       "             'Polynucleotide': 2,\n",
       "             'Virus': 3,\n",
       "             'Unicellular_organism': 10,\n",
       "             'Amino_acid_monomer': 7})"
      ]
     },
     "execution_count": 25,
     "metadata": {},
     "output_type": "execute_result"
    }
   ],
   "source": [
    "ent_types"
   ]
  },
  {
   "cell_type": "code",
   "execution_count": 26,
   "metadata": {},
   "outputs": [
    {
     "name": "stdout",
     "output_type": "stream",
     "text": [
      "1414\n"
     ]
    }
   ],
   "source": [
    "total_num = sum([v for k, v in ent_types.items()])\n",
    "print(total_num)"
   ]
  },
  {
   "cell_type": "code",
   "execution_count": 27,
   "metadata": {},
   "outputs": [],
   "source": [
    "frac_ent_types = {k:v/total_num for k,v in ent_types.items()}"
   ]
  },
  {
   "cell_type": "code",
   "execution_count": 28,
   "metadata": {
    "scrolled": true
   },
   "outputs": [
    {
     "data": {
      "text/plain": [
       "{'Organic_compound_other': 0.1188118811881188,\n",
       " 'Plant_hormone': 0.1753889674681754,\n",
       " 'Multicellular_organism': 0.173974540311174,\n",
       " 'Plant_region': 0.018387553041018388,\n",
       " 'Biochemical_process': 0.10396039603960396,\n",
       " 'Biochemical_pathway': 0.07213578500707214,\n",
       " 'Inorganic_compound_other': 0.04314002828854314,\n",
       " 'Protein': 0.16831683168316833,\n",
       " 'DNA': 0.07779349363507779,\n",
       " 'Tissue': 0.002828854314002829,\n",
       " 'Element': 0.003536067892503536,\n",
       " 'RNA': 0.006364922206506365,\n",
       " 'Inorganic_compound': 0.009900990099009901,\n",
       " 'Cell': 0.0049504950495049506,\n",
       " 'Peptide': 0.0049504950495049506,\n",
       " 'Polynucleotide': 0.0014144271570014145,\n",
       " 'Virus': 0.0021216407355021216,\n",
       " 'Unicellular_organism': 0.007072135785007072,\n",
       " 'Amino_acid_monomer': 0.0049504950495049506}"
      ]
     },
     "execution_count": 28,
     "metadata": {},
     "output_type": "execute_result"
    }
   ],
   "source": [
    "frac_ent_types"
   ]
  },
  {
   "cell_type": "code",
   "execution_count": 29,
   "metadata": {},
   "outputs": [],
   "source": [
    "type_percentages['gold'] = frac_ent_types"
   ]
  },
  {
   "cell_type": "markdown",
   "metadata": {},
   "source": [
    "#### Make figure"
   ]
  },
  {
   "cell_type": "code",
   "execution_count": 30,
   "metadata": {},
   "outputs": [],
   "source": [
    "hatches = ['/', '\\\\', '|', '-', '+', 'x', 'o', 'O', '.', '*', '//', '\\\\\\\\', '||', '--', '++', 'xx', 'oo', 'OO', '..', '**']"
   ]
  },
  {
   "cell_type": "code",
   "execution_count": 31,
   "metadata": {},
   "outputs": [
    {
     "data": {
      "image/png": "[encoded data removed]",
      "text/plain": [
       "<Figure size 432x288 with 1 Axes>"
      ]
     },
     "metadata": {
      "needs_background": "light"
     },
     "output_type": "display_data"
    }
   ],
   "source": [
    "keys_for_labels = ['both', 'scierc', 'genia', 'neither', 'gold']\n",
    "labels = ['Both', 'SciERC', 'GENIA', 'Neither', 'Gold']\n",
    "total_ents = {'Both':both_correct.shape[0], 'SciERC':scierc_correct.shape[0],\n",
    "              'GENIA':genia_correct.shape[0], 'Neither':neither_correct.shape[0],\n",
    "             'Gold':total_num}\n",
    "\n",
    "fig, ax = plt.subplots()\n",
    "colors = [plt.cm.tab20(i) for i in range(20)]\n",
    "vals_list = []\n",
    "for i, type_str in enumerate(all_ent_types):\n",
    "    vals = [type_percentages[k][type_str] for k in keys_for_labels]\n",
    "    if i == 0:\n",
    "        ax.bar(labels, vals, label=type_str, color=colors[i])#, hatch=hatches[i])\n",
    "    else:\n",
    "        ax.bar(labels, vals, bottom=sum(vals_list), label=type_str, color=colors[i])#, hatch=hatches[i])\n",
    "    vals_list.append(np.asarray(vals))\n",
    "\n",
    "# Add total number of entities identified over the bars\n",
    "xtick_locs, xtick_labels = ax.get_xticks(), ax.get_xticklabels()\n",
    "for xtick_loc, xtick_label in zip(xtick_locs, labels):\n",
    "    box_text = f'{total_ents[xtick_label]}'\n",
    "    t = ax.text(xtick_loc, 1.1, box_text, ha='center', va='center',\n",
    "                 size=12, bbox=dict(boxstyle=\"square,pad=0.3\", facecolor='white'))\n",
    "    \n",
    "ax.set_ylabel('Fraction of identified entities with type')\n",
    "ax.set_xlabel('Model comparison')\n",
    "handles, labels = ax.get_legend_handles_labels()\n",
    "labels = [' '.join(lab.split('_')) for lab in labels]\n",
    "ax.legend(handles[::-1], labels[::-1], loc=(1.1,-0.5))\n",
    "\n",
    "plt.savefig('../data/straying_off_topic_data/model_output/mismatch_analysis/type_percentages_stacked_bar_without_fill.png', bbox_inches='tight', dpi=600)"
   ]
  },
  {
   "cell_type": "markdown",
   "metadata": {},
   "source": [
    "Break down precision and recall for the types GENIA knows about vs. the ones it doesn't\n",
    "* Need to know if it's doing well on the types it knows about, because if it isn't, then there may be something deeper than just the fact that it doesn't know about some types"
   ]
  },
  {
   "cell_type": "markdown",
   "metadata": {},
   "source": [
    "This plot is quite informative! You can see that SciERC is much bettter at identifying `Plant_hormone`, `Organic_compound_other`, `Biochemical_pathway` and `Biochemical_process` than GENIA is, while GENIA excels at identifying `Protein` and `DNA` and `RNA`."
   ]
  },
  {
   "cell_type": "markdown",
   "metadata": {},
   "source": [
    "#### Generate summary difference number\n",
    "Because the above plot is quite overwhelming visually even though it conveys important information, we're going to calculate a summary number of the differences per type between each model and the gold standard to report in the main text, and then put the barplot in the supplemental information."
   ]
  },
  {
   "cell_type": "markdown",
   "metadata": {},
   "source": [
    "Logic for generating summary number:\n",
    "* The bar plot compares the proportions of each type that were predicted by each model to those present in the gold standard\n",
    "* What we care about is how close the model proportion for a given type is to the gold standard proportion for that type -- how close the difference between the two numbers is to zero\n",
    "* If we were to add up all the differences, whichever model vs. gold comparison is closest to zero is the one whose pattern in the bar plot is closest to that of the gold standard"
   ]
  },
  {
   "cell_type": "markdown",
   "metadata": {},
   "source": [
    "Procedure:\n",
    "* Make a dataframe with the proportions of each type for each bar\n",
    "* Calculate the differences between each column and the gold standard\n",
    "* Sum down the columns"
   ]
  },
  {
   "cell_type": "code",
   "execution_count": 119,
   "metadata": {},
   "outputs": [
    {
     "data": {
      "text/html": [
       "<div>\n",
       "<style scoped>\n",
       "    .dataframe tbody tr th:only-of-type {\n",
       "        vertical-align: middle;\n",
       "    }\n",
       "\n",
       "    .dataframe tbody tr th {\n",
       "        vertical-align: top;\n",
       "    }\n",
       "\n",
       "    .dataframe thead th {\n",
       "        text-align: right;\n",
       "    }\n",
       "</style>\n",
       "<table border=\"1\" class=\"dataframe\">\n",
       "  <thead>\n",
       "    <tr style=\"text-align: right;\">\n",
       "      <th></th>\n",
       "      <th>both</th>\n",
       "      <th>scierc</th>\n",
       "      <th>genia</th>\n",
       "      <th>neither</th>\n",
       "      <th>gold</th>\n",
       "    </tr>\n",
       "  </thead>\n",
       "  <tbody>\n",
       "    <tr>\n",
       "      <th>Multicellular_organism</th>\n",
       "      <td>0.074766</td>\n",
       "      <td>0.146843</td>\n",
       "      <td>0.134328</td>\n",
       "      <td>0.267699</td>\n",
       "      <td>0.173975</td>\n",
       "    </tr>\n",
       "    <tr>\n",
       "      <th>Plant_hormone</th>\n",
       "      <td>0.004673</td>\n",
       "      <td>0.270191</td>\n",
       "      <td>0.029851</td>\n",
       "      <td>0.134956</td>\n",
       "      <td>0.175389</td>\n",
       "    </tr>\n",
       "    <tr>\n",
       "      <th>Organic_compound_other</th>\n",
       "      <td>0.056075</td>\n",
       "      <td>0.152717</td>\n",
       "      <td>0.014925</td>\n",
       "      <td>0.112832</td>\n",
       "      <td>0.118812</td>\n",
       "    </tr>\n",
       "    <tr>\n",
       "      <th>Protein</th>\n",
       "      <td>0.570093</td>\n",
       "      <td>0.030837</td>\n",
       "      <td>0.597015</td>\n",
       "      <td>0.121681</td>\n",
       "      <td>0.168317</td>\n",
       "    </tr>\n",
       "    <tr>\n",
       "      <th>DNA</th>\n",
       "      <td>0.257009</td>\n",
       "      <td>0.030837</td>\n",
       "      <td>0.149254</td>\n",
       "      <td>0.053097</td>\n",
       "      <td>0.077793</td>\n",
       "    </tr>\n",
       "    <tr>\n",
       "      <th>Cell</th>\n",
       "      <td>0.009346</td>\n",
       "      <td>0.001468</td>\n",
       "      <td>0.014925</td>\n",
       "      <td>0.006637</td>\n",
       "      <td>0.004950</td>\n",
       "    </tr>\n",
       "    <tr>\n",
       "      <th>RNA</th>\n",
       "      <td>0.004673</td>\n",
       "      <td>0.001468</td>\n",
       "      <td>0.059701</td>\n",
       "      <td>0.006637</td>\n",
       "      <td>0.006365</td>\n",
       "    </tr>\n",
       "    <tr>\n",
       "      <th>Tissue</th>\n",
       "      <td>0.004673</td>\n",
       "      <td>0.001468</td>\n",
       "      <td>0.000000</td>\n",
       "      <td>0.004425</td>\n",
       "      <td>0.002829</td>\n",
       "    </tr>\n",
       "    <tr>\n",
       "      <th>Biochemical_pathway</th>\n",
       "      <td>0.000000</td>\n",
       "      <td>0.111601</td>\n",
       "      <td>0.000000</td>\n",
       "      <td>0.057522</td>\n",
       "      <td>0.072136</td>\n",
       "    </tr>\n",
       "    <tr>\n",
       "      <th>Inorganic_compound_other</th>\n",
       "      <td>0.000000</td>\n",
       "      <td>0.035242</td>\n",
       "      <td>0.000000</td>\n",
       "      <td>0.081858</td>\n",
       "      <td>0.043140</td>\n",
       "    </tr>\n",
       "    <tr>\n",
       "      <th>Element</th>\n",
       "      <td>0.000000</td>\n",
       "      <td>0.001468</td>\n",
       "      <td>0.000000</td>\n",
       "      <td>0.008850</td>\n",
       "      <td>0.003536</td>\n",
       "    </tr>\n",
       "    <tr>\n",
       "      <th>Plant_region</th>\n",
       "      <td>0.004673</td>\n",
       "      <td>0.023495</td>\n",
       "      <td>0.000000</td>\n",
       "      <td>0.019912</td>\n",
       "      <td>0.018388</td>\n",
       "    </tr>\n",
       "    <tr>\n",
       "      <th>Inorganic_compound</th>\n",
       "      <td>0.000000</td>\n",
       "      <td>0.013216</td>\n",
       "      <td>0.000000</td>\n",
       "      <td>0.011062</td>\n",
       "      <td>0.009901</td>\n",
       "    </tr>\n",
       "    <tr>\n",
       "      <th>Biochemical_process</th>\n",
       "      <td>0.000000</td>\n",
       "      <td>0.165932</td>\n",
       "      <td>0.000000</td>\n",
       "      <td>0.075221</td>\n",
       "      <td>0.103960</td>\n",
       "    </tr>\n",
       "    <tr>\n",
       "      <th>Virus</th>\n",
       "      <td>0.000000</td>\n",
       "      <td>0.002937</td>\n",
       "      <td>0.000000</td>\n",
       "      <td>0.002212</td>\n",
       "      <td>0.002122</td>\n",
       "    </tr>\n",
       "    <tr>\n",
       "      <th>Peptide</th>\n",
       "      <td>0.004673</td>\n",
       "      <td>0.004405</td>\n",
       "      <td>0.000000</td>\n",
       "      <td>0.006637</td>\n",
       "      <td>0.004950</td>\n",
       "    </tr>\n",
       "    <tr>\n",
       "      <th>Unicellular_organism</th>\n",
       "      <td>0.000000</td>\n",
       "      <td>0.001468</td>\n",
       "      <td>0.000000</td>\n",
       "      <td>0.019912</td>\n",
       "      <td>0.007072</td>\n",
       "    </tr>\n",
       "    <tr>\n",
       "      <th>Polynucleotide</th>\n",
       "      <td>0.004673</td>\n",
       "      <td>0.001468</td>\n",
       "      <td>0.000000</td>\n",
       "      <td>0.000000</td>\n",
       "      <td>0.001414</td>\n",
       "    </tr>\n",
       "    <tr>\n",
       "      <th>Amino_acid_monomer</th>\n",
       "      <td>0.004673</td>\n",
       "      <td>0.002937</td>\n",
       "      <td>0.000000</td>\n",
       "      <td>0.008850</td>\n",
       "      <td>0.004950</td>\n",
       "    </tr>\n",
       "  </tbody>\n",
       "</table>\n",
       "</div>"
      ],
      "text/plain": [
       "                              both    scierc     genia   neither      gold\n",
       "Multicellular_organism    0.074766  0.146843  0.134328  0.267699  0.173975\n",
       "Plant_hormone             0.004673  0.270191  0.029851  0.134956  0.175389\n",
       "Organic_compound_other    0.056075  0.152717  0.014925  0.112832  0.118812\n",
       "Protein                   0.570093  0.030837  0.597015  0.121681  0.168317\n",
       "DNA                       0.257009  0.030837  0.149254  0.053097  0.077793\n",
       "Cell                      0.009346  0.001468  0.014925  0.006637  0.004950\n",
       "RNA                       0.004673  0.001468  0.059701  0.006637  0.006365\n",
       "Tissue                    0.004673  0.001468  0.000000  0.004425  0.002829\n",
       "Biochemical_pathway       0.000000  0.111601  0.000000  0.057522  0.072136\n",
       "Inorganic_compound_other  0.000000  0.035242  0.000000  0.081858  0.043140\n",
       "Element                   0.000000  0.001468  0.000000  0.008850  0.003536\n",
       "Plant_region              0.004673  0.023495  0.000000  0.019912  0.018388\n",
       "Inorganic_compound        0.000000  0.013216  0.000000  0.011062  0.009901\n",
       "Biochemical_process       0.000000  0.165932  0.000000  0.075221  0.103960\n",
       "Virus                     0.000000  0.002937  0.000000  0.002212  0.002122\n",
       "Peptide                   0.004673  0.004405  0.000000  0.006637  0.004950\n",
       "Unicellular_organism      0.000000  0.001468  0.000000  0.019912  0.007072\n",
       "Polynucleotide            0.004673  0.001468  0.000000  0.000000  0.001414\n",
       "Amino_acid_monomer        0.004673  0.002937  0.000000  0.008850  0.004950"
      ]
     },
     "execution_count": 119,
     "metadata": {},
     "output_type": "execute_result"
    }
   ],
   "source": [
    "prop_df = pd.DataFrame.from_dict(type_percentages, orient='columns')\n",
    "prop_df"
   ]
  },
  {
   "cell_type": "code",
   "execution_count": null,
   "metadata": {},
   "outputs": [],
   "source": []
  },
  {
   "cell_type": "markdown",
   "metadata": {},
   "source": [
    "## Get recall per type\n",
    "We also want to be able to look at how well each model is identifying each type, to confirm that GENIA is in fact better at identifying types it knows about than ones it doesn't. Here, we'll focus on recall, as this tells us how often the models are recovering the *spans* of entities of a given type -- agnostic of the type that the model assigns on its predictions. We won't look at precision, because it doesn't make sense to do so: to calculate the precision we divide the number of correctly identified entities by the toal number of predicted entities. To break this down by type, we'd only be able to look at the precision for the types in the GENIA model that overlap with those from the PICKLE corpus, which turns out to be only `Protein`, `DNA`, and `RNA`. This metric is not agnostic to the type of the predictions like recall is, because when an entity is a fale positive, there is no gold standard entity with a relevant type that we can use for comparison instead of the predicted label. For this reason, we're leaving precision out of this analysis."
   ]
  },
  {
   "cell_type": "code",
   "execution_count": 33,
   "metadata": {},
   "outputs": [
    {
     "data": {
      "text/html": [
       "<div>\n",
       "<style scoped>\n",
       "    .dataframe tbody tr th:only-of-type {\n",
       "        vertical-align: middle;\n",
       "    }\n",
       "\n",
       "    .dataframe tbody tr th {\n",
       "        vertical-align: top;\n",
       "    }\n",
       "\n",
       "    .dataframe thead th {\n",
       "        text-align: right;\n",
       "    }\n",
       "</style>\n",
       "<table border=\"1\" class=\"dataframe\">\n",
       "  <thead>\n",
       "    <tr style=\"text-align: right;\">\n",
       "      <th></th>\n",
       "      <th>doc_key</th>\n",
       "      <th>mismatch_type_GENIA</th>\n",
       "      <th>sent_num</th>\n",
       "      <th>ent_list</th>\n",
       "      <th>ent_type</th>\n",
       "      <th>mismatch_type_SciERC</th>\n",
       "    </tr>\n",
       "  </thead>\n",
       "  <tbody>\n",
       "    <tr>\n",
       "      <th>0</th>\n",
       "      <td>PMID1161793_abstract</td>\n",
       "      <td>0</td>\n",
       "      <td>0</td>\n",
       "      <td>[0, 2, 'Multicellular_organism']</td>\n",
       "      <td>Multicellular_organism</td>\n",
       "      <td>0</td>\n",
       "    </tr>\n",
       "    <tr>\n",
       "      <th>1</th>\n",
       "      <td>PMID1161793_abstract</td>\n",
       "      <td>0</td>\n",
       "      <td>0</td>\n",
       "      <td>[5, 6, 'Plant_hormone']</td>\n",
       "      <td>Plant_hormone</td>\n",
       "      <td>1</td>\n",
       "    </tr>\n",
       "    <tr>\n",
       "      <th>2</th>\n",
       "      <td>PMID1161793_abstract</td>\n",
       "      <td>0</td>\n",
       "      <td>0</td>\n",
       "      <td>[8, 8, 'Plant_hormone']</td>\n",
       "      <td>Plant_hormone</td>\n",
       "      <td>1</td>\n",
       "    </tr>\n",
       "    <tr>\n",
       "      <th>3</th>\n",
       "      <td>PMID1161793_abstract</td>\n",
       "      <td>0</td>\n",
       "      <td>0</td>\n",
       "      <td>[11, 13, 'Organic_compound_other']</td>\n",
       "      <td>Organic_compound_other</td>\n",
       "      <td>0</td>\n",
       "    </tr>\n",
       "    <tr>\n",
       "      <th>4</th>\n",
       "      <td>PMID1161793_abstract</td>\n",
       "      <td>0</td>\n",
       "      <td>0</td>\n",
       "      <td>[15, 15, 'Organic_compound_other']</td>\n",
       "      <td>Organic_compound_other</td>\n",
       "      <td>1</td>\n",
       "    </tr>\n",
       "  </tbody>\n",
       "</table>\n",
       "</div>"
      ],
      "text/plain": [
       "                doc_key  mismatch_type_GENIA  sent_num  \\\n",
       "0  PMID1161793_abstract                    0         0   \n",
       "1  PMID1161793_abstract                    0         0   \n",
       "2  PMID1161793_abstract                    0         0   \n",
       "3  PMID1161793_abstract                    0         0   \n",
       "4  PMID1161793_abstract                    0         0   \n",
       "\n",
       "                             ent_list                ent_type  \\\n",
       "0    [0, 2, 'Multicellular_organism']  Multicellular_organism   \n",
       "1             [5, 6, 'Plant_hormone']           Plant_hormone   \n",
       "2             [8, 8, 'Plant_hormone']           Plant_hormone   \n",
       "3  [11, 13, 'Organic_compound_other']  Organic_compound_other   \n",
       "4  [15, 15, 'Organic_compound_other']  Organic_compound_other   \n",
       "\n",
       "   mismatch_type_SciERC  \n",
       "0                     0  \n",
       "1                     1  \n",
       "2                     1  \n",
       "3                     0  \n",
       "4                     1  "
      ]
     },
     "execution_count": 33,
     "metadata": {},
     "output_type": "execute_result"
    }
   ],
   "source": [
    "mismatches.head()"
   ]
  },
  {
   "cell_type": "code",
   "execution_count": 36,
   "metadata": {},
   "outputs": [],
   "source": [
    "recall_per_label = {'GENIA':{}, 'SciERC':{}}\n",
    "for label in mismatches.ent_type.values:\n",
    "    label_df = mismatches[mismatches['ent_type'] == label]\n",
    "    for model in ['GENIA', 'SciERC']:\n",
    "        matched = len(label_df[label_df[f'mismatch_type_{model}'] == 1])\n",
    "        gold = len(label_df)\n",
    "        recall = matched/gold\n",
    "        recall_per_label[model][label] = recall"
   ]
  },
  {
   "cell_type": "code",
   "execution_count": 109,
   "metadata": {},
   "outputs": [],
   "source": [
    "recall_df = pd.DataFrame.from_dict(recall_per_label)"
   ]
  },
  {
   "cell_type": "code",
   "execution_count": 110,
   "metadata": {},
   "outputs": [
    {
     "data": {
      "text/html": [
       "<div>\n",
       "<style scoped>\n",
       "    .dataframe tbody tr th:only-of-type {\n",
       "        vertical-align: middle;\n",
       "    }\n",
       "\n",
       "    .dataframe tbody tr th {\n",
       "        vertical-align: top;\n",
       "    }\n",
       "\n",
       "    .dataframe thead th {\n",
       "        text-align: right;\n",
       "    }\n",
       "</style>\n",
       "<table border=\"1\" class=\"dataframe\">\n",
       "  <thead>\n",
       "    <tr style=\"text-align: right;\">\n",
       "      <th></th>\n",
       "      <th>GENIA</th>\n",
       "      <th>SciERC</th>\n",
       "    </tr>\n",
       "  </thead>\n",
       "  <tbody>\n",
       "    <tr>\n",
       "      <th>Multicellular_organism</th>\n",
       "      <td>0.101626</td>\n",
       "      <td>0.471545</td>\n",
       "    </tr>\n",
       "    <tr>\n",
       "      <th>Plant_hormone</th>\n",
       "      <td>0.012097</td>\n",
       "      <td>0.745968</td>\n",
       "    </tr>\n",
       "    <tr>\n",
       "      <th>Organic_compound_other</th>\n",
       "      <td>0.077381</td>\n",
       "      <td>0.690476</td>\n",
       "    </tr>\n",
       "    <tr>\n",
       "      <th>Protein</th>\n",
       "      <td>0.680672</td>\n",
       "      <td>0.600840</td>\n",
       "    </tr>\n",
       "    <tr>\n",
       "      <th>DNA</th>\n",
       "      <td>0.590909</td>\n",
       "      <td>0.690909</td>\n",
       "    </tr>\n",
       "    <tr>\n",
       "      <th>Cell</th>\n",
       "      <td>0.428571</td>\n",
       "      <td>0.428571</td>\n",
       "    </tr>\n",
       "    <tr>\n",
       "      <th>RNA</th>\n",
       "      <td>0.555556</td>\n",
       "      <td>0.222222</td>\n",
       "    </tr>\n",
       "    <tr>\n",
       "      <th>Tissue</th>\n",
       "      <td>0.250000</td>\n",
       "      <td>0.500000</td>\n",
       "    </tr>\n",
       "    <tr>\n",
       "      <th>Biochemical_pathway</th>\n",
       "      <td>0.000000</td>\n",
       "      <td>0.745098</td>\n",
       "    </tr>\n",
       "    <tr>\n",
       "      <th>Inorganic_compound_other</th>\n",
       "      <td>0.000000</td>\n",
       "      <td>0.393443</td>\n",
       "    </tr>\n",
       "    <tr>\n",
       "      <th>Element</th>\n",
       "      <td>0.000000</td>\n",
       "      <td>0.200000</td>\n",
       "    </tr>\n",
       "    <tr>\n",
       "      <th>Plant_region</th>\n",
       "      <td>0.038462</td>\n",
       "      <td>0.653846</td>\n",
       "    </tr>\n",
       "    <tr>\n",
       "      <th>Inorganic_compound</th>\n",
       "      <td>0.000000</td>\n",
       "      <td>0.642857</td>\n",
       "    </tr>\n",
       "    <tr>\n",
       "      <th>Biochemical_process</th>\n",
       "      <td>0.000000</td>\n",
       "      <td>0.768707</td>\n",
       "    </tr>\n",
       "    <tr>\n",
       "      <th>Virus</th>\n",
       "      <td>0.000000</td>\n",
       "      <td>0.666667</td>\n",
       "    </tr>\n",
       "    <tr>\n",
       "      <th>Peptide</th>\n",
       "      <td>0.142857</td>\n",
       "      <td>0.571429</td>\n",
       "    </tr>\n",
       "    <tr>\n",
       "      <th>Unicellular_organism</th>\n",
       "      <td>0.000000</td>\n",
       "      <td>0.100000</td>\n",
       "    </tr>\n",
       "    <tr>\n",
       "      <th>Polynucleotide</th>\n",
       "      <td>0.500000</td>\n",
       "      <td>1.000000</td>\n",
       "    </tr>\n",
       "    <tr>\n",
       "      <th>Amino_acid_monomer</th>\n",
       "      <td>0.142857</td>\n",
       "      <td>0.428571</td>\n",
       "    </tr>\n",
       "  </tbody>\n",
       "</table>\n",
       "</div>"
      ],
      "text/plain": [
       "                             GENIA    SciERC\n",
       "Multicellular_organism    0.101626  0.471545\n",
       "Plant_hormone             0.012097  0.745968\n",
       "Organic_compound_other    0.077381  0.690476\n",
       "Protein                   0.680672  0.600840\n",
       "DNA                       0.590909  0.690909\n",
       "Cell                      0.428571  0.428571\n",
       "RNA                       0.555556  0.222222\n",
       "Tissue                    0.250000  0.500000\n",
       "Biochemical_pathway       0.000000  0.745098\n",
       "Inorganic_compound_other  0.000000  0.393443\n",
       "Element                   0.000000  0.200000\n",
       "Plant_region              0.038462  0.653846\n",
       "Inorganic_compound        0.000000  0.642857\n",
       "Biochemical_process       0.000000  0.768707\n",
       "Virus                     0.000000  0.666667\n",
       "Peptide                   0.142857  0.571429\n",
       "Unicellular_organism      0.000000  0.100000\n",
       "Polynucleotide            0.500000  1.000000\n",
       "Amino_acid_monomer        0.142857  0.428571"
      ]
     },
     "execution_count": 110,
     "metadata": {},
     "output_type": "execute_result"
    }
   ],
   "source": [
    "recall_df"
   ]
  },
  {
   "cell_type": "markdown",
   "metadata": {},
   "source": [
    "This comparison shows that there are also categories that GENIA *does* know about where SciERC still does much better in terms of recall. However, those terms generally speaking do not make up a large portion of the gold standard, and so don't affect the model performance as much. To confirm, we'll add the proportion of the gold standard that each of the types make up to this dataframe, and order the dataframe by the proportion that the type makes up of the gold standard. "
   ]
  },
  {
   "cell_type": "code",
   "execution_count": 106,
   "metadata": {},
   "outputs": [],
   "source": [
    "frac_types_df = pd.DataFrame.from_dict(frac_ent_types, orient='index', columns=['Gold_standard_proportion'])"
   ]
  },
  {
   "cell_type": "code",
   "execution_count": 112,
   "metadata": {},
   "outputs": [],
   "source": [
    "recall_df = recall_df.merge(frac_types_df, how='outer', left_index=True, right_index=True)"
   ]
  },
  {
   "cell_type": "code",
   "execution_count": 115,
   "metadata": {},
   "outputs": [
    {
     "data": {
      "text/html": [
       "<div>\n",
       "<style scoped>\n",
       "    .dataframe tbody tr th:only-of-type {\n",
       "        vertical-align: middle;\n",
       "    }\n",
       "\n",
       "    .dataframe tbody tr th {\n",
       "        vertical-align: top;\n",
       "    }\n",
       "\n",
       "    .dataframe thead th {\n",
       "        text-align: right;\n",
       "    }\n",
       "</style>\n",
       "<table border=\"1\" class=\"dataframe\">\n",
       "  <thead>\n",
       "    <tr style=\"text-align: right;\">\n",
       "      <th></th>\n",
       "      <th>GENIA</th>\n",
       "      <th>SciERC</th>\n",
       "      <th>Gold_standard_proportion</th>\n",
       "    </tr>\n",
       "  </thead>\n",
       "  <tbody>\n",
       "    <tr>\n",
       "      <th>Plant_hormone</th>\n",
       "      <td>0.012</td>\n",
       "      <td>0.746</td>\n",
       "      <td>0.175</td>\n",
       "    </tr>\n",
       "    <tr>\n",
       "      <th>Multicellular_organism</th>\n",
       "      <td>0.102</td>\n",
       "      <td>0.472</td>\n",
       "      <td>0.174</td>\n",
       "    </tr>\n",
       "    <tr>\n",
       "      <th>Protein</th>\n",
       "      <td>0.681</td>\n",
       "      <td>0.601</td>\n",
       "      <td>0.168</td>\n",
       "    </tr>\n",
       "    <tr>\n",
       "      <th>Organic_compound_other</th>\n",
       "      <td>0.077</td>\n",
       "      <td>0.690</td>\n",
       "      <td>0.119</td>\n",
       "    </tr>\n",
       "    <tr>\n",
       "      <th>Biochemical_process</th>\n",
       "      <td>0.000</td>\n",
       "      <td>0.769</td>\n",
       "      <td>0.104</td>\n",
       "    </tr>\n",
       "    <tr>\n",
       "      <th>DNA</th>\n",
       "      <td>0.591</td>\n",
       "      <td>0.691</td>\n",
       "      <td>0.078</td>\n",
       "    </tr>\n",
       "    <tr>\n",
       "      <th>Biochemical_pathway</th>\n",
       "      <td>0.000</td>\n",
       "      <td>0.745</td>\n",
       "      <td>0.072</td>\n",
       "    </tr>\n",
       "    <tr>\n",
       "      <th>Inorganic_compound_other</th>\n",
       "      <td>0.000</td>\n",
       "      <td>0.393</td>\n",
       "      <td>0.043</td>\n",
       "    </tr>\n",
       "    <tr>\n",
       "      <th>Plant_region</th>\n",
       "      <td>0.038</td>\n",
       "      <td>0.654</td>\n",
       "      <td>0.018</td>\n",
       "    </tr>\n",
       "    <tr>\n",
       "      <th>Inorganic_compound</th>\n",
       "      <td>0.000</td>\n",
       "      <td>0.643</td>\n",
       "      <td>0.010</td>\n",
       "    </tr>\n",
       "    <tr>\n",
       "      <th>Unicellular_organism</th>\n",
       "      <td>0.000</td>\n",
       "      <td>0.100</td>\n",
       "      <td>0.007</td>\n",
       "    </tr>\n",
       "    <tr>\n",
       "      <th>RNA</th>\n",
       "      <td>0.556</td>\n",
       "      <td>0.222</td>\n",
       "      <td>0.006</td>\n",
       "    </tr>\n",
       "    <tr>\n",
       "      <th>Amino_acid_monomer</th>\n",
       "      <td>0.143</td>\n",
       "      <td>0.429</td>\n",
       "      <td>0.005</td>\n",
       "    </tr>\n",
       "    <tr>\n",
       "      <th>Peptide</th>\n",
       "      <td>0.143</td>\n",
       "      <td>0.571</td>\n",
       "      <td>0.005</td>\n",
       "    </tr>\n",
       "    <tr>\n",
       "      <th>Cell</th>\n",
       "      <td>0.429</td>\n",
       "      <td>0.429</td>\n",
       "      <td>0.005</td>\n",
       "    </tr>\n",
       "    <tr>\n",
       "      <th>Element</th>\n",
       "      <td>0.000</td>\n",
       "      <td>0.200</td>\n",
       "      <td>0.004</td>\n",
       "    </tr>\n",
       "    <tr>\n",
       "      <th>Tissue</th>\n",
       "      <td>0.250</td>\n",
       "      <td>0.500</td>\n",
       "      <td>0.003</td>\n",
       "    </tr>\n",
       "    <tr>\n",
       "      <th>Virus</th>\n",
       "      <td>0.000</td>\n",
       "      <td>0.667</td>\n",
       "      <td>0.002</td>\n",
       "    </tr>\n",
       "    <tr>\n",
       "      <th>Polynucleotide</th>\n",
       "      <td>0.500</td>\n",
       "      <td>1.000</td>\n",
       "      <td>0.001</td>\n",
       "    </tr>\n",
       "  </tbody>\n",
       "</table>\n",
       "</div>"
      ],
      "text/plain": [
       "                          GENIA  SciERC  Gold_standard_proportion\n",
       "Plant_hormone             0.012   0.746                     0.175\n",
       "Multicellular_organism    0.102   0.472                     0.174\n",
       "Protein                   0.681   0.601                     0.168\n",
       "Organic_compound_other    0.077   0.690                     0.119\n",
       "Biochemical_process       0.000   0.769                     0.104\n",
       "DNA                       0.591   0.691                     0.078\n",
       "Biochemical_pathway       0.000   0.745                     0.072\n",
       "Inorganic_compound_other  0.000   0.393                     0.043\n",
       "Plant_region              0.038   0.654                     0.018\n",
       "Inorganic_compound        0.000   0.643                     0.010\n",
       "Unicellular_organism      0.000   0.100                     0.007\n",
       "RNA                       0.556   0.222                     0.006\n",
       "Amino_acid_monomer        0.143   0.429                     0.005\n",
       "Peptide                   0.143   0.571                     0.005\n",
       "Cell                      0.429   0.429                     0.005\n",
       "Element                   0.000   0.200                     0.004\n",
       "Tissue                    0.250   0.500                     0.003\n",
       "Virus                     0.000   0.667                     0.002\n",
       "Polynucleotide            0.500   1.000                     0.001"
      ]
     },
     "execution_count": 115,
     "metadata": {},
     "output_type": "execute_result"
    }
   ],
   "source": [
    "recall_df.round(3).sort_values('Gold_standard_proportion', ascending=False)"
   ]
  },
  {
   "cell_type": "markdown",
   "metadata": {},
   "source": [
    "## Identifying specific examples of mismatches\n",
    "Now that we have an overview of what the discrepancy in model predictions are with regards to ontology types, let's take a look at some specific examples of entities where these disagreements occur."
   ]
  },
  {
   "cell_type": "markdown",
   "metadata": {},
   "source": [
    "In order to do this, we need to bring in the gold standard to use the doc key, sentence number and entity list to get the text of entities. We'll make a df with the sentence and the entity for each entity in the overall df, and then we can subset by mismatch type combination and look for good examples."
   ]
  },
  {
   "cell_type": "code",
   "execution_count": 31,
   "metadata": {},
   "outputs": [],
   "source": [
    "gold_path = '../data/straying_off_topic_data/unified_annotations_processed/jsonl_files/FINAL_FOR_EVALUATION_ent_and_rel_all_gold_std_abstracts_08Nov2022.jsonl'\n",
    "with jsonlines.open(gold_path) as reader:\n",
    "    gold_data = []\n",
    "    for obj in reader:\n",
    "        gold_data.append(obj)"
   ]
  },
  {
   "cell_type": "code",
   "execution_count": 32,
   "metadata": {},
   "outputs": [],
   "source": [
    "# Make dict so we can index using doc key\n",
    "gold_dict = {d['doc_key']:d for d in gold_data}"
   ]
  },
  {
   "cell_type": "code",
   "execution_count": 33,
   "metadata": {},
   "outputs": [],
   "source": [
    "def get_sent(doc_key, sent_num, gold_dict):\n",
    "    \"\"\"\n",
    "    Get the sentence as a string using doc key and sentence number.\n",
    "    \"\"\"\n",
    "    doc = gold_dict[doc_key]\n",
    "    sent_list = doc['sentences'][sent_num]\n",
    "    sent_str = ' '.join(sent_list)\n",
    "    return sent_str\n",
    "    \n",
    "def get_ent_text(doc_key, sent_num, ent_list, gold_dict):\n",
    "    \"\"\"\n",
    "    Get the text of the entity using doc key, sent number, and entity list.\n",
    "    \"\"\"\n",
    "    doc = gold_dict[doc_key]\n",
    "    doc_token_list = []\n",
    "    for sent in doc['sentences']:\n",
    "        for tok in sent:\n",
    "            doc_token_list.append(tok)\n",
    "    ent_list = literal_eval(ent_list)\n",
    "    ent_start = ent_list[0]\n",
    "    ent_end = ent_list[1] # End is inclusive\n",
    "    ent_text = ' '.join(doc_token_list[ent_start:ent_end+1])\n",
    "    return ent_text"
   ]
  },
  {
   "cell_type": "code",
   "execution_count": 34,
   "metadata": {},
   "outputs": [],
   "source": [
    "v1 = np.vectorize(get_sent)\n",
    "v2 = np.vectorize(get_ent_text)"
   ]
  },
  {
   "cell_type": "code",
   "execution_count": 35,
   "metadata": {},
   "outputs": [],
   "source": [
    "mismatches['sent_text'] = v1(mismatches.doc_key, mismatches.sent_num, gold_dict)\n",
    "mismatches['ent_text'] = v2(mismatches.doc_key, mismatches.sent_num, mismatches.ent_list, gold_dict)"
   ]
  },
  {
   "cell_type": "code",
   "execution_count": 36,
   "metadata": {},
   "outputs": [
    {
     "data": {
      "text/html": [
       "<div>\n",
       "<style scoped>\n",
       "    .dataframe tbody tr th:only-of-type {\n",
       "        vertical-align: middle;\n",
       "    }\n",
       "\n",
       "    .dataframe tbody tr th {\n",
       "        vertical-align: top;\n",
       "    }\n",
       "\n",
       "    .dataframe thead th {\n",
       "        text-align: right;\n",
       "    }\n",
       "</style>\n",
       "<table border=\"1\" class=\"dataframe\">\n",
       "  <thead>\n",
       "    <tr style=\"text-align: right;\">\n",
       "      <th></th>\n",
       "      <th>doc_key</th>\n",
       "      <th>mismatch_type_GENIA</th>\n",
       "      <th>sent_num</th>\n",
       "      <th>ent_list</th>\n",
       "      <th>ent_type</th>\n",
       "      <th>mismatch_type_SciERC</th>\n",
       "      <th>sent_text</th>\n",
       "      <th>ent_text</th>\n",
       "    </tr>\n",
       "  </thead>\n",
       "  <tbody>\n",
       "    <tr>\n",
       "      <th>0</th>\n",
       "      <td>PMID1161793_abstract</td>\n",
       "      <td>0</td>\n",
       "      <td>0</td>\n",
       "      <td>[0, 2, 'Multicellular_organism']</td>\n",
       "      <td>Multicellular_organism</td>\n",
       "      <td>0</td>\n",
       "      <td>Solanum laciniatum Aiton treated with Gibberel...</td>\n",
       "      <td>Solanum laciniatum Aiton</td>\n",
       "    </tr>\n",
       "    <tr>\n",
       "      <th>1</th>\n",
       "      <td>PMID1161793_abstract</td>\n",
       "      <td>0</td>\n",
       "      <td>0</td>\n",
       "      <td>[5, 6, 'Plant_hormone']</td>\n",
       "      <td>Plant_hormone</td>\n",
       "      <td>1</td>\n",
       "      <td>Solanum laciniatum Aiton treated with Gibberel...</td>\n",
       "      <td>Gibberellic acid</td>\n",
       "    </tr>\n",
       "    <tr>\n",
       "      <th>2</th>\n",
       "      <td>PMID1161793_abstract</td>\n",
       "      <td>0</td>\n",
       "      <td>0</td>\n",
       "      <td>[8, 8, 'Plant_hormone']</td>\n",
       "      <td>Plant_hormone</td>\n",
       "      <td>1</td>\n",
       "      <td>Solanum laciniatum Aiton treated with Gibberel...</td>\n",
       "      <td>GA3</td>\n",
       "    </tr>\n",
       "    <tr>\n",
       "      <th>3</th>\n",
       "      <td>PMID1161793_abstract</td>\n",
       "      <td>0</td>\n",
       "      <td>0</td>\n",
       "      <td>[11, 13, 'Organic_compound_other']</td>\n",
       "      <td>Organic_compound_other</td>\n",
       "      <td>0</td>\n",
       "      <td>Solanum laciniatum Aiton treated with Gibberel...</td>\n",
       "      <td>[2-chloroethyl]-trimethyl ammonium chloride</td>\n",
       "    </tr>\n",
       "    <tr>\n",
       "      <th>4</th>\n",
       "      <td>PMID1161793_abstract</td>\n",
       "      <td>0</td>\n",
       "      <td>0</td>\n",
       "      <td>[15, 15, 'Organic_compound_other']</td>\n",
       "      <td>Organic_compound_other</td>\n",
       "      <td>1</td>\n",
       "      <td>Solanum laciniatum Aiton treated with Gibberel...</td>\n",
       "      <td>CCC</td>\n",
       "    </tr>\n",
       "  </tbody>\n",
       "</table>\n",
       "</div>"
      ],
      "text/plain": [
       "                doc_key  mismatch_type_GENIA  sent_num  \\\n",
       "0  PMID1161793_abstract                    0         0   \n",
       "1  PMID1161793_abstract                    0         0   \n",
       "2  PMID1161793_abstract                    0         0   \n",
       "3  PMID1161793_abstract                    0         0   \n",
       "4  PMID1161793_abstract                    0         0   \n",
       "\n",
       "                             ent_list                ent_type  \\\n",
       "0    [0, 2, 'Multicellular_organism']  Multicellular_organism   \n",
       "1             [5, 6, 'Plant_hormone']           Plant_hormone   \n",
       "2             [8, 8, 'Plant_hormone']           Plant_hormone   \n",
       "3  [11, 13, 'Organic_compound_other']  Organic_compound_other   \n",
       "4  [15, 15, 'Organic_compound_other']  Organic_compound_other   \n",
       "\n",
       "   mismatch_type_SciERC                                          sent_text  \\\n",
       "0                     0  Solanum laciniatum Aiton treated with Gibberel...   \n",
       "1                     1  Solanum laciniatum Aiton treated with Gibberel...   \n",
       "2                     1  Solanum laciniatum Aiton treated with Gibberel...   \n",
       "3                     0  Solanum laciniatum Aiton treated with Gibberel...   \n",
       "4                     1  Solanum laciniatum Aiton treated with Gibberel...   \n",
       "\n",
       "                                      ent_text  \n",
       "0                     Solanum laciniatum Aiton  \n",
       "1                             Gibberellic acid  \n",
       "2                                          GA3  \n",
       "3  [2-chloroethyl]-trimethyl ammonium chloride  \n",
       "4                                          CCC  "
      ]
     },
     "execution_count": 36,
     "metadata": {},
     "output_type": "execute_result"
    }
   ],
   "source": [
    "mismatches.head()"
   ]
  },
  {
   "cell_type": "markdown",
   "metadata": {},
   "source": [
    "Now that we've got our entity texts and sentences, let's pick some examples! I'm going to look for examples from the entity type that was best identified by SciERC and GENIA, respectively (`Plant_hormone` for SciERC and `Protein` for GENIA)"
   ]
  },
  {
   "cell_type": "code",
   "execution_count": 37,
   "metadata": {},
   "outputs": [],
   "source": [
    "scierc_examples = mismatches[(mismatches['mismatch_type_GENIA'] == 0) & (mismatches['mismatch_type_SciERC'] == 1) & (mismatches['ent_type'] == 'Plant_hormone')]"
   ]
  },
  {
   "cell_type": "code",
   "execution_count": 38,
   "metadata": {},
   "outputs": [
    {
     "data": {
      "text/html": [
       "<div>\n",
       "<style scoped>\n",
       "    .dataframe tbody tr th:only-of-type {\n",
       "        vertical-align: middle;\n",
       "    }\n",
       "\n",
       "    .dataframe tbody tr th {\n",
       "        vertical-align: top;\n",
       "    }\n",
       "\n",
       "    .dataframe thead th {\n",
       "        text-align: right;\n",
       "    }\n",
       "</style>\n",
       "<table border=\"1\" class=\"dataframe\">\n",
       "  <thead>\n",
       "    <tr style=\"text-align: right;\">\n",
       "      <th></th>\n",
       "      <th>doc_key</th>\n",
       "      <th>mismatch_type_GENIA</th>\n",
       "      <th>sent_num</th>\n",
       "      <th>ent_list</th>\n",
       "      <th>ent_type</th>\n",
       "      <th>mismatch_type_SciERC</th>\n",
       "      <th>sent_text</th>\n",
       "      <th>ent_text</th>\n",
       "    </tr>\n",
       "  </thead>\n",
       "  <tbody>\n",
       "    <tr>\n",
       "      <th>1</th>\n",
       "      <td>PMID1161793_abstract</td>\n",
       "      <td>0</td>\n",
       "      <td>0</td>\n",
       "      <td>[5, 6, 'Plant_hormone']</td>\n",
       "      <td>Plant_hormone</td>\n",
       "      <td>1</td>\n",
       "      <td>Solanum laciniatum Aiton treated with Gibberel...</td>\n",
       "      <td>Gibberellic acid</td>\n",
       "    </tr>\n",
       "    <tr>\n",
       "      <th>2</th>\n",
       "      <td>PMID1161793_abstract</td>\n",
       "      <td>0</td>\n",
       "      <td>0</td>\n",
       "      <td>[8, 8, 'Plant_hormone']</td>\n",
       "      <td>Plant_hormone</td>\n",
       "      <td>1</td>\n",
       "      <td>Solanum laciniatum Aiton treated with Gibberel...</td>\n",
       "      <td>GA3</td>\n",
       "    </tr>\n",
       "    <tr>\n",
       "      <th>7</th>\n",
       "      <td>PMID1161793_abstract</td>\n",
       "      <td>0</td>\n",
       "      <td>0</td>\n",
       "      <td>[66, 66, 'Plant_hormone']</td>\n",
       "      <td>Plant_hormone</td>\n",
       "      <td>1</td>\n",
       "      <td>Solanum laciniatum Aiton treated with Gibberel...</td>\n",
       "      <td>GA3</td>\n",
       "    </tr>\n",
       "    <tr>\n",
       "      <th>10</th>\n",
       "      <td>PMID1161793_abstract</td>\n",
       "      <td>0</td>\n",
       "      <td>1</td>\n",
       "      <td>[102, 102, 'Plant_hormone']</td>\n",
       "      <td>Plant_hormone</td>\n",
       "      <td>1</td>\n",
       "      <td>Regarding the glyco-alkaloids , the highest pe...</td>\n",
       "      <td>GA3</td>\n",
       "    </tr>\n",
       "    <tr>\n",
       "      <th>12</th>\n",
       "      <td>PMID1161793_abstract</td>\n",
       "      <td>0</td>\n",
       "      <td>2</td>\n",
       "      <td>[129, 129, 'Plant_hormone']</td>\n",
       "      <td>Plant_hormone</td>\n",
       "      <td>1</td>\n",
       "      <td>On the other hand , early application of 1000 ...</td>\n",
       "      <td>GA3</td>\n",
       "    </tr>\n",
       "  </tbody>\n",
       "</table>\n",
       "</div>"
      ],
      "text/plain": [
       "                 doc_key  mismatch_type_GENIA  sent_num  \\\n",
       "1   PMID1161793_abstract                    0         0   \n",
       "2   PMID1161793_abstract                    0         0   \n",
       "7   PMID1161793_abstract                    0         0   \n",
       "10  PMID1161793_abstract                    0         1   \n",
       "12  PMID1161793_abstract                    0         2   \n",
       "\n",
       "                       ent_list       ent_type  mismatch_type_SciERC  \\\n",
       "1       [5, 6, 'Plant_hormone']  Plant_hormone                     1   \n",
       "2       [8, 8, 'Plant_hormone']  Plant_hormone                     1   \n",
       "7     [66, 66, 'Plant_hormone']  Plant_hormone                     1   \n",
       "10  [102, 102, 'Plant_hormone']  Plant_hormone                     1   \n",
       "12  [129, 129, 'Plant_hormone']  Plant_hormone                     1   \n",
       "\n",
       "                                            sent_text          ent_text  \n",
       "1   Solanum laciniatum Aiton treated with Gibberel...  Gibberellic acid  \n",
       "2   Solanum laciniatum Aiton treated with Gibberel...               GA3  \n",
       "7   Solanum laciniatum Aiton treated with Gibberel...               GA3  \n",
       "10  Regarding the glyco-alkaloids , the highest pe...               GA3  \n",
       "12  On the other hand , early application of 1000 ...               GA3  "
      ]
     },
     "execution_count": 38,
     "metadata": {},
     "output_type": "execute_result"
    }
   ],
   "source": [
    "scierc_examples.head()"
   ]
  },
  {
   "cell_type": "code",
   "execution_count": 39,
   "metadata": {},
   "outputs": [
    {
     "data": {
      "text/plain": [
       "'Solanum laciniatum Aiton treated with Gibberellic acid ( GA3 ) , [2-chloroethyl]-trimethyl ammonium chloride ( CCC ) , and their combinations at early and late stages of growth showed that early application of 2000 ppm CCC produced the greatest stem , leaves , and whole plant dry weight , followed by the combination of early application of 1000 ppm CCC and late application of 100 ppm GA3 ; whereas all GA3 treatments decreased the dry weight production compared with the controls .'"
      ]
     },
     "execution_count": 39,
     "metadata": {},
     "output_type": "execute_result"
    }
   ],
   "source": [
    "scierc_examples.iloc[1,6]"
   ]
  },
  {
   "cell_type": "code",
   "execution_count": 40,
   "metadata": {},
   "outputs": [],
   "source": [
    "genia_examples = mismatches[(mismatches['mismatch_type_GENIA'] == 1) & (mismatches['mismatch_type_SciERC'] == 0) & (mismatches['ent_type'] == 'Protein')]"
   ]
  },
  {
   "cell_type": "code",
   "execution_count": 41,
   "metadata": {
    "scrolled": true
   },
   "outputs": [
    {
     "data": {
      "text/html": [
       "<div>\n",
       "<style scoped>\n",
       "    .dataframe tbody tr th:only-of-type {\n",
       "        vertical-align: middle;\n",
       "    }\n",
       "\n",
       "    .dataframe tbody tr th {\n",
       "        vertical-align: top;\n",
       "    }\n",
       "\n",
       "    .dataframe thead th {\n",
       "        text-align: right;\n",
       "    }\n",
       "</style>\n",
       "<table border=\"1\" class=\"dataframe\">\n",
       "  <thead>\n",
       "    <tr style=\"text-align: right;\">\n",
       "      <th></th>\n",
       "      <th>doc_key</th>\n",
       "      <th>mismatch_type_GENIA</th>\n",
       "      <th>sent_num</th>\n",
       "      <th>ent_list</th>\n",
       "      <th>ent_type</th>\n",
       "      <th>mismatch_type_SciERC</th>\n",
       "      <th>sent_text</th>\n",
       "      <th>ent_text</th>\n",
       "    </tr>\n",
       "  </thead>\n",
       "  <tbody>\n",
       "    <tr>\n",
       "      <th>24</th>\n",
       "      <td>PMID12744517_abstract</td>\n",
       "      <td>1</td>\n",
       "      <td>0</td>\n",
       "      <td>[5, 5, 'Protein']</td>\n",
       "      <td>Protein</td>\n",
       "      <td>0</td>\n",
       "      <td>Nonspecific lipid transfer proteins ( nsLTPs )...</td>\n",
       "      <td>nsLTPs</td>\n",
       "    </tr>\n",
       "    <tr>\n",
       "      <th>25</th>\n",
       "      <td>PMID12744517_abstract</td>\n",
       "      <td>1</td>\n",
       "      <td>1</td>\n",
       "      <td>[25, 25, 'Protein']</td>\n",
       "      <td>Protein</td>\n",
       "      <td>0</td>\n",
       "      <td>Three cDNAs coding nsLTPs from grape ( Vitis v...</td>\n",
       "      <td>nsLTPs</td>\n",
       "    </tr>\n",
       "    <tr>\n",
       "      <th>84</th>\n",
       "      <td>PMID12777041_abstract</td>\n",
       "      <td>1</td>\n",
       "      <td>3</td>\n",
       "      <td>[88, 88, 'Protein']</td>\n",
       "      <td>Protein</td>\n",
       "      <td>0</td>\n",
       "      <td>A total of 26 putative CBPs were identified .</td>\n",
       "      <td>CBPs</td>\n",
       "    </tr>\n",
       "    <tr>\n",
       "      <th>85</th>\n",
       "      <td>PMID12777041_abstract</td>\n",
       "      <td>1</td>\n",
       "      <td>5</td>\n",
       "      <td>[113, 113, 'Protein']</td>\n",
       "      <td>Protein</td>\n",
       "      <td>0</td>\n",
       "      <td>They are homologues of previously identified C...</td>\n",
       "      <td>CBPs</td>\n",
       "    </tr>\n",
       "    <tr>\n",
       "      <th>252</th>\n",
       "      <td>PMID16657524_abstract</td>\n",
       "      <td>1</td>\n",
       "      <td>1</td>\n",
       "      <td>[29, 29, 'Protein']</td>\n",
       "      <td>Protein</td>\n",
       "      <td>0</td>\n",
       "      <td>Time sequence comparisons of the amylase zymog...</td>\n",
       "      <td>amylase</td>\n",
       "    </tr>\n",
       "  </tbody>\n",
       "</table>\n",
       "</div>"
      ],
      "text/plain": [
       "                   doc_key  mismatch_type_GENIA  sent_num  \\\n",
       "24   PMID12744517_abstract                    1         0   \n",
       "25   PMID12744517_abstract                    1         1   \n",
       "84   PMID12777041_abstract                    1         3   \n",
       "85   PMID12777041_abstract                    1         5   \n",
       "252  PMID16657524_abstract                    1         1   \n",
       "\n",
       "                  ent_list ent_type  mismatch_type_SciERC  \\\n",
       "24       [5, 5, 'Protein']  Protein                     0   \n",
       "25     [25, 25, 'Protein']  Protein                     0   \n",
       "84     [88, 88, 'Protein']  Protein                     0   \n",
       "85   [113, 113, 'Protein']  Protein                     0   \n",
       "252    [29, 29, 'Protein']  Protein                     0   \n",
       "\n",
       "                                             sent_text ent_text  \n",
       "24   Nonspecific lipid transfer proteins ( nsLTPs )...   nsLTPs  \n",
       "25   Three cDNAs coding nsLTPs from grape ( Vitis v...   nsLTPs  \n",
       "84       A total of 26 putative CBPs were identified .     CBPs  \n",
       "85   They are homologues of previously identified C...     CBPs  \n",
       "252  Time sequence comparisons of the amylase zymog...  amylase  "
      ]
     },
     "execution_count": 41,
     "metadata": {},
     "output_type": "execute_result"
    }
   ],
   "source": [
    "genia_examples.head()"
   ]
  },
  {
   "cell_type": "code",
   "execution_count": 42,
   "metadata": {},
   "outputs": [
    {
     "data": {
      "text/plain": [
       "'A total of 26 putative CBPs were identified .'"
      ]
     },
     "execution_count": 42,
     "metadata": {},
     "output_type": "execute_result"
    }
   ],
   "source": [
    "genia_examples.iloc[2,6]"
   ]
  }
 ],
 "metadata": {
  "kernelspec": {
   "display_name": "dygiepp_fresh",
   "language": "python",
   "name": "dygiepp_fresh"
  },
  "language_info": {
   "codemirror_mode": {
    "name": "ipython",
    "version": 3
   },
   "file_extension": ".py",
   "mimetype": "text/x-python",
   "name": "python",
   "nbconvert_exporter": "python",
   "pygments_lexer": "ipython3",
   "version": "3.7.13"
  }
 },
 "nbformat": 4,
 "nbformat_minor": 2
}
