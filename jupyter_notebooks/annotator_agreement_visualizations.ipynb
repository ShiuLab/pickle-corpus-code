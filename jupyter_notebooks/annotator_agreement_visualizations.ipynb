{
 "cells": [
  {
   "cell_type": "markdown",
   "metadata": {},
   "source": [
    "# Annotator agreement visualizations\n",
    "Code to make plots of inter-annotator agreement for entity and relation annotation."
   ]
  },
  {
   "cell_type": "markdown",
   "metadata": {},
   "source": [
    "## Entity IAA\n",
    "The code to calculate the raw numbers for this section is found in the script `annotation/iaa/entity_iaa.py`. An example of how to run this script is:\n",
    "\n",
    "```\n",
    "python entityIAA.py path/to/project/dir > my_output_file.py\n",
    "```\n",
    "\n",
    "Since we use code from the [bratiaa](https://github.com/kldtz/bratiaa) project for this script, there is a specific directory structure required in order to run it, which is specified in the module documentation at the top of the script.\n",
    "<br>\n",
    "\n",
    "I ran this script after each round of entity annotation on all annotators in order to get the double-blind IAA. Then, after final refinement of the guidelines and making one final gold standard annotation, I used the gold standard annotation as an \"annotator\" in order to calculate the single-blind IAA. This was somewhat labor-intensive, because due to the required directory structure, it involved a lot of copying and pasting on the command line; there is a lot of room for imptovement in efficiency here. The files being read in here are the result of this process."
   ]
  },
  {
   "cell_type": "code",
   "execution_count": 2,
   "metadata": {},
   "outputs": [],
   "source": [
    "import pandas as pd \n",
    "from io import StringIO\n",
    "import matplotlib.pyplot as plt\n",
    "%matplotlib inline\n",
    "plt.rcParams.update({'font.size': 14})\n",
    "from os import listdir\n",
    "from os.path import join, splitext\n",
    "import numpy as np\n",
    "from math import sqrt\n",
    "from collections import defaultdict"
   ]
  },
  {
   "cell_type": "markdown",
   "metadata": {},
   "source": [
    "### Read in files and pre-process data"
   ]
  },
  {
   "cell_type": "code",
   "execution_count": 3,
   "metadata": {},
   "outputs": [],
   "source": [
    "# Define a function to read in the files\n",
    "def read_entity_iaa(ent_iaa_path):\n",
    "    \"\"\"\n",
    "    Read in the IAA from a bratiaa markdown file.\n",
    "    \n",
    "    parameters:\n",
    "        ent_iaa_path, str: path to Markdown file \n",
    "        \n",
    "    returns:\n",
    "        dfs, dict: keys are IAA type names, values are df's with IAA values \n",
    "        overalls, dict: keys are overall names, values are 2-tuples of (mean, sd)\n",
    "    \"\"\"\n",
    "    per_doc_inst_table = []\n",
    "    per_label_inst_table = []\n",
    "    overall_inst = ()\n",
    "    per_doc_tok_table = []\n",
    "    per_label_tok_table = []\n",
    "    overall_tok = ()\n",
    "    \n",
    "    tok_inst_counter = 0   # 0: none\n",
    "                           # 1: in instance-based \n",
    "                           # 2: in token-based\n",
    "    doc_label_counter = 0  # 0: reading irrelevant lines \n",
    "                           # 1: reading per-doc \n",
    "                           # 2: reading per-label\n",
    "                \n",
    "    # Read info for tables \n",
    "    with open(ent_iaa_path) as myfile:\n",
    "        lines = myfile.readlines()\n",
    "        for line in lines:\n",
    "            # Check which section we're in \n",
    "            if 'Instance-based' in line:\n",
    "                tok_inst_counter = 1\n",
    "            elif 'Token-based' in line:\n",
    "                tok_inst_counter = 2\n",
    "            \n",
    "            # Check which subsection we're in\n",
    "            if 'Agreement per Document' in line:\n",
    "                doc_label_counter = 1\n",
    "            elif 'Agreement per Label' in line:\n",
    "                doc_label_counter = 2\n",
    "                \n",
    "            # Check if this is a line to read \n",
    "            if line[0] == '|':\n",
    "                # Put it in the proper table list \n",
    "                if tok_inst_counter == 1 and doc_label_counter == 1:\n",
    "                    per_doc_inst_table.append(line)\n",
    "                elif tok_inst_counter == 1 and doc_label_counter == 2:\n",
    "                    per_label_inst_table.append(line)\n",
    "                elif tok_inst_counter == 2 and doc_label_counter == 1:\n",
    "                    per_doc_tok_table.append(line)\n",
    "                elif tok_inst_counter == 2 and doc_label_counter == 2:\n",
    "                    per_label_tok_table.append(line)\n",
    "            elif '* Mean F1:' in line:\n",
    "                first_colon = line.index(':')\n",
    "                second_colon = line.index(':', first_colon+1)\n",
    "                first_comma = line.index(',', first_colon+1)\n",
    "                mean = float(line[first_colon+1:first_comma].strip())\n",
    "                sd = float(line[second_colon+1:].strip())\n",
    "                if tok_inst_counter == 1:\n",
    "                    overall_inst = (mean, sd)\n",
    "                elif tok_inst_counter == 2:\n",
    "                    overall_tok = (mean, sd)\n",
    "                    \n",
    "    # Convert markdown tables to pandas df \n",
    "    tables = {'inst_doc':per_doc_inst_table, 'inst_label':per_label_inst_table,\n",
    "             'tok_doc':per_doc_tok_table, 'tok_label':per_label_tok_table}\n",
    "    dfs = {}\n",
    "    for table_name, table_contents in tables.items():\n",
    "        # Convert string to readable object\n",
    "        DATA = StringIO(\"\\n\".join(table_contents))\n",
    "        # Read into pandas df \n",
    "        df = pd.read_csv(DATA, sep=\"|\", index_col=1, header=0)\n",
    "        # Drop the NA columns caused by the pipe chars on either side of the table\n",
    "        df = df.dropna(axis=1, how='all')\n",
    "        # Strip whitespace from column and index names \n",
    "        df.columns = df.columns.str.strip()\n",
    "        df.index = df.index.str.strip()\n",
    "        # Drop the underline row \n",
    "        df = df[df['Mean F1'].str.contains(\"-\")==False]\n",
    "        # Drop rows with 'nan'\n",
    "        df = df[df['Mean F1'].str.contains('nan')==False]\n",
    "        # Convert str to int \n",
    "        df['Mean F1'] = pd.to_numeric(df['Mean F1'], downcast='float', errors='ignore')\n",
    "        df['SD F1'] = pd.to_numeric(df['SD F1'], downcast='float', errors='ignore')\n",
    "        # Add to dict\n",
    "        dfs[table_name] = df\n",
    "            \n",
    "    # Make dict for overall values \n",
    "    overalls = {'inst':overall_inst, 'tok':overall_tok}\n",
    "    \n",
    "    return dfs, overalls"
   ]
  },
  {
   "cell_type": "code",
   "execution_count": 4,
   "metadata": {},
   "outputs": [],
   "source": [
    "# Define paths for each round\n",
    "double_ent_paths = {'Round 1': '../data/straying_off_topic_data/iaa/ten_gold_standard_docs.md',\n",
    "        'Round 2': '../data/straying_off_topic_data/iaa/second_ten_gold_standard_docs.md',\n",
    "        'Round 3': '../data/straying_off_topic_data/iaa/third_ten_gold_standard_docs_entityIAA.md',\n",
    "        'Round 4': '../data/straying_off_topic_data/iaa/top_ten_journals_entity_IAA.md',\n",
    "        'Round 5': '../data/straying_off_topic_data/iaa/five_gold_standard_docs_entity_IAA_FINAL_doc.md',\n",
    "        'Round 6': '../data/straying_off_topic_data/iaa/last_ten_with_types.md',\n",
    "        'Round 7': '../data/straying_off_topic_data/iaa/50_final_overlapping_entity_IAA.md'}\n"
   ]
  },
  {
   "cell_type": "code",
   "execution_count": 5,
   "metadata": {},
   "outputs": [],
   "source": [
    "# Read in the files\n",
    "double_ents = {}\n",
    "for r, path in double_ent_paths.items():\n",
    "    _, r_overalls = read_entity_iaa(path)\n",
    "    double_ents[r] = r_overalls"
   ]
  },
  {
   "cell_type": "code",
   "execution_count": 6,
   "metadata": {},
   "outputs": [
    {
     "data": {
      "text/plain": [
       "{'Round 1': (0.322, 0.097),\n",
       " 'Round 2': (0.56, 0.098),\n",
       " 'Round 3': (0.335, 0.072),\n",
       " 'Round 4': (0.462, 0.039),\n",
       " 'Round 5': (0.512, 0.033),\n",
       " 'Round 6': (0.61, 0.0),\n",
       " 'Round 7': (0.645, 0.024)}"
      ]
     },
     "execution_count": 6,
     "metadata": {},
     "output_type": "execute_result"
    }
   ],
   "source": [
    "# Process the double blind entity dictionary\n",
    "ent_round_double = {k: v['inst'] for k, v in double_ents.items()}\n",
    "ent_round_double"
   ]
  },
  {
   "cell_type": "code",
   "execution_count": 7,
   "metadata": {},
   "outputs": [],
   "source": [
    "# Number of annotators and docs per round\n",
    "ann_num = {'Round 1': 4,\n",
    "          'Round 2': 4,\n",
    "          'Round 3': 4,\n",
    "          'Round 4': 3,\n",
    "          'Round 5': 3, \n",
    "          'Round 6': 2,\n",
    "          'Round 7': 4}\n",
    "\n",
    "doc_num = {'Round 1': 10,\n",
    "          'Round 2': 10,\n",
    "          'Round 3': 10,\n",
    "          'Round 4': 10,\n",
    "          'Round 5': 5, \n",
    "          'Round 6': 10,\n",
    "          'Round 7': 50}"
   ]
  },
  {
   "cell_type": "markdown",
   "metadata": {},
   "source": [
    "## Relation IAA\n",
    "This code was written from scratch, and so doesn't suffer as many limitations in terms of directory structure. It still required some command-line copying, as I needed to make a directory for the gold standard as an annotator, that has the same subdirectory structure as the original annotators, but I didn't have to move anything besides that. Additionally, the data is saved in a csv, instead of a Markdown file, which makes it easier to read in."
   ]
  },
  {
   "cell_type": "code",
   "execution_count": 8,
   "metadata": {},
   "outputs": [],
   "source": [
    "# Define function to read in the data\n",
    "def read_relation_iaa(path, prefix):\n",
    "    \"\"\"\n",
    "    Read in the relation IAA data. \n",
    "    \n",
    "    parameters:\n",
    "        path, str: path to directory containing relation IAA files \n",
    "        prefix, str: the prefix used to save the files \n",
    "    \n",
    "    returns: \n",
    "        per_doc, df: IAA per document \n",
    "        overall, df: agg df with overall mean and SD\n",
    "    \"\"\"\n",
    "    per_doc = pd.read_csv(f'{path}/{prefix}_per_doc.csv', index_col=0, header=1)\n",
    "    overall = pd.read_csv(f'{path}/{prefix}_overall.csv', index_col=0)\n",
    "    \n",
    "    return per_doc, overall"
   ]
  },
  {
   "cell_type": "code",
   "execution_count": 9,
   "metadata": {},
   "outputs": [],
   "source": [
    "# Define paths\n",
    "double_pre_path = '../data/straying_off_topic_data/iaa/relation_double_iaa'\n",
    "\n",
    "rel_double_prefixes_loose = {'Round 1': 'ten_gold_standard_docs_RELATIONS_LOOSE',\n",
    "        'Round 2': 'second_ten_gold_standard_docs_RELATIONS_LOOSE',\n",
    "        'Round 3': 'third_ten_gold_standard_docs_RELATIONS_LOOSE',\n",
    "        'Round 4': 'ten_top_journal_abstracts_RELATIONS_LOOSE',\n",
    "        'Round 5': 'five_gold_standard_docs_RELATIONS_LOOSE',\n",
    "        'Round 6': 'last_ten_gold_standard_docs_RELATIONS_LOOSE',\n",
    "        'Round 7': 'final_overlap_50_docs_RELATIONS_LOOSE'}\n",
    "\n",
    "rel_double_prefixes_strict = {'Round 1': 'ten_gold_standard_docs_RELATIONS_STRICT',\n",
    "        'Round 2': 'second_ten_gold_standard_docs_RELATIONS_STRICT',\n",
    "        'Round 3': 'third_ten_gold_standard_docs_RELATIONS_STRICT',\n",
    "        'Round 4': 'ten_top_journal_abstracts_RELATIONS_STRICT',\n",
    "        'Round 5': 'five_gold_standard_docs_RELATIONS_STRICT',\n",
    "        'Round 6': 'last_ten_gold_standard_docs_RELATIONS_STRICT',\n",
    "        'Round 7': 'final_overlap_50_docs_RELATIONS_STRICT'}"
   ]
  },
  {
   "cell_type": "code",
   "execution_count": 10,
   "metadata": {},
   "outputs": [],
   "source": [
    "# Read in files\n",
    "rel_double_overall_dfs_loose = {}\n",
    "for r, prefix in rel_double_prefixes_loose.items():\n",
    "    _, overall = read_relation_iaa(double_pre_path, prefix)\n",
    "    rel_double_overall_dfs_loose[r] = overall\n",
    "    \n",
    "rel_double_overall_dfs_strict = {}\n",
    "for r, prefix in rel_double_prefixes_strict.items():\n",
    "    _, overall = read_relation_iaa(double_pre_path, prefix)\n",
    "    rel_double_overall_dfs_strict[r] = overall"
   ]
  },
  {
   "cell_type": "code",
   "execution_count": 11,
   "metadata": {},
   "outputs": [],
   "source": [
    "# Get data in same tuple format as we did for entities\n",
    "rel_double_overall_loose = {k:(v.loc['mean', 'iaa'], v.loc['std', 'iaa']) for k,v in rel_double_overall_dfs_loose.items()}\n",
    "rel_double_overall_strict = {k:(v.loc['mean', 'iaa'], v.loc['std', 'iaa']) for k,v in rel_double_overall_dfs_strict.items()}"
   ]
  },
  {
   "cell_type": "code",
   "execution_count": 12,
   "metadata": {},
   "outputs": [
    {
     "data": {
      "text/plain": [
       "({'Round 1': (0.3684068041579708, 0.3089514611019544),\n",
       "  'Round 2': (0.508442390942391, 0.3583646815268073),\n",
       "  'Round 3': (0.4276726309892768, 0.3006259347057197),\n",
       "  'Round 4': (0.5378675194034142, 0.3365104011389612),\n",
       "  'Round 5': (0.5628968253968253, 0.3258831175612101),\n",
       "  'Round 6': (0.5853787878787878, 0.3551762155859358),\n",
       "  'Round 7': (0.628730520914976, 0.3009985774510983)},\n",
       " {'Round 1': (0.1380737552274547, 0.2275581080701562),\n",
       "  'Round 2': (0.2528105228105228, 0.38344867562311),\n",
       "  'Round 3': (0.3346472869209623, 0.2982633794951397),\n",
       "  'Round 4': (0.3992847688206636, 0.3389977001040718),\n",
       "  'Round 5': (0.5156746031746031, 0.3011304104942983),\n",
       "  'Round 6': (0.398030303030303, 0.4209637920691535),\n",
       "  'Round 7': (0.4911001835900214, 0.3105296420052333)})"
      ]
     },
     "execution_count": 12,
     "metadata": {},
     "output_type": "execute_result"
    }
   ],
   "source": [
    "rel_double_overall_loose, rel_double_overall_strict"
   ]
  },
  {
   "cell_type": "code",
   "execution_count": 13,
   "metadata": {},
   "outputs": [],
   "source": [
    "rel_ann_num = {'Round 1': 4,\n",
    "          'Round 2': 3,\n",
    "          'Round 3': 3,\n",
    "          'Round 4': 3,\n",
    "          'Round 5': 2, \n",
    "          'Round 6': 2,\n",
    "          'Round 7': 3}"
   ]
  },
  {
   "cell_type": "markdown",
   "metadata": {},
   "source": [
    "## Make plot"
   ]
  },
  {
   "cell_type": "code",
   "execution_count": 14,
   "metadata": {},
   "outputs": [],
   "source": [
    "round_names = ent_round_double.keys()\n",
    "db_means = [v[0] for k,v in ent_round_double.items()]\n",
    "db_se = [v[1]/sqrt(ann_num[k]) for k,v in ent_round_double.items()]"
   ]
  },
  {
   "cell_type": "code",
   "execution_count": 15,
   "metadata": {},
   "outputs": [],
   "source": [
    "rel_round_names = rel_double_overall_loose.keys()\n",
    "db_rel_means_loose = [v[0] for k,v in rel_double_overall_loose.items()]\n",
    "db_rel_se_loose = [v[1]/sqrt(rel_ann_num[k]) for k,v in rel_double_overall_loose.items()]\n",
    "db_rel_means_strict = [v[0] for k,v in rel_double_overall_strict.items()]\n",
    "db_rel_se_strict = [v[1]/sqrt(rel_ann_num[k]) for k,v in rel_double_overall_strict.items()]"
   ]
  },
  {
   "cell_type": "code",
   "execution_count": 21,
   "metadata": {},
   "outputs": [
    {
     "data": {
      "text/plain": [
       "(0.645, 0.4911001835900214, 0.628730520914976)"
      ]
     },
     "execution_count": 21,
     "metadata": {},
     "output_type": "execute_result"
    }
   ],
   "source": [
    "# Get the final IAA for each\n",
    "db_means[-1], db_rel_means_strict[-1], db_rel_means_loose[-1]"
   ]
  },
  {
   "cell_type": "code",
   "execution_count": 17,
   "metadata": {},
   "outputs": [
    {
     "data": {
      "image/png": "[encoded data removed]",
      "text/plain": [
       "<Figure size 1500x500 with 2 Axes>"
      ]
     },
     "metadata": {},
     "output_type": "display_data"
    }
   ],
   "source": [
    "fig, (ax1, ax2) = plt.subplots(1, 2, sharey=True, figsize=(15,5))\n",
    "\n",
    "x = np.arange(len(round_names))\n",
    "\n",
    "ax1.plot(x, db_means,'bo:', label='Double-blind agreement')\n",
    "ent_err_cont = ax1.errorbar(x, db_means, yerr=db_se, fmt='bo:')\n",
    "ax1.set_xticks(x, round_names, size=12)\n",
    "xtick_locs, xtick_labels = ax1.get_xticks(), ax1.get_xticklabels()\n",
    "for xtick_loc, xtick_label in zip(xtick_locs, ann_num.keys()):\n",
    "    ann_text = f'a = {ann_num[xtick_label]}'\n",
    "    doc_text = f'n = {doc_num[xtick_label]}'\n",
    "    box_text = f'{ann_text}\\n{doc_text}'\n",
    "    t = ax1.text(xtick_loc, -0.2, box_text, ha='center', va='center',\n",
    "                 size=12, bbox=dict(boxstyle=\"square,pad=0.3\", facecolor='white'))\n",
    "\n",
    "ax2.plot(x + 0.1, db_rel_means_loose,'co-.', label='Loose')\n",
    "rel_loose_err_cont = ax2.errorbar(x + 0.1, db_rel_means_loose, yerr=db_rel_se_loose, fmt='co-.')\n",
    "ax2.plot(x - 0.1, db_rel_means_strict,'bo:', label='Strict')\n",
    "rel_strict_err_cont = ax2.errorbar(x - 0.1, db_rel_means_strict, yerr=db_rel_se_strict, fmt='bo:')\n",
    "ax2.set_xticks(x, rel_round_names, size=12)\n",
    "ax2.legend(fontsize=12, loc='upper left')\n",
    "xtick_locs, xtick_labels = ax2.get_xticks(), ax2.get_xticklabels()\n",
    "for xtick_loc, xtick_label in zip(xtick_locs, ann_num.keys()):\n",
    "    ann_text = f'a = {rel_ann_num[xtick_label]}'\n",
    "    doc_text = f'n = {doc_num[xtick_label]}'\n",
    "    box_text = f'{ann_text}\\n{doc_text}'\n",
    "    t = ax2.text(xtick_loc, -0.2, box_text, ha='center', va='center',\n",
    "                 size=12, bbox=dict(boxstyle=\"square,pad=0.3\", facecolor='white'))\n",
    "ax1.grid(axis='y')\n",
    "ax2.grid(axis='y')\n",
    "fig.supylabel('F1 agreement score', fontsize=14)\n",
    "fig.supxlabel('Annotation round', fontsize=14)\n",
    "fig.subplots_adjust(bottom=0.3, left=0.1)\n",
    "\n",
    "\n",
    "fig.savefig('../data/straying_off_topic_data/iaa/double_blind_iaa_semantic_names_REVISION_FINAL.png', bbox_inches='tight', dpi=600)"
   ]
  },
  {
   "cell_type": "markdown",
   "metadata": {},
   "source": [
    "### Check CI overlaps\n",
    "Quantify which CIs overlap since it's hard to tell from the plot:"
   ]
  },
  {
   "cell_type": "code",
   "execution_count": 18,
   "metadata": {},
   "outputs": [
    {
     "data": {
      "text/plain": [
       "defaultdict(list,\n",
       "            {0.0: [0.2735, 0.3705],\n",
       "             1.0: [0.511, 0.6090000000000001],\n",
       "             2.0: [0.29900000000000004, 0.371],\n",
       "             3.0: [0.4394833395016046, 0.4845166604983954],\n",
       "             4.0: [0.4929474411167424, 0.5310525588832576],\n",
       "             5.0: [0.61, 0.61],\n",
       "             6.0: [0.633, 0.657]})"
      ]
     },
     "execution_count": 18,
     "metadata": {},
     "output_type": "execute_result"
    }
   ],
   "source": [
    "ent_intervs = defaultdict(list)\n",
    "for pth in ent_err_cont.lines[2][0].get_paths():\n",
    "    for seg in pth.iter_segments():\n",
    "        ent_intervs[seg[0][0]].append(seg[0][1])\n",
    "ent_intervs"
   ]
  },
  {
   "cell_type": "markdown",
   "metadata": {},
   "source": [
    "Round 7 errorbar doesn't overlap any of the other errorbars"
   ]
  },
  {
   "cell_type": "code",
   "execution_count": 19,
   "metadata": {},
   "outputs": [
    {
     "data": {
      "text/plain": [
       "defaultdict(list,\n",
       "            {0.1: [0.21393107360699357, 0.522882534708948],\n",
       "             1.1: [0.3015404455948343, 0.7153443362899476],\n",
       "             2.1: [0.25410616666154673, 0.6012390953170069],\n",
       "             3.1: [0.34358314872072593, 0.7321518900861024],\n",
       "             4.1: [0.33246266309508077, 0.7933309876985698],\n",
       "             5.1: [0.3342312773217975, 0.8365262984357782],\n",
       "             6.1: [0.45494891119789005, 0.8025121306320621]})"
      ]
     },
     "execution_count": 19,
     "metadata": {},
     "output_type": "execute_result"
    }
   ],
   "source": [
    "rel_loose_intervs = defaultdict(list)\n",
    "for pth in rel_loose_err_cont.lines[2][0].get_paths():\n",
    "    for seg in pth.iter_segments():\n",
    "        rel_loose_intervs[seg[0][0]].append(seg[0][1])\n",
    "rel_loose_intervs"
   ]
  },
  {
   "cell_type": "markdown",
   "metadata": {},
   "source": [
    "All visually and numerically overlap"
   ]
  },
  {
   "cell_type": "code",
   "execution_count": 20,
   "metadata": {},
   "outputs": [
    {
     "data": {
      "text/plain": [
       "defaultdict(list,\n",
       "            {-0.1: [0.02429470119237659, 0.2518528092625328],\n",
       "             0.9: [0.03142632671911472, 0.4741947189019309],\n",
       "             1.9: [0.16244484448003588, 0.5068497293618888],\n",
       "             2.9: [0.2035643554109137, 0.5950051822304135],\n",
       "             3.9: [0.3027432478925961, 0.7286059584566101],\n",
       "             4.9: [0.10036395102420081, 0.6956966550364052],\n",
       "             5.9: [0.3118158111869418, 0.670384555993101]})"
      ]
     },
     "execution_count": 20,
     "metadata": {},
     "output_type": "execute_result"
    }
   ],
   "source": [
    "rel_strict_intervs = defaultdict(list)\n",
    "for pth in rel_strict_err_cont.lines[2][0].get_paths():\n",
    "    for seg in pth.iter_segments():\n",
    "        rel_strict_intervs[seg[0][0]].append(seg[0][1])\n",
    "rel_strict_intervs"
   ]
  },
  {
   "cell_type": "markdown",
   "metadata": {},
   "source": [
    "Rounds 5 and 7 don't overlap with Round 1!"
   ]
  }
 ],
 "metadata": {
  "kernelspec": {
   "display_name": "pickle",
   "language": "python",
   "name": "pickle"
  },
  "language_info": {
   "codemirror_mode": {
    "name": "ipython",
    "version": 3
   },
   "file_extension": ".py",
   "mimetype": "text/x-python",
   "name": "python",
   "nbconvert_exporter": "python",
   "pygments_lexer": "ipython3",
   "version": "3.7.12"
  }
 },
 "nbformat": 4,
 "nbformat_minor": 2
}
