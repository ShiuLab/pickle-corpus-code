{
 "cells": [
  {
   "cell_type": "markdown",
   "metadata": {},
   "source": [
    "# Vocabulary analysis\n",
    "In this notebooks, I'll look for out-of-vocabulary words in each pairwise comparison of corpora. The more out-of-vocabulary words for a given pair, the less similar they are to one another. We expect that SciERC and PICKLE will have more overlapping vocabulary."
   ]
  },
  {
   "cell_type": "code",
   "execution_count": 19,
   "metadata": {},
   "outputs": [],
   "source": [
    "import jsonlines\n",
    "import matplotlib.pyplot as plt\n",
    "plt.rcParams.update({'font.size': 14})\n",
    "import pandas as pd\n",
    "import numpy as np\n",
    "\n",
    "# Importing my own Dataset class\n",
    "import sys\n",
    "sys.path.append('../models/corpus_comparison/')\n",
    "from dataset import Dataset"
   ]
  },
  {
   "cell_type": "markdown",
   "metadata": {},
   "source": [
    "For this analysis, we'll use the SciERC, GENIA, and PICKLE corpora to get the sets of tokens that make up the three corpora. We'll then look for out-of-vocabulary words in each pairwise comparison of corpora. Based on the pre-trained model results, in which SciERC outperformed GENIA on the PICKLE corpus, we expect to see that there are more out-of-vocabulary words in the GENIA-PICKLE comparison than in the SciERC-PICKLE comparison.\n",
    "### Getting our corpus vocabularies\n",
    "First, we have to get the GENIA and SciERC datasets."
   ]
  },
  {
   "cell_type": "markdown",
   "metadata": {},
   "source": [
    "#### Downloading SciERC and GENIA data\n",
    "We'll use the code provided in the [DyGIE++](https://github.com/dwadden/dygiepp) repo for this purpose, running the following commands from the root of the `dygiepp` repo:\n",
    "\n",
    "```\n",
    "bash ./scripts/data/get_scierc.sh\n",
    "```\n",
    "\n",
    "```\n",
    "bash ./scripts/data/get_genia.sh\n",
    "```"
   ]
  },
  {
   "cell_type": "markdown",
   "metadata": {},
   "source": [
    "### Comparing vocabularies\n",
    "Now that we have all three datasets, we can compare them. This is done with the script `out_of_vocab_comparison.py`, found in the `models/corpus_comparison` directory.\n",
    "\n",
    "<br>\n",
    "\n",
    "*A summary of the comparisons:* For each pair of datasets, a total of 6 metrics were calculated. For each of unigrams, bigrams, and trigrams, the datasets were compared in both directions, and the number of out-of-vocabulary words for that comparison were computed. In order to be able to compare the differences between PICKLE/GENIA and PICKLE/SciERC, the comparisons were normalized by the number of words of that n-gram length in the comparison corpus, making the final calculation equivalent to:\n",
    "\n",
    "```len(set(ngrams in PICKLE) - set(ngrams in GENIA/SciERC)) / len(ngrams in GENIA/SciERC)```"
   ]
  },
  {
   "cell_type": "markdown",
   "metadata": {},
   "source": [
    "#### Commands used to generate comparisons\n",
    "The relative paths here are specific to my local filesystem/data directory structure, which doesn't come along with this repository. These commands were run form the `models/corpus_comparison/` directory.\n",
    "\n",
    "To compare GENIA to PICKLE:\n",
    "```\n",
    "python out_of_vocab_comparison.py pickle ../../data/straying_off_topic_data/unified_annotations_processed/jsonl_files/FINAL_FOR_EVALUATION_ent_and_rel_all_gold_std_abstracts_08Nov2022.jsonl genia ../../../dygiepp/data/genia/processed-data/json-coref-ident-only/train.json  ../../data/straying_off_topic_data/corpus_comparison/ pickle_vs_genia_normalized -v\n",
    "```\n",
    "\n",
    "To compare SciERC to PICKLE:\n",
    "```\n",
    "python out_of_vocab_comparison.py pickle ../../data/straying_off_topic_data/unified_annotations_processed/jsonl_files/FINAL_FOR_EVALUATION_ent_and_rel_all_gold_std_abstracts_08Nov2022.jsonl scierc ../../../dygiepp/data/scierc/processed_data/json/train.json  ../../data/straying_off_topic_data/corpus_comparison/ pickle_vs_scierc_normalized -v\n",
    "```"
   ]
  },
  {
   "cell_type": "markdown",
   "metadata": {},
   "source": [
    "#### Looking at comparison outputs\n",
    "Now, lets read in the data and see what the situation is."
   ]
  },
  {
   "cell_type": "code",
   "execution_count": 20,
   "metadata": {},
   "outputs": [],
   "source": [
    "genia_vs_pickle_path = '../data/straying_off_topic_data/corpus_comparison/pickle_vs_genia_normalized_oov_comparison.jsonl'\n",
    "scierc_vs_pickle_path = '../data/straying_off_topic_data/corpus_comparison/pickle_vs_scierc_normalized_oov_comparison.jsonl'"
   ]
  },
  {
   "cell_type": "code",
   "execution_count": 21,
   "metadata": {},
   "outputs": [],
   "source": [
    "genia_vs_pickle = []\n",
    "with jsonlines.open(genia_vs_pickle_path) as reader:\n",
    "    for obj in reader:\n",
    "        genia_vs_pickle.append(obj)\n",
    "        \n",
    "scierc_vs_pickle = []\n",
    "with jsonlines.open(scierc_vs_pickle_path) as reader:\n",
    "    for obj in reader:\n",
    "        scierc_vs_pickle.append(obj)"
   ]
  },
  {
   "cell_type": "markdown",
   "metadata": {},
   "source": [
    "To better visualize the situation, let's make a bar plot!"
   ]
  },
  {
   "cell_type": "code",
   "execution_count": 22,
   "metadata": {},
   "outputs": [
    {
     "data": {
      "image/png": "[encoded data removed]",
      "text/plain": [
       "<Figure size 432x288 with 1 Axes>"
      ]
     },
     "metadata": {
      "needs_background": "light"
     },
     "output_type": "display_data"
    }
   ],
   "source": [
    "pickle_labels = ['SciERC', 'GENIA']\n",
    "unigrams = [scierc_vs_pickle[0]['unigrams_oov_pickle_frac'], genia_vs_pickle[0]['unigrams_oov_pickle_frac']]\n",
    "bigrams = [scierc_vs_pickle[0]['bigrams_oov_pickle_frac'], genia_vs_pickle[0]['bigrams_oov_pickle_frac']]\n",
    "trigrams = [scierc_vs_pickle[0]['trigrams_oov_pickle_frac'], genia_vs_pickle[0]['trigrams_oov_pickle_frac']]\n",
    "\n",
    "x = np.arange(len(pickle_labels))\n",
    "x = 0.5*x\n",
    "width = 0.1\n",
    "\n",
    "fig, ax = plt.subplots()\n",
    "ax.bar(x - width, unigrams, width, color='tab:purple', label='Unigrams')\n",
    "ax.bar(x, bigrams, width, color='tab:grey', label='Bigrams')\n",
    "ax.bar(x + width, trigrams, width, color='tab:brown', label='Trigrams')\n",
    "\n",
    "for bar in ax.patches:\n",
    "    ax.annotate(format(bar.get_height(), '.2f'),\n",
    "               (bar.get_x() + bar.get_width() / 2,\n",
    "               bar.get_height()), ha='center', va='center',\n",
    "               size=14, xytext=(0,8),\n",
    "               textcoords='offset points')\n",
    "\n",
    "plt.ylabel('Normalized OOV n-grams from PICKLE')\n",
    "plt.xticks(x, pickle_labels)\n",
    "plt.ylim(0,0.4)\n",
    "plt.legend(loc='upper right')\n",
    "\n",
    "plt.savefig('../data/straying_off_topic_data/corpus_comparison/figures/oov_plot.png', bbox_inches='tight', dpi=300)"
   ]
  },
  {
   "cell_type": "markdown",
   "metadata": {},
   "source": [
    "In all three categories, the amount of PICKLE's vocabulary that is out of the vocabulary of the other corpus is much greater for SciERC than for GENIA. This is the opposite of what we expected, since SciERC performs better for entity recognition on the PICKLE corpus than GENIA does. However, it's possible that the semantics of the words in SciERC are more similar to those in PICKLE than in GENIA, which could account for the phenomenon. That's what we'll look at next."
   ]
  }
 ],
 "metadata": {
  "kernelspec": {
   "display_name": "dygiepp_fresh",
   "language": "python",
   "name": "dygiepp_fresh"
  },
  "language_info": {
   "codemirror_mode": {
    "name": "ipython",
    "version": 3
   },
   "file_extension": ".py",
   "mimetype": "text/x-python",
   "name": "python",
   "nbconvert_exporter": "python",
   "pygments_lexer": "ipython3",
   "version": "3.7.13"
  }
 },
 "nbformat": 4,
 "nbformat_minor": 2
}
