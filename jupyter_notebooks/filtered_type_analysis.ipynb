{
 "cells": [
  {
   "cell_type": "markdown",
   "metadata": {},
   "source": [
    "# Filtered Type Analysis\n",
    "The GENIA dataset used in many NER papers, including the DyGIE++ paper, is reduced to only 5 of the original 47 entity mention types: DNA, RNA, Protein, Cell Line, and Cell Type. This explains much of the unexpected poor performance of the GENIA model; the model performs exceptionally well on the DNA, RNA and Protein types, and our PICKLE dataset doesn't have many Cell annotations at all. Here, we examine the effect of the types present in training vs. those present at evaluation in order to determine the effect that introducing new types has on a model. We do this by filtering down the PICKLE test set to just types present in the model for each of the biological models, using a messy mapping, and leaving the computer science model (SciERC) out of this analysis. We perform this filtering using the script `filter_dataset.py` in the `annotation/abstract_scripts` directory."
   ]
  },
  {
   "cell_type": "code",
   "execution_count": 1,
   "metadata": {},
   "outputs": [],
   "source": [
    "import pandas as pd\n",
    "import matplotlib.pyplot as plt\n",
    "%matplotlib inline\n",
    "from ast import literal_eval\n",
    "import numpy as np\n",
    "import jsonlines\n",
    "from os.path import abspath\n",
    "from collections import Counter\n",
    "import json"
   ]
  },
  {
   "cell_type": "markdown",
   "metadata": {},
   "source": [
    "## Reading in data\n",
    "### Performance data\n",
    "First, let's read in the original performance data:"
   ]
  },
  {
   "cell_type": "code",
   "execution_count": 2,
   "metadata": {},
   "outputs": [
    {
     "data": {
      "text/html": [
       "<div>\n",
       "<style scoped>\n",
       "    .dataframe tbody tr th:only-of-type {\n",
       "        vertical-align: middle;\n",
       "    }\n",
       "\n",
       "    .dataframe tbody tr th {\n",
       "        vertical-align: top;\n",
       "    }\n",
       "\n",
       "    .dataframe thead th {\n",
       "        text-align: right;\n",
       "    }\n",
       "</style>\n",
       "<table border=\"1\" class=\"dataframe\">\n",
       "  <thead>\n",
       "    <tr style=\"text-align: right;\">\n",
       "      <th></th>\n",
       "      <th>pred_file</th>\n",
       "      <th>gold_std_file</th>\n",
       "      <th>ent_precision</th>\n",
       "      <th>ent_recall</th>\n",
       "      <th>ent_F1</th>\n",
       "      <th>rel_precision</th>\n",
       "      <th>rel_recall</th>\n",
       "      <th>rel_F1</th>\n",
       "      <th>ent_precision_CI</th>\n",
       "      <th>ent_recall_CI</th>\n",
       "      <th>ent_F1_CI</th>\n",
       "      <th>rel_precision_CI</th>\n",
       "      <th>rel_recall_CI</th>\n",
       "      <th>rel_F1_CI</th>\n",
       "      <th>model</th>\n",
       "    </tr>\n",
       "  </thead>\n",
       "  <tbody>\n",
       "    <tr>\n",
       "      <th>0</th>\n",
       "      <td>17Jul2023_seedev_on_pickle_PICKLE_250_abstract...</td>\n",
       "      <td>PICKLE_250_abstracts_entities_and_relations_FI...</td>\n",
       "      <td>0.373344</td>\n",
       "      <td>0.314438</td>\n",
       "      <td>0.340887</td>\n",
       "      <td>0.167352</td>\n",
       "      <td>0.066984</td>\n",
       "      <td>0.094928</td>\n",
       "      <td>(0.31789976918733104, 0.4304071630210769)</td>\n",
       "      <td>(0.26929228179228176, 0.35934436835687483)</td>\n",
       "      <td>(0.29586052643654476, 0.3803187764879307)</td>\n",
       "      <td>(0.04750056420672534, 0.349972186904005)</td>\n",
       "      <td>(0.017564797672573393, 0.14164540816326524)</td>\n",
       "      <td>(0.0264594334393325, 0.19697090527267153)</td>\n",
       "      <td>seedev</td>\n",
       "    </tr>\n",
       "    <tr>\n",
       "      <th>1</th>\n",
       "      <td>15Jul2023_on_pickle_PICKLE_250_abstracts_entit...</td>\n",
       "      <td>PICKLE_250_abstracts_entities_and_relations_FI...</td>\n",
       "      <td>0.883557</td>\n",
       "      <td>0.891106</td>\n",
       "      <td>0.887275</td>\n",
       "      <td>0.608037</td>\n",
       "      <td>0.348510</td>\n",
       "      <td>0.442015</td>\n",
       "      <td>(0.857079027355623, 0.9084136564951275)</td>\n",
       "      <td>(0.8753625636815292, 0.9081251757571311)</td>\n",
       "      <td>(0.8689741295964972, 0.9057122261710511)</td>\n",
       "      <td>(0.5372982621414583, 0.685561797752809)</td>\n",
       "      <td>(0.27739304532720793, 0.41112138949349963)</td>\n",
       "      <td>(0.37580711361156444, 0.49925964546402507)</td>\n",
       "      <td>pickle</td>\n",
       "    </tr>\n",
       "    <tr>\n",
       "      <th>2</th>\n",
       "      <td>15Jul2023_on_pickle_PICKLE_250_abstracts_entit...</td>\n",
       "      <td>PICKLE_250_abstracts_entities_and_relations_FI...</td>\n",
       "      <td>0.478968</td>\n",
       "      <td>0.674144</td>\n",
       "      <td>0.559745</td>\n",
       "      <td>0.057466</td>\n",
       "      <td>0.086344</td>\n",
       "      <td>0.068621</td>\n",
       "      <td>(0.43032869912059807, 0.5308687868236084)</td>\n",
       "      <td>(0.6406513153003568, 0.7108491030638333)</td>\n",
       "      <td>(0.5190181925003347, 0.6002697495183045)</td>\n",
       "      <td>(0.03457632090684005, 0.08541554231822657)</td>\n",
       "      <td>(0.057188308886971524, 0.12067924528301884)</td>\n",
       "      <td>(0.044473370023383384, 0.09702656546489562)</td>\n",
       "      <td>scierc</td>\n",
       "    </tr>\n",
       "    <tr>\n",
       "      <th>3</th>\n",
       "      <td>15Jul2023_on_pickle_PICKLE_250_abstracts_entit...</td>\n",
       "      <td>PICKLE_250_abstracts_entities_and_relations_FI...</td>\n",
       "      <td>0.557187</td>\n",
       "      <td>0.196518</td>\n",
       "      <td>0.289868</td>\n",
       "      <td>NaN</td>\n",
       "      <td>NaN</td>\n",
       "      <td>NaN</td>\n",
       "      <td>(0.4912152530292231, 0.6242472804972805)</td>\n",
       "      <td>(0.1523317471518495, 0.24312158926383784)</td>\n",
       "      <td>(0.23576190476190473, 0.3419524854981555)</td>\n",
       "      <td>NaN</td>\n",
       "      <td>NaN</td>\n",
       "      <td>NaN</td>\n",
       "      <td>genia</td>\n",
       "    </tr>\n",
       "    <tr>\n",
       "      <th>4</th>\n",
       "      <td>15Jul2023_on_pickle_PICKLE_250_abstracts_entit...</td>\n",
       "      <td>PICKLE_250_abstracts_entities_and_relations_FI...</td>\n",
       "      <td>0.589271</td>\n",
       "      <td>0.377282</td>\n",
       "      <td>0.459691</td>\n",
       "      <td>0.118089</td>\n",
       "      <td>0.023735</td>\n",
       "      <td>0.039048</td>\n",
       "      <td>(0.5134214210792485, 0.6597671470822966)</td>\n",
       "      <td>(0.31619556173564173, 0.4429260106656407)</td>\n",
       "      <td>(0.3932587830568571, 0.5283259376302464)</td>\n",
       "      <td>(0.04967592592592593, 0.20930232558139536)</td>\n",
       "      <td>(0.007501830573391912, 0.04328817733990146)</td>\n",
       "      <td>(0.013247961852022767, 0.06758396923631556)</td>\n",
       "      <td>chemprot</td>\n",
       "    </tr>\n",
       "    <tr>\n",
       "      <th>5</th>\n",
       "      <td>15Jul2023_on_pickle_PICKLE_250_abstracts_entit...</td>\n",
       "      <td>PICKLE_250_abstracts_entities_and_relations_FI...</td>\n",
       "      <td>0.478597</td>\n",
       "      <td>0.656190</td>\n",
       "      <td>0.553169</td>\n",
       "      <td>0.072374</td>\n",
       "      <td>0.089572</td>\n",
       "      <td>0.079652</td>\n",
       "      <td>(0.4294379741252424, 0.5316811214758135)</td>\n",
       "      <td>(0.6164612612449871, 0.691908914545175)</td>\n",
       "      <td>(0.5141514693449252, 0.5977567158569393)</td>\n",
       "      <td>(0.03612494415231811, 0.11568160175684078)</td>\n",
       "      <td>(0.04887108610567514, 0.13172888094778185)</td>\n",
       "      <td>(0.042886436544521116, 0.1180061037639878)</td>\n",
       "      <td>scierc-lightweight</td>\n",
       "    </tr>\n",
       "    <tr>\n",
       "      <th>6</th>\n",
       "      <td>15Jul2023_on_pickle_PICKLE_250_abstracts_entit...</td>\n",
       "      <td>PICKLE_250_abstracts_entities_and_relations_FI...</td>\n",
       "      <td>0.570708</td>\n",
       "      <td>0.160570</td>\n",
       "      <td>0.249894</td>\n",
       "      <td>NaN</td>\n",
       "      <td>NaN</td>\n",
       "      <td>NaN</td>\n",
       "      <td>(0.49902699456975774, 0.643936419763142)</td>\n",
       "      <td>(0.11667512308468143, 0.20724809293513485)</td>\n",
       "      <td>(0.19321837835989722, 0.3061844812816278)</td>\n",
       "      <td>NaN</td>\n",
       "      <td>NaN</td>\n",
       "      <td>NaN</td>\n",
       "      <td>genia-lightweight</td>\n",
       "    </tr>\n",
       "  </tbody>\n",
       "</table>\n",
       "</div>"
      ],
      "text/plain": [
       "                                           pred_file  \\\n",
       "0  17Jul2023_seedev_on_pickle_PICKLE_250_abstract...   \n",
       "1  15Jul2023_on_pickle_PICKLE_250_abstracts_entit...   \n",
       "2  15Jul2023_on_pickle_PICKLE_250_abstracts_entit...   \n",
       "3  15Jul2023_on_pickle_PICKLE_250_abstracts_entit...   \n",
       "4  15Jul2023_on_pickle_PICKLE_250_abstracts_entit...   \n",
       "5  15Jul2023_on_pickle_PICKLE_250_abstracts_entit...   \n",
       "6  15Jul2023_on_pickle_PICKLE_250_abstracts_entit...   \n",
       "\n",
       "                                       gold_std_file  ent_precision  \\\n",
       "0  PICKLE_250_abstracts_entities_and_relations_FI...       0.373344   \n",
       "1  PICKLE_250_abstracts_entities_and_relations_FI...       0.883557   \n",
       "2  PICKLE_250_abstracts_entities_and_relations_FI...       0.478968   \n",
       "3  PICKLE_250_abstracts_entities_and_relations_FI...       0.557187   \n",
       "4  PICKLE_250_abstracts_entities_and_relations_FI...       0.589271   \n",
       "5  PICKLE_250_abstracts_entities_and_relations_FI...       0.478597   \n",
       "6  PICKLE_250_abstracts_entities_and_relations_FI...       0.570708   \n",
       "\n",
       "   ent_recall    ent_F1  rel_precision  rel_recall    rel_F1  \\\n",
       "0    0.314438  0.340887       0.167352    0.066984  0.094928   \n",
       "1    0.891106  0.887275       0.608037    0.348510  0.442015   \n",
       "2    0.674144  0.559745       0.057466    0.086344  0.068621   \n",
       "3    0.196518  0.289868            NaN         NaN       NaN   \n",
       "4    0.377282  0.459691       0.118089    0.023735  0.039048   \n",
       "5    0.656190  0.553169       0.072374    0.089572  0.079652   \n",
       "6    0.160570  0.249894            NaN         NaN       NaN   \n",
       "\n",
       "                            ent_precision_CI  \\\n",
       "0  (0.31789976918733104, 0.4304071630210769)   \n",
       "1    (0.857079027355623, 0.9084136564951275)   \n",
       "2  (0.43032869912059807, 0.5308687868236084)   \n",
       "3   (0.4912152530292231, 0.6242472804972805)   \n",
       "4   (0.5134214210792485, 0.6597671470822966)   \n",
       "5   (0.4294379741252424, 0.5316811214758135)   \n",
       "6   (0.49902699456975774, 0.643936419763142)   \n",
       "\n",
       "                                ent_recall_CI  \\\n",
       "0  (0.26929228179228176, 0.35934436835687483)   \n",
       "1    (0.8753625636815292, 0.9081251757571311)   \n",
       "2    (0.6406513153003568, 0.7108491030638333)   \n",
       "3   (0.1523317471518495, 0.24312158926383784)   \n",
       "4   (0.31619556173564173, 0.4429260106656407)   \n",
       "5     (0.6164612612449871, 0.691908914545175)   \n",
       "6  (0.11667512308468143, 0.20724809293513485)   \n",
       "\n",
       "                                   ent_F1_CI  \\\n",
       "0  (0.29586052643654476, 0.3803187764879307)   \n",
       "1   (0.8689741295964972, 0.9057122261710511)   \n",
       "2   (0.5190181925003347, 0.6002697495183045)   \n",
       "3  (0.23576190476190473, 0.3419524854981555)   \n",
       "4   (0.3932587830568571, 0.5283259376302464)   \n",
       "5   (0.5141514693449252, 0.5977567158569393)   \n",
       "6  (0.19321837835989722, 0.3061844812816278)   \n",
       "\n",
       "                             rel_precision_CI  \\\n",
       "0    (0.04750056420672534, 0.349972186904005)   \n",
       "1     (0.5372982621414583, 0.685561797752809)   \n",
       "2  (0.03457632090684005, 0.08541554231822657)   \n",
       "3                                         NaN   \n",
       "4  (0.04967592592592593, 0.20930232558139536)   \n",
       "5  (0.03612494415231811, 0.11568160175684078)   \n",
       "6                                         NaN   \n",
       "\n",
       "                                 rel_recall_CI  \\\n",
       "0  (0.017564797672573393, 0.14164540816326524)   \n",
       "1   (0.27739304532720793, 0.41112138949349963)   \n",
       "2  (0.057188308886971524, 0.12067924528301884)   \n",
       "3                                          NaN   \n",
       "4  (0.007501830573391912, 0.04328817733990146)   \n",
       "5   (0.04887108610567514, 0.13172888094778185)   \n",
       "6                                          NaN   \n",
       "\n",
       "                                     rel_F1_CI               model  \n",
       "0    (0.0264594334393325, 0.19697090527267153)              seedev  \n",
       "1   (0.37580711361156444, 0.49925964546402507)              pickle  \n",
       "2  (0.044473370023383384, 0.09702656546489562)              scierc  \n",
       "3                                          NaN               genia  \n",
       "4  (0.013247961852022767, 0.06758396923631556)            chemprot  \n",
       "5   (0.042886436544521116, 0.1180061037639878)  scierc-lightweight  \n",
       "6                                          NaN   genia-lightweight  "
      ]
     },
     "execution_count": 2,
     "metadata": {},
     "output_type": "execute_result"
    }
   ],
   "source": [
    "orig_perf_seedev = pd.read_csv('../data/straying_off_topic_data/model_output/dygiepp/15Jul2023_all_on_pickle_but_seedev/performance/17Jul2023_seedev_on_pickle_performance_no_labels.csv')\n",
    "orig_perf_all = pd.read_csv('../data/straying_off_topic_data/model_output/dygiepp/15Jul2023_all_on_pickle_but_seedev/performance/15Jul2023_all_on_pickle_no_seedev_performance.csv')\n",
    "orig_perf_all = pd.concat([orig_perf_seedev, orig_perf_all])\n",
    "orig_perf_all['model'] = orig_perf_all['pred_file'].str.split('_').str[-2]\n",
    "orig_perf_all = orig_perf_all.drop(index=1).reset_index(drop=True)\n",
    "orig_perf_all"
   ]
  },
  {
   "cell_type": "markdown",
   "metadata": {},
   "source": [
    "Then let's read in the performance data for the filtered PICKLE test sets:"
   ]
  },
  {
   "cell_type": "code",
   "execution_count": 3,
   "metadata": {},
   "outputs": [
    {
     "data": {
      "text/html": [
       "<div>\n",
       "<style scoped>\n",
       "    .dataframe tbody tr th:only-of-type {\n",
       "        vertical-align: middle;\n",
       "    }\n",
       "\n",
       "    .dataframe tbody tr th {\n",
       "        vertical-align: top;\n",
       "    }\n",
       "\n",
       "    .dataframe thead th {\n",
       "        text-align: right;\n",
       "    }\n",
       "</style>\n",
       "<table border=\"1\" class=\"dataframe\">\n",
       "  <thead>\n",
       "    <tr style=\"text-align: right;\">\n",
       "      <th></th>\n",
       "      <th>pred_file</th>\n",
       "      <th>gold_std_file</th>\n",
       "      <th>ent_precision</th>\n",
       "      <th>ent_recall</th>\n",
       "      <th>ent_F1</th>\n",
       "      <th>rel_precision</th>\n",
       "      <th>rel_recall</th>\n",
       "      <th>rel_F1</th>\n",
       "      <th>ent_precision_CI</th>\n",
       "      <th>ent_recall_CI</th>\n",
       "      <th>ent_F1_CI</th>\n",
       "      <th>rel_precision_CI</th>\n",
       "      <th>rel_recall_CI</th>\n",
       "      <th>rel_F1_CI</th>\n",
       "      <th>model</th>\n",
       "    </tr>\n",
       "  </thead>\n",
       "  <tbody>\n",
       "    <tr>\n",
       "      <th>0</th>\n",
       "      <td>15Jul2023_on_pickle_PICKLE_250_abstracts_entit...</td>\n",
       "      <td>PICKLE_250_abstracts_entities_and_relations_FI...</td>\n",
       "      <td>0.169606</td>\n",
       "      <td>0.620553</td>\n",
       "      <td>0.265269</td>\n",
       "      <td>0.121182</td>\n",
       "      <td>0.024274</td>\n",
       "      <td>0.039907</td>\n",
       "      <td>(0.10230200808536019, 0.24580887165676543)</td>\n",
       "      <td>(0.4846641998885971, 0.7350824420677362)</td>\n",
       "      <td>(0.17132936891561373, 0.3650032654910898)</td>\n",
       "      <td>(0.042992599444958375, 0.222376070991432)</td>\n",
       "      <td>(0.007350635306839687, 0.045883083668249905)</td>\n",
       "      <td>(0.012597691196416187, 0.07292125036323631)</td>\n",
       "      <td>chemprot</td>\n",
       "    </tr>\n",
       "  </tbody>\n",
       "</table>\n",
       "</div>"
      ],
      "text/plain": [
       "                                           pred_file  \\\n",
       "0  15Jul2023_on_pickle_PICKLE_250_abstracts_entit...   \n",
       "\n",
       "                                       gold_std_file  ent_precision  \\\n",
       "0  PICKLE_250_abstracts_entities_and_relations_FI...       0.169606   \n",
       "\n",
       "   ent_recall    ent_F1  rel_precision  rel_recall    rel_F1  \\\n",
       "0    0.620553  0.265269       0.121182    0.024274  0.039907   \n",
       "\n",
       "                             ent_precision_CI  \\\n",
       "0  (0.10230200808536019, 0.24580887165676543)   \n",
       "\n",
       "                              ent_recall_CI  \\\n",
       "0  (0.4846641998885971, 0.7350824420677362)   \n",
       "\n",
       "                                   ent_F1_CI  \\\n",
       "0  (0.17132936891561373, 0.3650032654910898)   \n",
       "\n",
       "                            rel_precision_CI  \\\n",
       "0  (0.042992599444958375, 0.222376070991432)   \n",
       "\n",
       "                                  rel_recall_CI  \\\n",
       "0  (0.007350635306839687, 0.045883083668249905)   \n",
       "\n",
       "                                     rel_F1_CI     model  \n",
       "0  (0.012597691196416187, 0.07292125036323631)  chemprot  "
      ]
     },
     "execution_count": 3,
     "metadata": {},
     "output_type": "execute_result"
    }
   ],
   "source": [
    "chem_filt = pd.read_csv('../data/straying_off_topic_data/model_output/dygiepp/15Jul2023_all_on_pickle_but_seedev/performance/chemprot_filtered_to_chemprot_25Oct2023.csv')\n",
    "chem_filt['model'] = chem_filt['pred_file'].str.split('_').str[-2]\n",
    "chem_filt"
   ]
  },
  {
   "cell_type": "code",
   "execution_count": 4,
   "metadata": {},
   "outputs": [
    {
     "data": {
      "text/html": [
       "<div>\n",
       "<style scoped>\n",
       "    .dataframe tbody tr th:only-of-type {\n",
       "        vertical-align: middle;\n",
       "    }\n",
       "\n",
       "    .dataframe tbody tr th {\n",
       "        vertical-align: top;\n",
       "    }\n",
       "\n",
       "    .dataframe thead th {\n",
       "        text-align: right;\n",
       "    }\n",
       "</style>\n",
       "<table border=\"1\" class=\"dataframe\">\n",
       "  <thead>\n",
       "    <tr style=\"text-align: right;\">\n",
       "      <th></th>\n",
       "      <th>pred_file</th>\n",
       "      <th>gold_std_file</th>\n",
       "      <th>ent_precision</th>\n",
       "      <th>ent_recall</th>\n",
       "      <th>ent_F1</th>\n",
       "      <th>rel_precision</th>\n",
       "      <th>rel_recall</th>\n",
       "      <th>rel_F1</th>\n",
       "      <th>ent_precision_CI</th>\n",
       "      <th>ent_recall_CI</th>\n",
       "      <th>ent_F1_CI</th>\n",
       "      <th>rel_precision_CI</th>\n",
       "      <th>rel_recall_CI</th>\n",
       "      <th>rel_F1_CI</th>\n",
       "      <th>model</th>\n",
       "    </tr>\n",
       "  </thead>\n",
       "  <tbody>\n",
       "    <tr>\n",
       "      <th>0</th>\n",
       "      <td>17Jul2023_seedev_on_pickle_PICKLE_250_abstract...</td>\n",
       "      <td>PICKLE_250_abstracts_entities_and_relations_FI...</td>\n",
       "      <td>0.328247</td>\n",
       "      <td>0.340461</td>\n",
       "      <td>0.333801</td>\n",
       "      <td>0.168889</td>\n",
       "      <td>0.069219</td>\n",
       "      <td>0.097491</td>\n",
       "      <td>(0.26871289213981975, 0.39050110132158583)</td>\n",
       "      <td>(0.29135568616343294, 0.3865371758814288)</td>\n",
       "      <td>(0.2829620364579714, 0.3786805847837389)</td>\n",
       "      <td>(0.05109840751327072, 0.36505400540054)</td>\n",
       "      <td>(0.01974191345074889, 0.1480144770667027)</td>\n",
       "      <td>(0.02798724656638326, 0.21120129870129856)</td>\n",
       "      <td>seedev</td>\n",
       "    </tr>\n",
       "  </tbody>\n",
       "</table>\n",
       "</div>"
      ],
      "text/plain": [
       "                                           pred_file  \\\n",
       "0  17Jul2023_seedev_on_pickle_PICKLE_250_abstract...   \n",
       "\n",
       "                                       gold_std_file  ent_precision  \\\n",
       "0  PICKLE_250_abstracts_entities_and_relations_FI...       0.328247   \n",
       "\n",
       "   ent_recall    ent_F1  rel_precision  rel_recall    rel_F1  \\\n",
       "0    0.340461  0.333801       0.168889    0.069219  0.097491   \n",
       "\n",
       "                             ent_precision_CI  \\\n",
       "0  (0.26871289213981975, 0.39050110132158583)   \n",
       "\n",
       "                               ent_recall_CI  \\\n",
       "0  (0.29135568616343294, 0.3865371758814288)   \n",
       "\n",
       "                                  ent_F1_CI  \\\n",
       "0  (0.2829620364579714, 0.3786805847837389)   \n",
       "\n",
       "                          rel_precision_CI  \\\n",
       "0  (0.05109840751327072, 0.36505400540054)   \n",
       "\n",
       "                               rel_recall_CI  \\\n",
       "0  (0.01974191345074889, 0.1480144770667027)   \n",
       "\n",
       "                                    rel_F1_CI   model  \n",
       "0  (0.02798724656638326, 0.21120129870129856)  seedev  "
      ]
     },
     "execution_count": 4,
     "metadata": {},
     "output_type": "execute_result"
    }
   ],
   "source": [
    "seed_filt = pd.read_csv('../data/straying_off_topic_data/model_output/dygiepp/15Jul2023_all_on_pickle_but_seedev/performance/seedev_filtered_to_seedev_25Oct2023.csv')\n",
    "seed_filt['model'] = seed_filt['pred_file'].str.split('_').str[-2]\n",
    "seed_filt"
   ]
  },
  {
   "cell_type": "code",
   "execution_count": 5,
   "metadata": {
    "scrolled": true
   },
   "outputs": [
    {
     "data": {
      "text/html": [
       "<div>\n",
       "<style scoped>\n",
       "    .dataframe tbody tr th:only-of-type {\n",
       "        vertical-align: middle;\n",
       "    }\n",
       "\n",
       "    .dataframe tbody tr th {\n",
       "        vertical-align: top;\n",
       "    }\n",
       "\n",
       "    .dataframe thead th {\n",
       "        text-align: right;\n",
       "    }\n",
       "</style>\n",
       "<table border=\"1\" class=\"dataframe\">\n",
       "  <thead>\n",
       "    <tr style=\"text-align: right;\">\n",
       "      <th></th>\n",
       "      <th>pred_file</th>\n",
       "      <th>gold_std_file</th>\n",
       "      <th>ent_precision</th>\n",
       "      <th>ent_recall</th>\n",
       "      <th>ent_F1</th>\n",
       "      <th>rel_precision</th>\n",
       "      <th>rel_recall</th>\n",
       "      <th>rel_F1</th>\n",
       "      <th>ent_precision_CI</th>\n",
       "      <th>ent_recall_CI</th>\n",
       "      <th>ent_F1_CI</th>\n",
       "      <th>rel_precision_CI</th>\n",
       "      <th>rel_recall_CI</th>\n",
       "      <th>rel_F1_CI</th>\n",
       "      <th>model</th>\n",
       "    </tr>\n",
       "  </thead>\n",
       "  <tbody>\n",
       "    <tr>\n",
       "      <th>0</th>\n",
       "      <td>15Jul2023_on_pickle_PICKLE_250_abstracts_entit...</td>\n",
       "      <td>PICKLE_250_abstracts_entities_and_relations_FI...</td>\n",
       "      <td>0.429054</td>\n",
       "      <td>0.657937</td>\n",
       "      <td>0.518286</td>\n",
       "      <td>NaN</td>\n",
       "      <td>NaN</td>\n",
       "      <td>NaN</td>\n",
       "      <td>(0.337121662168154, 0.5116045101292872)</td>\n",
       "      <td>(0.593459706232632, 0.7142857142857143)</td>\n",
       "      <td>(0.4347237960339943, 0.5841851482252541)</td>\n",
       "      <td>NaN</td>\n",
       "      <td>NaN</td>\n",
       "      <td>NaN</td>\n",
       "      <td>genia</td>\n",
       "    </tr>\n",
       "    <tr>\n",
       "      <th>1</th>\n",
       "      <td>15Jul2023_on_pickle_PICKLE_250_abstracts_entit...</td>\n",
       "      <td>PICKLE_250_abstracts_entities_and_relations_FI...</td>\n",
       "      <td>0.492113</td>\n",
       "      <td>0.608679</td>\n",
       "      <td>0.543144</td>\n",
       "      <td>NaN</td>\n",
       "      <td>NaN</td>\n",
       "      <td>NaN</td>\n",
       "      <td>(0.3949423956232654, 0.5804834148884966)</td>\n",
       "      <td>(0.5424804882929758, 0.6684288537549407)</td>\n",
       "      <td>(0.4641350805876706, 0.6073907982509812)</td>\n",
       "      <td>NaN</td>\n",
       "      <td>NaN</td>\n",
       "      <td>NaN</td>\n",
       "      <td>genia-lightweight</td>\n",
       "    </tr>\n",
       "  </tbody>\n",
       "</table>\n",
       "</div>"
      ],
      "text/plain": [
       "                                           pred_file  \\\n",
       "0  15Jul2023_on_pickle_PICKLE_250_abstracts_entit...   \n",
       "1  15Jul2023_on_pickle_PICKLE_250_abstracts_entit...   \n",
       "\n",
       "                                       gold_std_file  ent_precision  \\\n",
       "0  PICKLE_250_abstracts_entities_and_relations_FI...       0.429054   \n",
       "1  PICKLE_250_abstracts_entities_and_relations_FI...       0.492113   \n",
       "\n",
       "   ent_recall    ent_F1  rel_precision  rel_recall  rel_F1  \\\n",
       "0    0.657937  0.518286            NaN         NaN     NaN   \n",
       "1    0.608679  0.543144            NaN         NaN     NaN   \n",
       "\n",
       "                           ent_precision_CI  \\\n",
       "0   (0.337121662168154, 0.5116045101292872)   \n",
       "1  (0.3949423956232654, 0.5804834148884966)   \n",
       "\n",
       "                              ent_recall_CI  \\\n",
       "0   (0.593459706232632, 0.7142857142857143)   \n",
       "1  (0.5424804882929758, 0.6684288537549407)   \n",
       "\n",
       "                                  ent_F1_CI rel_precision_CI rel_recall_CI  \\\n",
       "0  (0.4347237960339943, 0.5841851482252541)              NaN           NaN   \n",
       "1  (0.4641350805876706, 0.6073907982509812)              NaN           NaN   \n",
       "\n",
       "  rel_F1_CI              model  \n",
       "0       NaN              genia  \n",
       "1       NaN  genia-lightweight  "
      ]
     },
     "execution_count": 5,
     "metadata": {},
     "output_type": "execute_result"
    }
   ],
   "source": [
    "# Pull GENIA form previous version performance\n",
    "all_models_on_filtered_without_types = pd.read_csv('../data/straying_off_topic_data/model_output/dygiepp/15Jul2023_all_on_pickle_but_seedev/performance/all_models_on_filtered_genia_11Aug2023_with_cells_bootstrapped.csv')\n",
    "all_models_on_filtered_without_types['model'] = all_models_on_filtered_without_types['pred_file'].str.split('_').str[-2]\n",
    "all_models_on_filtered_without_types\n",
    "genia_filt = all_models_on_filtered_without_types.drop(index=[0,1,2,3,5,6]).reset_index(drop=True)\n",
    "genia_filt"
   ]
  },
  {
   "cell_type": "markdown",
   "metadata": {},
   "source": [
    "Combine all filtered performances:"
   ]
  },
  {
   "cell_type": "code",
   "execution_count": 6,
   "metadata": {},
   "outputs": [
    {
     "data": {
      "text/html": [
       "<div>\n",
       "<style scoped>\n",
       "    .dataframe tbody tr th:only-of-type {\n",
       "        vertical-align: middle;\n",
       "    }\n",
       "\n",
       "    .dataframe tbody tr th {\n",
       "        vertical-align: top;\n",
       "    }\n",
       "\n",
       "    .dataframe thead th {\n",
       "        text-align: right;\n",
       "    }\n",
       "</style>\n",
       "<table border=\"1\" class=\"dataframe\">\n",
       "  <thead>\n",
       "    <tr style=\"text-align: right;\">\n",
       "      <th></th>\n",
       "      <th>pred_file</th>\n",
       "      <th>gold_std_file</th>\n",
       "      <th>ent_precision</th>\n",
       "      <th>ent_recall</th>\n",
       "      <th>ent_F1</th>\n",
       "      <th>rel_precision</th>\n",
       "      <th>rel_recall</th>\n",
       "      <th>rel_F1</th>\n",
       "      <th>ent_precision_CI</th>\n",
       "      <th>ent_recall_CI</th>\n",
       "      <th>ent_F1_CI</th>\n",
       "      <th>rel_precision_CI</th>\n",
       "      <th>rel_recall_CI</th>\n",
       "      <th>rel_F1_CI</th>\n",
       "      <th>model</th>\n",
       "    </tr>\n",
       "  </thead>\n",
       "  <tbody>\n",
       "    <tr>\n",
       "      <th>0</th>\n",
       "      <td>17Jul2023_seedev_on_pickle_PICKLE_250_abstract...</td>\n",
       "      <td>PICKLE_250_abstracts_entities_and_relations_FI...</td>\n",
       "      <td>0.328247</td>\n",
       "      <td>0.340461</td>\n",
       "      <td>0.333801</td>\n",
       "      <td>0.168889</td>\n",
       "      <td>0.069219</td>\n",
       "      <td>0.097491</td>\n",
       "      <td>(0.26871289213981975, 0.39050110132158583)</td>\n",
       "      <td>(0.29135568616343294, 0.3865371758814288)</td>\n",
       "      <td>(0.2829620364579714, 0.3786805847837389)</td>\n",
       "      <td>(0.05109840751327072, 0.36505400540054)</td>\n",
       "      <td>(0.01974191345074889, 0.1480144770667027)</td>\n",
       "      <td>(0.02798724656638326, 0.21120129870129856)</td>\n",
       "      <td>seedev</td>\n",
       "    </tr>\n",
       "    <tr>\n",
       "      <th>1</th>\n",
       "      <td>15Jul2023_on_pickle_PICKLE_250_abstracts_entit...</td>\n",
       "      <td>PICKLE_250_abstracts_entities_and_relations_FI...</td>\n",
       "      <td>0.169606</td>\n",
       "      <td>0.620553</td>\n",
       "      <td>0.265269</td>\n",
       "      <td>0.121182</td>\n",
       "      <td>0.024274</td>\n",
       "      <td>0.039907</td>\n",
       "      <td>(0.10230200808536019, 0.24580887165676543)</td>\n",
       "      <td>(0.4846641998885971, 0.7350824420677362)</td>\n",
       "      <td>(0.17132936891561373, 0.3650032654910898)</td>\n",
       "      <td>(0.042992599444958375, 0.222376070991432)</td>\n",
       "      <td>(0.007350635306839687, 0.045883083668249905)</td>\n",
       "      <td>(0.012597691196416187, 0.07292125036323631)</td>\n",
       "      <td>chemprot</td>\n",
       "    </tr>\n",
       "    <tr>\n",
       "      <th>2</th>\n",
       "      <td>15Jul2023_on_pickle_PICKLE_250_abstracts_entit...</td>\n",
       "      <td>PICKLE_250_abstracts_entities_and_relations_FI...</td>\n",
       "      <td>0.429054</td>\n",
       "      <td>0.657937</td>\n",
       "      <td>0.518286</td>\n",
       "      <td>NaN</td>\n",
       "      <td>NaN</td>\n",
       "      <td>NaN</td>\n",
       "      <td>(0.337121662168154, 0.5116045101292872)</td>\n",
       "      <td>(0.593459706232632, 0.7142857142857143)</td>\n",
       "      <td>(0.4347237960339943, 0.5841851482252541)</td>\n",
       "      <td>NaN</td>\n",
       "      <td>NaN</td>\n",
       "      <td>NaN</td>\n",
       "      <td>genia</td>\n",
       "    </tr>\n",
       "    <tr>\n",
       "      <th>3</th>\n",
       "      <td>15Jul2023_on_pickle_PICKLE_250_abstracts_entit...</td>\n",
       "      <td>PICKLE_250_abstracts_entities_and_relations_FI...</td>\n",
       "      <td>0.492113</td>\n",
       "      <td>0.608679</td>\n",
       "      <td>0.543144</td>\n",
       "      <td>NaN</td>\n",
       "      <td>NaN</td>\n",
       "      <td>NaN</td>\n",
       "      <td>(0.3949423956232654, 0.5804834148884966)</td>\n",
       "      <td>(0.5424804882929758, 0.6684288537549407)</td>\n",
       "      <td>(0.4641350805876706, 0.6073907982509812)</td>\n",
       "      <td>NaN</td>\n",
       "      <td>NaN</td>\n",
       "      <td>NaN</td>\n",
       "      <td>genia-lightweight</td>\n",
       "    </tr>\n",
       "    <tr>\n",
       "      <th>4</th>\n",
       "      <td>15Jul2023_on_pickle_PICKLE_250_abstracts_entit...</td>\n",
       "      <td>PICKLE_250_abstracts_entities_and_relations_FI...</td>\n",
       "      <td>0.883557</td>\n",
       "      <td>0.891106</td>\n",
       "      <td>0.887275</td>\n",
       "      <td>0.608037</td>\n",
       "      <td>0.34851</td>\n",
       "      <td>0.442015</td>\n",
       "      <td>(0.857079027355623, 0.9084136564951275)</td>\n",
       "      <td>(0.8753625636815292, 0.9081251757571311)</td>\n",
       "      <td>(0.8689741295964972, 0.9057122261710511)</td>\n",
       "      <td>(0.5372982621414583, 0.685561797752809)</td>\n",
       "      <td>(0.27739304532720793, 0.41112138949349963)</td>\n",
       "      <td>(0.37580711361156444, 0.49925964546402507)</td>\n",
       "      <td>pickle</td>\n",
       "    </tr>\n",
       "  </tbody>\n",
       "</table>\n",
       "</div>"
      ],
      "text/plain": [
       "                                           pred_file  \\\n",
       "0  17Jul2023_seedev_on_pickle_PICKLE_250_abstract...   \n",
       "1  15Jul2023_on_pickle_PICKLE_250_abstracts_entit...   \n",
       "2  15Jul2023_on_pickle_PICKLE_250_abstracts_entit...   \n",
       "3  15Jul2023_on_pickle_PICKLE_250_abstracts_entit...   \n",
       "4  15Jul2023_on_pickle_PICKLE_250_abstracts_entit...   \n",
       "\n",
       "                                       gold_std_file ent_precision ent_recall  \\\n",
       "0  PICKLE_250_abstracts_entities_and_relations_FI...      0.328247   0.340461   \n",
       "1  PICKLE_250_abstracts_entities_and_relations_FI...      0.169606   0.620553   \n",
       "2  PICKLE_250_abstracts_entities_and_relations_FI...      0.429054   0.657937   \n",
       "3  PICKLE_250_abstracts_entities_and_relations_FI...      0.492113   0.608679   \n",
       "4  PICKLE_250_abstracts_entities_and_relations_FI...      0.883557   0.891106   \n",
       "\n",
       "     ent_F1 rel_precision rel_recall    rel_F1  \\\n",
       "0  0.333801      0.168889   0.069219  0.097491   \n",
       "1  0.265269      0.121182   0.024274  0.039907   \n",
       "2  0.518286           NaN        NaN       NaN   \n",
       "3  0.543144           NaN        NaN       NaN   \n",
       "4  0.887275      0.608037    0.34851  0.442015   \n",
       "\n",
       "                             ent_precision_CI  \\\n",
       "0  (0.26871289213981975, 0.39050110132158583)   \n",
       "1  (0.10230200808536019, 0.24580887165676543)   \n",
       "2     (0.337121662168154, 0.5116045101292872)   \n",
       "3    (0.3949423956232654, 0.5804834148884966)   \n",
       "4     (0.857079027355623, 0.9084136564951275)   \n",
       "\n",
       "                               ent_recall_CI  \\\n",
       "0  (0.29135568616343294, 0.3865371758814288)   \n",
       "1   (0.4846641998885971, 0.7350824420677362)   \n",
       "2    (0.593459706232632, 0.7142857142857143)   \n",
       "3   (0.5424804882929758, 0.6684288537549407)   \n",
       "4   (0.8753625636815292, 0.9081251757571311)   \n",
       "\n",
       "                                   ent_F1_CI  \\\n",
       "0   (0.2829620364579714, 0.3786805847837389)   \n",
       "1  (0.17132936891561373, 0.3650032654910898)   \n",
       "2   (0.4347237960339943, 0.5841851482252541)   \n",
       "3   (0.4641350805876706, 0.6073907982509812)   \n",
       "4   (0.8689741295964972, 0.9057122261710511)   \n",
       "\n",
       "                            rel_precision_CI  \\\n",
       "0    (0.05109840751327072, 0.36505400540054)   \n",
       "1  (0.042992599444958375, 0.222376070991432)   \n",
       "2                                        NaN   \n",
       "3                                        NaN   \n",
       "4    (0.5372982621414583, 0.685561797752809)   \n",
       "\n",
       "                                  rel_recall_CI  \\\n",
       "0     (0.01974191345074889, 0.1480144770667027)   \n",
       "1  (0.007350635306839687, 0.045883083668249905)   \n",
       "2                                           NaN   \n",
       "3                                           NaN   \n",
       "4    (0.27739304532720793, 0.41112138949349963)   \n",
       "\n",
       "                                     rel_F1_CI              model  \n",
       "0   (0.02798724656638326, 0.21120129870129856)             seedev  \n",
       "1  (0.012597691196416187, 0.07292125036323631)           chemprot  \n",
       "2                                          NaN              genia  \n",
       "3                                          NaN  genia-lightweight  \n",
       "4   (0.37580711361156444, 0.49925964546402507)             pickle  "
      ]
     },
     "execution_count": 6,
     "metadata": {},
     "output_type": "execute_result"
    }
   ],
   "source": [
    "filtered_perfs = pd.concat([seed_filt, chem_filt, genia_filt, pd.DataFrame(orig_perf_all.iloc[1,:]).T])\n",
    "filtered_perfs = filtered_perfs.reset_index(drop=True)\n",
    "filtered_perfs"
   ]
  },
  {
   "cell_type": "markdown",
   "metadata": {},
   "source": [
    "## Performance plots\n",
    "Let's take a look at the performance differences across conditions:"
   ]
  },
  {
   "cell_type": "code",
   "execution_count": 7,
   "metadata": {},
   "outputs": [],
   "source": [
    "orig_perf_all = orig_perf_all.sort_values('ent_F1')\n",
    "orig_perf_all = orig_perf_all.reset_index(drop=True)"
   ]
  },
  {
   "cell_type": "code",
   "execution_count": 8,
   "metadata": {},
   "outputs": [],
   "source": [
    "def process_ent_only_CIs(df, kind='F1'):\n",
    "    \"\"\"\n",
    "    literal_evals the CI strings in a given df, and returns two sets of CIs,\n",
    "    one for entities and one for relations.\n",
    "    \"\"\"\n",
    "    ent_CIs = df[f\"ent_{kind}_CI\"].apply(lambda x: literal_eval(str(x)))\n",
    "    ent_CIs = pd.DataFrame([[df[f'ent_{kind}'][i] - val[0] for i, val in enumerate(ent_CIs)], [val[1] - df[f'ent_{kind}'][i] for i, val in enumerate(ent_CIs)]])\n",
    "\n",
    "    return ent_CIs"
   ]
  },
  {
   "cell_type": "code",
   "execution_count": 9,
   "metadata": {},
   "outputs": [],
   "source": [
    "all_no_filter_ent_CIs = process_ent_only_CIs(orig_perf_all)\n",
    "filter_ent_CIs = process_ent_only_CIs(filtered_perfs)"
   ]
  },
  {
   "cell_type": "code",
   "execution_count": 10,
   "metadata": {},
   "outputs": [],
   "source": [
    "x_dict = {mod:i for i,mod in enumerate(orig_perf_all[\"model\"].values.tolist())}\n",
    "orig_perf_all[\"x\"] = orig_perf_all[\"model\"].map(x_dict)\n",
    "filtered_perfs[\"x\"] = filtered_perfs[\"model\"].map(x_dict)"
   ]
  },
  {
   "cell_type": "code",
   "execution_count": 11,
   "metadata": {},
   "outputs": [],
   "source": [
    "orig_label_key = {'chemprot': 'ChemProt',\n",
    "         'scierc': 'SciERC',\n",
    "         'bioinfer': 'BioInfer',\n",
    "         'genia': 'GENIA',\n",
    "         'pickle': 'PICKLE',\n",
    "         'scierc-lightweight': 'SciERC\\nLightweight',\n",
    "         'genia-lightweight': 'GENIA\\nLightweight',\n",
    "         'ace05-relation': 'ACE05',\n",
    "         'seedev': 'SeeDev'}"
   ]
  },
  {
   "cell_type": "code",
   "execution_count": 12,
   "metadata": {},
   "outputs": [
    {
     "data": {
      "image/png": "[encoded data removed]",
      "text/plain": [
       "<Figure size 700x600 with 1 Axes>"
      ]
     },
     "metadata": {},
     "output_type": "display_data"
    }
   ],
   "source": [
    "fig, axs = plt.subplots(1, 1, figsize=(7, 6), sharey=True)\n",
    "\n",
    "name_x = [orig_label_key[mod] for mod in orig_perf_all[\"model\"]]\n",
    "\n",
    "axs.errorbar(x=orig_perf_all[\"x\"] + 0.1, y=orig_perf_all[\"ent_F1\"], yerr=all_no_filter_ent_CIs, fmt=\"o\", color='#D41159', label='On original PICKLE test set')\n",
    "axs.errorbar(x=filtered_perfs[\"x\"] - 0.1, y=filtered_perfs[\"ent_F1\"], yerr=filter_ent_CIs, fmt=\"^\", color='#1A85FF', label='On model-filtered PICKLE test set')\n",
    "\n",
    "axs.set_xticks(orig_perf_all[\"x\"], name_x, size=10, ha='center')\n",
    "axs.set_xlabel('Model', size=14)\n",
    "axs.set_title('All model performance')\n",
    "axs.legend()\n",
    "\n",
    "fig.supylabel('Entity F1', size=14)\n",
    "# fig.subplots_adjust(left=0.07)\n",
    "plt.savefig('../data/straying_off_topic_data/model_performance/genia_filtered_performance_F1.png', format='png', bbox_inches='tight', dpi=600)"
   ]
  },
  {
   "cell_type": "markdown",
   "metadata": {},
   "source": [
    "We also want to look at the precision and recall for these models:"
   ]
  },
  {
   "cell_type": "code",
   "execution_count": 36,
   "metadata": {},
   "outputs": [],
   "source": [
    "all_no_filter_ent_CIs_precision = process_ent_only_CIs(orig_perf_all, kind='precision')\n",
    "filter_ent_CIs_precision = process_ent_only_CIs(filtered_perfs, kind='precision')\n",
    "all_no_filter_ent_CIs_recall = process_ent_only_CIs(orig_perf_all, kind='recall')\n",
    "filter_ent_CIs_recall = process_ent_only_CIs(filtered_perfs, kind='recall')"
   ]
  },
  {
   "cell_type": "code",
   "execution_count": 37,
   "metadata": {},
   "outputs": [
    {
     "data": {
      "text/html": [
       "<div>\n",
       "<style scoped>\n",
       "    .dataframe tbody tr th:only-of-type {\n",
       "        vertical-align: middle;\n",
       "    }\n",
       "\n",
       "    .dataframe tbody tr th {\n",
       "        vertical-align: top;\n",
       "    }\n",
       "\n",
       "    .dataframe thead th {\n",
       "        text-align: right;\n",
       "    }\n",
       "</style>\n",
       "<table border=\"1\" class=\"dataframe\">\n",
       "  <thead>\n",
       "    <tr style=\"text-align: right;\">\n",
       "      <th></th>\n",
       "      <th>0</th>\n",
       "      <th>1</th>\n",
       "      <th>2</th>\n",
       "      <th>3</th>\n",
       "      <th>4</th>\n",
       "    </tr>\n",
       "  </thead>\n",
       "  <tbody>\n",
       "    <tr>\n",
       "      <th>0</th>\n",
       "      <td>0.049106</td>\n",
       "      <td>0.135889</td>\n",
       "      <td>0.064477</td>\n",
       "      <td>0.066199</td>\n",
       "      <td>0.015743</td>\n",
       "    </tr>\n",
       "    <tr>\n",
       "      <th>1</th>\n",
       "      <td>0.046076</td>\n",
       "      <td>0.114529</td>\n",
       "      <td>0.056349</td>\n",
       "      <td>0.059750</td>\n",
       "      <td>0.017019</td>\n",
       "    </tr>\n",
       "  </tbody>\n",
       "</table>\n",
       "</div>"
      ],
      "text/plain": [
       "          0         1         2         3         4\n",
       "0  0.049106  0.135889  0.064477  0.066199  0.015743\n",
       "1  0.046076  0.114529  0.056349  0.059750  0.017019"
      ]
     },
     "execution_count": 37,
     "metadata": {},
     "output_type": "execute_result"
    }
   ],
   "source": [
    "filter_ent_CIs_recall"
   ]
  },
  {
   "cell_type": "code",
   "execution_count": 41,
   "metadata": {},
   "outputs": [
    {
     "data": {
      "image/png": "[encoded data removed]",
      "text/plain": [
       "<Figure size 1400x600 with 2 Axes>"
      ]
     },
     "metadata": {},
     "output_type": "display_data"
    }
   ],
   "source": [
    "fig, axs = plt.subplots(1, 2, figsize=(14, 6), sharey=True, sharex=True)\n",
    "\n",
    "name_x = [orig_label_key[mod] for mod in orig_perf_all[\"model\"]]\n",
    "\n",
    "axs[0].errorbar(x=orig_perf_all['x'] - 0.1, y=orig_perf_all['ent_precision'], yerr=all_no_filter_ent_CIs_precision, fmt='o', color='#D41159', label='On original PICKLE test set')\n",
    "axs[0].errorbar(x=filtered_perfs['x'] + 0.1, y=filtered_perfs['ent_precision'], yerr=filter_ent_CIs_precision, fmt='^', color='#1A85FF', label='On model-filtered PICKLE test set')\n",
    "\n",
    "axs[0].set_xticks(orig_perf_all['x'], name_x, size=10, ha='center')\n",
    "axs[0].set_ylabel('Precision')\n",
    "\n",
    "\n",
    "axs[1].errorbar(x=orig_perf_all['x'] - 0.1, y=orig_perf_all['ent_recall'], yerr=all_no_filter_ent_CIs_recall, fmt='o', color='#D41159', label='On original PICKLE test set')\n",
    "axs[1].errorbar(x=filtered_perfs['x'] + 0.1, y=filtered_perfs['ent_recall'], yerr=filter_ent_CIs_recall, fmt='^', color='#1A85FF', label='On model-filtered PICKLE test set')\n",
    "\n",
    "axs[1].set_xticks(orig_perf_all['x'], name_x, size=10, ha='center')\n",
    "axs[1].set_ylabel('Recall')\n",
    "\n",
    "axs[1].legend(bbox_to_anchor=(1, 1.2))\n",
    "\n",
    "fig.supxlabel('Model', size=14)\n",
    "\n",
    "plt.savefig('../data/straying_off_topic_data/model_performance/filtered_vs_not_precision_and_recall_F1.png', format='png', bbox_inches='tight', dpi=600)"
   ]
  },
  {
   "cell_type": "markdown",
   "metadata": {},
   "source": [
    "### Mismatch analysis\n",
    "We need a little more context to understand what's going on with ChemProt here."
   ]
  },
  {
   "cell_type": "code",
   "execution_count": 96,
   "metadata": {},
   "outputs": [],
   "source": [
    "chem_mis_filt = pd.read_csv('../data/straying_off_topic_data/model_output/dygiepp/15Jul2023_all_on_pickle_but_seedev/performance/chemprot_filtered_to_chemprot_25Oct2023_MISMATCHES.csv')\n",
    "chem_mis_orig = pd.read_csv('../data/straying_off_topic_data/model_output/mismatch_analysis/all_on_pickle_08Aug2023_with_mismatches_MISMATCHES.csv')\n",
    "chem_mis_orig = chem_mis_orig[chem_mis_orig['model'] == '/mnt/ufs18/home-118/lotrecks/Shiu_lab/pickle-corpus-code/data/straying_off_topic_data/model_output/dygiepp/15Jul2023_all_on_pickle_but_seedev/model_predictions/15Jul2023_on_pickle_PICKLE_250_abstracts_entities_and_relations_FINAL_05Jul2023_CORRECTED_TEST_no_gold_chemprot_predictions.jsonl']"
   ]
  },
  {
   "cell_type": "code",
   "execution_count": 45,
   "metadata": {},
   "outputs": [
    {
     "data": {
      "text/html": [
       "<div>\n",
       "<style scoped>\n",
       "    .dataframe tbody tr th:only-of-type {\n",
       "        vertical-align: middle;\n",
       "    }\n",
       "\n",
       "    .dataframe tbody tr th {\n",
       "        vertical-align: top;\n",
       "    }\n",
       "\n",
       "    .dataframe thead th {\n",
       "        text-align: right;\n",
       "    }\n",
       "</style>\n",
       "<table border=\"1\" class=\"dataframe\">\n",
       "  <thead>\n",
       "    <tr style=\"text-align: right;\">\n",
       "      <th></th>\n",
       "      <th>doc_key</th>\n",
       "      <th>mismatch_type</th>\n",
       "      <th>sent_num</th>\n",
       "      <th>gold_ent_list</th>\n",
       "      <th>gold_ent_type</th>\n",
       "      <th>pred_ent_list</th>\n",
       "      <th>pred_ent_type</th>\n",
       "      <th>model</th>\n",
       "    </tr>\n",
       "  </thead>\n",
       "  <tbody>\n",
       "    <tr>\n",
       "      <th>0</th>\n",
       "      <td>PMID10549554_abstract</td>\n",
       "      <td>2</td>\n",
       "      <td>0</td>\n",
       "      <td>NaN</td>\n",
       "      <td>NaN</td>\n",
       "      <td>[1, 1, 'chemical', 13.7819, 1.0]</td>\n",
       "      <td>chemical</td>\n",
       "      <td>/mnt/ufs18/home-118/lotrecks/Shiu_lab/pickle-c...</td>\n",
       "    </tr>\n",
       "    <tr>\n",
       "      <th>1</th>\n",
       "      <td>PMID10549554_abstract</td>\n",
       "      <td>2</td>\n",
       "      <td>0</td>\n",
       "      <td>NaN</td>\n",
       "      <td>NaN</td>\n",
       "      <td>[20, 20, 'chemical', 13.8192, 1.0]</td>\n",
       "      <td>chemical</td>\n",
       "      <td>/mnt/ufs18/home-118/lotrecks/Shiu_lab/pickle-c...</td>\n",
       "    </tr>\n",
       "    <tr>\n",
       "      <th>2</th>\n",
       "      <td>PMID10549554_abstract</td>\n",
       "      <td>1</td>\n",
       "      <td>1</td>\n",
       "      <td>[56, 56, 'organic_compound_other']</td>\n",
       "      <td>organic_compound_other</td>\n",
       "      <td>[56, 56, 'chemical', 15.6495, 1.0]</td>\n",
       "      <td>chemical</td>\n",
       "      <td>/mnt/ufs18/home-118/lotrecks/Shiu_lab/pickle-c...</td>\n",
       "    </tr>\n",
       "    <tr>\n",
       "      <th>3</th>\n",
       "      <td>PMID10549554_abstract</td>\n",
       "      <td>2</td>\n",
       "      <td>2</td>\n",
       "      <td>NaN</td>\n",
       "      <td>NaN</td>\n",
       "      <td>[64, 65, 'chemical', 25.7052, 1.0]</td>\n",
       "      <td>chemical</td>\n",
       "      <td>/mnt/ufs18/home-118/lotrecks/Shiu_lab/pickle-c...</td>\n",
       "    </tr>\n",
       "    <tr>\n",
       "      <th>4</th>\n",
       "      <td>PMID10549554_abstract</td>\n",
       "      <td>2</td>\n",
       "      <td>2</td>\n",
       "      <td>NaN</td>\n",
       "      <td>NaN</td>\n",
       "      <td>[71, 71, 'chemical', 17.2749, 1.0]</td>\n",
       "      <td>chemical</td>\n",
       "      <td>/mnt/ufs18/home-118/lotrecks/Shiu_lab/pickle-c...</td>\n",
       "    </tr>\n",
       "  </tbody>\n",
       "</table>\n",
       "</div>"
      ],
      "text/plain": [
       "                 doc_key  mismatch_type  sent_num  \\\n",
       "0  PMID10549554_abstract              2         0   \n",
       "1  PMID10549554_abstract              2         0   \n",
       "2  PMID10549554_abstract              1         1   \n",
       "3  PMID10549554_abstract              2         2   \n",
       "4  PMID10549554_abstract              2         2   \n",
       "\n",
       "                        gold_ent_list           gold_ent_type  \\\n",
       "0                                 NaN                     NaN   \n",
       "1                                 NaN                     NaN   \n",
       "2  [56, 56, 'organic_compound_other']  organic_compound_other   \n",
       "3                                 NaN                     NaN   \n",
       "4                                 NaN                     NaN   \n",
       "\n",
       "                        pred_ent_list pred_ent_type  \\\n",
       "0    [1, 1, 'chemical', 13.7819, 1.0]      chemical   \n",
       "1  [20, 20, 'chemical', 13.8192, 1.0]      chemical   \n",
       "2  [56, 56, 'chemical', 15.6495, 1.0]      chemical   \n",
       "3  [64, 65, 'chemical', 25.7052, 1.0]      chemical   \n",
       "4  [71, 71, 'chemical', 17.2749, 1.0]      chemical   \n",
       "\n",
       "                                               model  \n",
       "0  /mnt/ufs18/home-118/lotrecks/Shiu_lab/pickle-c...  \n",
       "1  /mnt/ufs18/home-118/lotrecks/Shiu_lab/pickle-c...  \n",
       "2  /mnt/ufs18/home-118/lotrecks/Shiu_lab/pickle-c...  \n",
       "3  /mnt/ufs18/home-118/lotrecks/Shiu_lab/pickle-c...  \n",
       "4  /mnt/ufs18/home-118/lotrecks/Shiu_lab/pickle-c...  "
      ]
     },
     "execution_count": 45,
     "metadata": {},
     "output_type": "execute_result"
    }
   ],
   "source": [
    "chem_mis_filt.head()"
   ]
  },
  {
   "cell_type": "markdown",
   "metadata": {},
   "source": [
    "0 is a false negative, 1 is a true positive, 2 is a false positive. How do these change between the models?"
   ]
  },
  {
   "cell_type": "code",
   "execution_count": 100,
   "metadata": {},
   "outputs": [],
   "source": [
    "mis_counts_orig = Counter(chem_mis_orig['mismatch_type'].tolist())\n",
    "mis_counts_filt = Counter(chem_mis_filt['mismatch_type'].tolist())"
   ]
  },
  {
   "cell_type": "code",
   "execution_count": 101,
   "metadata": {},
   "outputs": [
    {
     "data": {
      "text/plain": [
       "(Counter({2: 321, 0: 754, 1: 457}), Counter({2: 645, 1: 133, 0: 79}))"
      ]
     },
     "execution_count": 101,
     "metadata": {},
     "output_type": "execute_result"
    }
   ],
   "source": [
    "mis_counts_orig, mis_counts_filt"
   ]
  },
  {
   "cell_type": "code",
   "execution_count": 105,
   "metadata": {},
   "outputs": [],
   "source": [
    "mis_perc_orig = {k: v/sum(mis_counts_orig.values()) for k, v in mis_counts_orig.items()}\n",
    "mis_perc_filt = {k: v/sum(mis_counts_filt.values()) for k, v in mis_counts_filt.items()}"
   ]
  },
  {
   "cell_type": "code",
   "execution_count": 106,
   "metadata": {},
   "outputs": [
    {
     "data": {
      "text/plain": [
       "({2: 0.20953002610966057, 0: 0.49216710182767626, 1: 0.2983028720626632},\n",
       " {2: 0.7526254375729288, 1: 0.15519253208868145, 0: 0.09218203033838973})"
      ]
     },
     "execution_count": 106,
     "metadata": {},
     "output_type": "execute_result"
    }
   ],
   "source": [
    "mis_perc_orig, mis_perc_filt"
   ]
  },
  {
   "cell_type": "markdown",
   "metadata": {},
   "source": [
    "## Proportions of predicted types\n",
    "We never actually looked at what the proportions of types are in the *predictions* for the out of domain models. We are specifically interested in knowing if SciERC's predictions are dominated by OtherScientificTerm. Let's take a look:"
   ]
  },
  {
   "cell_type": "code",
   "execution_count": 13,
   "metadata": {},
   "outputs": [],
   "source": [
    "model_preds = {\n",
    "    'scierc': '../data/straying_off_topic_data/model_output/dygiepp/15Jul2023_all_on_pickle_but_seedev/model_predictions/15Jul2023_on_pickle_PICKLE_250_abstracts_entities_and_relations_FINAL_05Jul2023_CORRECTED_TEST_no_gold_scierc_predictions.jsonl',\n",
    "    'seedev': '../data/straying_off_topic_data/model_output/dygiepp/15Jul2023_all_on_pickle_but_seedev/model_predictions/17Jul2023_seedev_on_pickle_PICKLE_250_abstracts_entities_and_relations_FINAL_05Jul2023_CORRECTED_TEST_no_gold_seedev_predictions.jsonl'\n",
    "    }"
   ]
  },
  {
   "cell_type": "code",
   "execution_count": 14,
   "metadata": {},
   "outputs": [],
   "source": [
    "with jsonlines.open(abspath(model_preds['scierc'])) as reader:\n",
    "    pred_list = []\n",
    "    for obj in reader:\n",
    "        pred_list.append(obj)\n",
    "pred_types = []\n",
    "for doc in pred_list:\n",
    "    for sent in doc['predicted_ner']:\n",
    "        for ent in sent:\n",
    "            pred_types.append(ent[2])"
   ]
  },
  {
   "cell_type": "code",
   "execution_count": 15,
   "metadata": {},
   "outputs": [
    {
     "data": {
      "text/plain": [
       "Counter({'Method': 352,\n",
       "         'Task': 242,\n",
       "         'Material': 128,\n",
       "         'OtherScientificTerm': 862,\n",
       "         'Metric': 45,\n",
       "         'Generic': 71})"
      ]
     },
     "execution_count": 15,
     "metadata": {},
     "output_type": "execute_result"
    }
   ],
   "source": [
    "scierc_pred_counts = Counter(pred_types)\n",
    "scierc_pred_counts"
   ]
  },
  {
   "cell_type": "code",
   "execution_count": 16,
   "metadata": {},
   "outputs": [
    {
     "data": {
      "text/plain": [
       "0.5070588235294118"
      ]
     },
     "execution_count": 16,
     "metadata": {},
     "output_type": "execute_result"
    }
   ],
   "source": [
    "scierc_pred_counts['OtherScientificTerm']/len(pred_types)"
   ]
  },
  {
   "cell_type": "markdown",
   "metadata": {},
   "source": [
    "We also want to check how many of SeeDev's types are `Environmental_factor` to make sure that it's not a significant portion:"
   ]
  },
  {
   "cell_type": "code",
   "execution_count": 17,
   "metadata": {},
   "outputs": [],
   "source": [
    "with jsonlines.open(abspath(model_preds['seedev'])) as reader:\n",
    "    pred_list = []\n",
    "    for obj in reader:\n",
    "        pred_list.append(obj)\n",
    "pred_types = []\n",
    "for doc in pred_list:\n",
    "    for sent in doc['predicted_ner']:\n",
    "        for ent in sent:\n",
    "            pred_types.append(ent[2])"
   ]
  },
  {
   "cell_type": "code",
   "execution_count": 18,
   "metadata": {},
   "outputs": [
    {
     "data": {
      "text/plain": [
       "Counter({'Protein': 136,\n",
       "         'RNA': 50,\n",
       "         'Regulatory_Network': 92,\n",
       "         'Genotype': 194,\n",
       "         'Pathway': 97,\n",
       "         'Protein_Family': 50,\n",
       "         'Gene': 113,\n",
       "         'Gene_Family': 6,\n",
       "         'Tissue': 176,\n",
       "         'Development_Phase': 100,\n",
       "         'Environmental_Factor': 2,\n",
       "         'Promoter': 1})"
      ]
     },
     "execution_count": 18,
     "metadata": {},
     "output_type": "execute_result"
    }
   ],
   "source": [
    "seedev_pred_counts = Counter(pred_types)\n",
    "seedev_pred_counts"
   ]
  },
  {
   "cell_type": "markdown",
   "metadata": {},
   "source": [
    "There are only two predictions in that category in the entire dataset; I think it's okay that they don't map to anything."
   ]
  },
  {
   "cell_type": "markdown",
   "metadata": {},
   "source": [
    "We also want to look at the types in the PICKLE gold standard, as the fact that the SeeDev model doesn't improve on filtering implies that it already predicts most of the types that are present in the gold standard. We just want to back that up with fact:"
   ]
  },
  {
   "cell_type": "code",
   "execution_count": 19,
   "metadata": {},
   "outputs": [],
   "source": [
    "pick_gold = '../data/straying_off_topic_data/unified_annotations_processed/jsonl_files/PICKLE_250_abstracts_entities_and_relations_FINAL_05Jul2023_CORRECTED_TEST.jsonl'\n",
    "with jsonlines.open(abspath(pick_gold)) as reader:\n",
    "    pick_gold_list = []\n",
    "    for obj in reader:\n",
    "        pick_gold_list.append(obj)\n",
    "gold_types = []\n",
    "for doc in pick_gold_list:\n",
    "    for sent in doc['ner']:\n",
    "        for ent in sent:\n",
    "            gold_types.append(ent[2])"
   ]
  },
  {
   "cell_type": "code",
   "execution_count": 20,
   "metadata": {},
   "outputs": [
    {
     "data": {
      "text/plain": [
       "Counter({'Plant_hormone': 218,\n",
       "         'Biochemical_process': 213,\n",
       "         'Multicellular_organism': 235,\n",
       "         'Biochemical_pathway': 37,\n",
       "         'Protein': 166,\n",
       "         'DNA': 101,\n",
       "         'Organic_compound_other': 111,\n",
       "         'Unicellular_organism': 17,\n",
       "         'Inorganic_compound_other': 51,\n",
       "         'RNA': 6,\n",
       "         'Cell': 3,\n",
       "         'Tissue': 2,\n",
       "         'Element': 14,\n",
       "         'Plant_region': 21,\n",
       "         'Amino_acid_monomer': 9,\n",
       "         'Virus': 6,\n",
       "         'Peptide': 1})"
      ]
     },
     "execution_count": 20,
     "metadata": {},
     "output_type": "execute_result"
    }
   ],
   "source": [
    "pick_counts = Counter(gold_types)\n",
    "pick_counts"
   ]
  },
  {
   "cell_type": "code",
   "execution_count": 21,
   "metadata": {},
   "outputs": [],
   "source": [
    "# Read in the map for SeeDev\n",
    "with open(abspath('../annotation/abstract_scripts/ontology_maps/seeDev_to_PICKLE_entities.json')) as myf:\n",
    "    seedev_map = json.load(myf)"
   ]
  },
  {
   "cell_type": "code",
   "execution_count": 22,
   "metadata": {},
   "outputs": [],
   "source": [
    "seedev_mapped = list(set(seedev_map.values()))"
   ]
  },
  {
   "cell_type": "markdown",
   "metadata": {},
   "source": [
    "What percentage of the gold standard types are covered by those present in the seedev map?"
   ]
  },
  {
   "cell_type": "code",
   "execution_count": 23,
   "metadata": {},
   "outputs": [
    {
     "data": {
      "text/plain": [
       "0.8084227910817506"
      ]
     },
     "execution_count": 23,
     "metadata": {},
     "output_type": "execute_result"
    }
   ],
   "source": [
    "total_covered = 0\n",
    "for typ in seedev_mapped:\n",
    "    total_covered += pick_counts[typ]\n",
    "perc_covered = total_covered/sum(pick_counts.values())\n",
    "perc_covered"
   ]
  },
  {
   "cell_type": "markdown",
   "metadata": {},
   "source": [
    "What about the GENIA map?"
   ]
  },
  {
   "cell_type": "code",
   "execution_count": 25,
   "metadata": {},
   "outputs": [],
   "source": [
    "# Read in the map for GENIA\n",
    "with open(abspath('../annotation/abstract_scripts/ontology_maps/GENIA_to_PICKLE_entities.json')) as myf:\n",
    "    genia_map = json.load(myf)"
   ]
  },
  {
   "cell_type": "code",
   "execution_count": 26,
   "metadata": {},
   "outputs": [],
   "source": [
    "genia_mapped = list(set(genia_map.values()))"
   ]
  },
  {
   "cell_type": "code",
   "execution_count": 28,
   "metadata": {},
   "outputs": [
    {
     "data": {
      "text/plain": [
       "0.22791081750619324"
      ]
     },
     "execution_count": 28,
     "metadata": {},
     "output_type": "execute_result"
    }
   ],
   "source": [
    "total_covered = 0\n",
    "for typ in genia_mapped:\n",
    "    total_covered += pick_counts[typ]\n",
    "perc_covered = total_covered/sum(pick_counts.values())\n",
    "perc_covered"
   ]
  },
  {
   "cell_type": "markdown",
   "metadata": {},
   "source": [
    "## Table for supplemental\n",
    "We want to make a pretty formatted table of the performances on the model-filtered test set for the supplemental."
   ]
  },
  {
   "cell_type": "code",
   "execution_count": 74,
   "metadata": {},
   "outputs": [],
   "source": [
    "def replace_nan(df):\n",
    "    \"\"\"\n",
    "    Replace a NaN in a CI column with (0,0) to avoid downstream errors.\n",
    "    \"\"\"\n",
    "    idxs = df.index[df['model'].isin(['genia', 'genia-lightweight'])]\n",
    "    for col_name in ['rel_precision_CI', 'rel_recall_CI', 'rel_F1_CI']:\n",
    "        for idx in idxs:\n",
    "            df.loc[idx, col_name] = \"(0,0)\"\n",
    "    return df"
   ]
  },
  {
   "cell_type": "code",
   "execution_count": 80,
   "metadata": {
    "scrolled": true
   },
   "outputs": [
    {
     "data": {
      "text/html": [
       "<div>\n",
       "<style scoped>\n",
       "    .dataframe tbody tr th:only-of-type {\n",
       "        vertical-align: middle;\n",
       "    }\n",
       "\n",
       "    .dataframe tbody tr th {\n",
       "        vertical-align: top;\n",
       "    }\n",
       "\n",
       "    .dataframe thead th {\n",
       "        text-align: right;\n",
       "    }\n",
       "</style>\n",
       "<table border=\"1\" class=\"dataframe\">\n",
       "  <thead>\n",
       "    <tr style=\"text-align: right;\">\n",
       "      <th></th>\n",
       "      <th>Model</th>\n",
       "      <th>Entity F1</th>\n",
       "      <th>Entity Precision</th>\n",
       "      <th>Entity Recall</th>\n",
       "    </tr>\n",
       "  </thead>\n",
       "  <tbody>\n",
       "    <tr>\n",
       "      <th>0</th>\n",
       "      <td>SeeDev</td>\n",
       "      <td>0.33, 0.28 to 0.38</td>\n",
       "      <td>0.33, 0.27 to 0.39</td>\n",
       "      <td>0.34, 0.29 to 0.39</td>\n",
       "    </tr>\n",
       "    <tr>\n",
       "      <th>1</th>\n",
       "      <td>ChemProt</td>\n",
       "      <td>0.27, 0.17 to 0.37</td>\n",
       "      <td>0.17, 0.1 to 0.25</td>\n",
       "      <td>0.62, 0.48 to 0.74</td>\n",
       "    </tr>\n",
       "    <tr>\n",
       "      <th>2</th>\n",
       "      <td>GENIA</td>\n",
       "      <td>0.52, 0.43 to 0.58</td>\n",
       "      <td>0.43, 0.34 to 0.51</td>\n",
       "      <td>0.66, 0.59 to 0.71</td>\n",
       "    </tr>\n",
       "    <tr>\n",
       "      <th>3</th>\n",
       "      <td>GENIA lightweight</td>\n",
       "      <td>0.54, 0.46 to 0.61</td>\n",
       "      <td>0.49, 0.39 to 0.58</td>\n",
       "      <td>0.61, 0.54 to 0.67</td>\n",
       "    </tr>\n",
       "    <tr>\n",
       "      <th>4</th>\n",
       "      <td>PICKLE</td>\n",
       "      <td>0.89, 0.87 to 0.91</td>\n",
       "      <td>0.88, 0.86 to 0.91</td>\n",
       "      <td>0.89, 0.88 to 0.91</td>\n",
       "    </tr>\n",
       "  </tbody>\n",
       "</table>\n",
       "</div>"
      ],
      "text/plain": [
       "               Model           Entity F1    Entity Precision  \\\n",
       "0             SeeDev  0.33, 0.28 to 0.38  0.33, 0.27 to 0.39   \n",
       "1           ChemProt  0.27, 0.17 to 0.37   0.17, 0.1 to 0.25   \n",
       "2              GENIA  0.52, 0.43 to 0.58  0.43, 0.34 to 0.51   \n",
       "3  GENIA lightweight  0.54, 0.46 to 0.61  0.49, 0.39 to 0.58   \n",
       "4             PICKLE  0.89, 0.87 to 0.91  0.88, 0.86 to 0.91   \n",
       "\n",
       "        Entity Recall  \n",
       "0  0.34, 0.29 to 0.39  \n",
       "1  0.62, 0.48 to 0.74  \n",
       "2  0.66, 0.59 to 0.71  \n",
       "3  0.61, 0.54 to 0.67  \n",
       "4  0.89, 0.88 to 0.91  "
      ]
     },
     "execution_count": 80,
     "metadata": {},
     "output_type": "execute_result"
    }
   ],
   "source": [
    "# Make pretty table for supplemental\n",
    "label_key = {'chemprot': 'ChemProt',\n",
    "         'scierc': 'SciERC',\n",
    "         'bioinfer': 'BioInfer',\n",
    "         'genia': 'GENIA',\n",
    "         'pickle': 'PICKLE',\n",
    "         'scierc-lightweight': 'SciERC lightweight',\n",
    "         'genia-lightweight': 'GENIA lightweight',\n",
    "         'ace05-relation': 'ACE05',\n",
    "         'seedev': 'SeeDev'}\n",
    "\n",
    "for_table_label_filtered = replace_nan(filtered_perfs).drop(columns=['pred_file', 'gold_std_file', 'x'])\n",
    "# Map model column to semantic names\n",
    "for_table_label_filtered = for_table_label_filtered.replace({'model': label_key})\n",
    "# Combine estimated and their CIs with only 2 decimal points in a single column\n",
    "cols_to_drop = []\n",
    "for typ in ['ent', 'rel']:\n",
    "    semantic_typ = 'Entity'\n",
    "    for k in ['F1', 'precision', 'recall']:\n",
    "        if typ == 'rel':\n",
    "            cols_to_drop.extend([f'{typ}_{k}_CI', f'{typ}_{k}'])\n",
    "        else:\n",
    "            cols_to_drop.extend([f'{typ}_{k}_CI', f'{typ}_{k}'])\n",
    "            semantic_k = 'F1' if k == 'F1' else k.capitalize()\n",
    "            estimate_col = for_table_label_filtered[f'{typ}_{k}'].astype(float).round(2).replace({np.nan: '--'})\n",
    "            ci_col = for_table_label_filtered[f'{typ}_{k}_CI']\n",
    "            ci_col = ci_col.apply(lambda x: ' to '.join([str(round(i, 2)) for i in literal_eval(str(x))])).replace({'0 to 0': ''})\n",
    "            joiner = pd.Series([', ' if estimate_col[i] != '--' else '' for i in range(len(estimate_col))])\n",
    "            joined_col = estimate_col.astype(str) + joiner + ci_col\n",
    "            for_table_label_filtered[f'{semantic_typ} {semantic_k}'] = joined_col\n",
    "for_table_label_filtered = for_table_label_filtered.rename(columns={'model': 'Model'})\n",
    "for_table_label_filtered = for_table_label_filtered.drop(columns=cols_to_drop)\n",
    "for_table_label_filtered"
   ]
  }
 ],
 "metadata": {
  "kernelspec": {
   "display_name": "pickle",
   "language": "python",
   "name": "pickle"
  },
  "language_info": {
   "codemirror_mode": {
    "name": "ipython",
    "version": 3
   },
   "file_extension": ".py",
   "mimetype": "text/x-python",
   "name": "python",
   "nbconvert_exporter": "python",
   "pygments_lexer": "ipython3",
   "version": "3.7.12"
  }
 },
 "nbformat": 4,
 "nbformat_minor": 2
}
